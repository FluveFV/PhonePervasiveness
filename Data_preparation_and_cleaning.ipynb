{
 "cells": [
  {
   "cell_type": "code",
   "execution_count": 1,
   "id": "d46160cf",
   "metadata": {},
   "outputs": [],
   "source": [
    "class color:\n",
    "   PURPLE, CYAN, DARKCYAN, BLUE = '\\033[95m', '\\033[96m', '\\033[36m', '\\033[94m'\n",
    "   GREEN, YELLOW, RED, BOLD = '\\033[92m', '\\033[93m', '\\033[91m','\\033[1m'\n",
    "   UNDERLINE, END = '\\033[4m','\\033[0m'"
   ]
  },
  {
   "cell_type": "markdown",
   "id": "78599b80",
   "metadata": {},
   "source": [
    "## What was done in file_reduction.ipynb:\n",
    "Every touch events was tied to a second. Then, each row of the dataframe would represent how many times one user touched their phone in one second. \n",
    "Now, spikes in the data (defined as the statistical outliers) have been treated and moved to the median of the distribution. "
   ]
  },
  {
   "cell_type": "markdown",
   "id": "a863e51f",
   "metadata": {},
   "source": [
    "# Cleaning Data: reasonable results and time-interpretable grouping.\n",
    "In order to get in second 40 touches per second you need to use all ten fingers on the screen, four times, or alternatively just your thumbs 20 times. In one second. Which is just impossible. Consider this: \n",
    "- the fastest finger tapping rate was set by Japanese musician Kaoru Watanabe in 2014. He achieved a rate of 13.36 taps per second.\n",
    "- Prabhshish Singh (at 13) accurately typed letters from A to Z on a mobile phone in just 3 seconds and 44 milliseconds, as confirmed on August 29, 2022, making it about 7.5 touches each second. \n",
    "\n",
    "Not all users here must be world-record breakers, so for now statistical outliers will be treated as data spikes derived from device malfunction or improper handling of the screen.\n",
    "\n",
    "We need to consider the **extreme touches**. If a value is an outlier it needs to be subsituted with the median. The median is a much more defensible measure because it has much less impact on the statistics than choosing any value, i.e. of the third quartile of the touch distribution. "
   ]
  },
  {
   "cell_type": "code",
   "execution_count": 2,
   "id": "2647ba83",
   "metadata": {},
   "outputs": [],
   "source": [
    "from scipy import stats\n",
    "from tqdm import tqdm\n",
    "import os\n",
    "import pandas as pd\n",
    "import numpy as np\n",
    "import matplotlib.pyplot as plt\n",
    "import seaborn as sns\n",
    "import plotly.express as px"
   ]
  },
  {
   "cell_type": "code",
   "execution_count": 9,
   "id": "a83c5cb9",
   "metadata": {},
   "outputs": [
    {
     "name": "stdout",
     "output_type": "stream",
     "text": [
      "N of observations: 19,859,174\n"
     ]
    },
    {
     "data": {
      "text/html": [
       "<div>\n",
       "<style scoped>\n",
       "    .dataframe tbody tr th:only-of-type {\n",
       "        vertical-align: middle;\n",
       "    }\n",
       "\n",
       "    .dataframe tbody tr th {\n",
       "        vertical-align: top;\n",
       "    }\n",
       "\n",
       "    .dataframe thead th {\n",
       "        text-align: right;\n",
       "    }\n",
       "</style>\n",
       "<table border=\"1\" class=\"dataframe\">\n",
       "  <thead>\n",
       "    <tr style=\"text-align: right;\">\n",
       "      <th></th>\n",
       "      <th>userid</th>\n",
       "      <th>day</th>\n",
       "      <th>timestamp</th>\n",
       "      <th>touches</th>\n",
       "    </tr>\n",
       "  </thead>\n",
       "  <tbody>\n",
       "    <tr>\n",
       "      <th>0</th>\n",
       "      <td>1</td>\n",
       "      <td>2020-11-22</td>\n",
       "      <td>2020-11-22 00:00:00</td>\n",
       "      <td>6</td>\n",
       "    </tr>\n",
       "    <tr>\n",
       "      <th>1</th>\n",
       "      <td>1</td>\n",
       "      <td>2020-11-22</td>\n",
       "      <td>2020-11-22 00:00:03</td>\n",
       "      <td>1</td>\n",
       "    </tr>\n",
       "    <tr>\n",
       "      <th>2</th>\n",
       "      <td>1</td>\n",
       "      <td>2020-11-22</td>\n",
       "      <td>2020-11-22 00:00:06</td>\n",
       "      <td>2</td>\n",
       "    </tr>\n",
       "  </tbody>\n",
       "</table>\n",
       "</div>"
      ],
      "text/plain": [
       "   userid         day            timestamp  touches\n",
       "0       1  2020-11-22  2020-11-22 00:00:00        6\n",
       "1       1  2020-11-22  2020-11-22 00:00:03        1\n",
       "2       1  2020-11-22  2020-11-22 00:00:06        2"
      ]
     },
     "execution_count": 9,
     "metadata": {},
     "output_type": "execute_result"
    }
   ],
   "source": [
    "by_second_unclean = pd.read_csv(\"Processed Data/touch_sensor_unclean.csv\") \n",
    "by_second_unclean = by_second_unclean.drop('Unnamed: 0', axis='columns')\n",
    "print(f\"N of observations: {by_second_unclean.shape[0]:,}\")\n",
    "by_second_unclean.head(3)"
   ]
  },
  {
   "cell_type": "markdown",
   "id": "2666ac1e",
   "metadata": {},
   "source": [
    "A brief, general look at statistical outliers:"
   ]
  },
  {
   "cell_type": "code",
   "execution_count": 10,
   "id": "ce751cb3",
   "metadata": {},
   "outputs": [
    {
     "name": "stdout",
     "output_type": "stream",
     "text": [
      "At least one outlier belongs to: 128 out of 201 of the users\n",
      "\u001b[1mOutliers are 355,932 out of 19,859,174 = 1.79%\u001b[0m\n",
      "touches\n",
      "1      4266857\n",
      "2      4127960\n",
      "3      2299172\n",
      "4      1728830\n",
      "5      1200586\n",
      "        ...   \n",
      "960          1\n",
      "966          1\n",
      "983          1\n",
      "985          1\n",
      "998          1\n",
      "Name: count, Length: 565, dtype: int64\n"
     ]
    },
    {
     "data": {
      "image/png": "[encoded data removed]",
      "text/plain": [
       "<Figure size 640x480 with 1 Axes>"
      ]
     },
     "metadata": {},
     "output_type": "display_data"
    }
   ],
   "source": [
    "z = np.abs(stats.zscore(by_second_unclean['touches']))\n",
    "threshold = 3  #this is the typical chosen score for outliers\n",
    "outliers = by_second_unclean[z > threshold]\n",
    "#print(\"User IDs with outlier observations:\\n\", np.sort(outliers.userid.unique()))\n",
    "print(f\"At least one outlier belongs to: {outliers.userid.unique().shape[0]:,} out of {by_second_unclean.userid.unique().shape[0]:,} of the users\")    #should be 1.79%\n",
    "print(color.BOLD + f\"Outliers are {outliers.shape[0]:,} out of {by_second_unclean.shape[0]:,} = {str(round(outliers.shape[0]/ by_second_unclean.shape[0]*100, 2))}%\" + color.END)\n",
    "print(by_second_unclean.touches.value_counts().sort_index())\n",
    "sns.boxenplot(data = by_second_unclean, x=by_second_unclean.touches, color='#4CC9F0')\n",
    "plt.show()"
   ]
  },
  {
   "cell_type": "markdown",
   "id": "97e0db93",
   "metadata": {},
   "source": [
    "Now, treating those statistical outliers. **Run the following cell only once.**"
   ]
  },
  {
   "cell_type": "code",
   "execution_count": 11,
   "id": "1964d640",
   "metadata": {},
   "outputs": [
    {
     "name": "stderr",
     "output_type": "stream",
     "text": [
      "/tmp/ipykernel_35598/1054526867.py:6: SettingWithCopyWarning: \n",
      "A value is trying to be set on a copy of a slice from a DataFrame\n",
      "\n",
      "See the caveats in the documentation: https://pandas.pydata.org/pandas-docs/stable/user_guide/indexing.html#returning-a-view-versus-a-copy\n",
      "  by_second.touches[outliers] = np.nan\n"
     ]
    },
    {
     "data": {
      "text/html": [
       "<div>\n",
       "<style scoped>\n",
       "    .dataframe tbody tr th:only-of-type {\n",
       "        vertical-align: middle;\n",
       "    }\n",
       "\n",
       "    .dataframe tbody tr th {\n",
       "        vertical-align: top;\n",
       "    }\n",
       "\n",
       "    .dataframe thead th {\n",
       "        text-align: right;\n",
       "    }\n",
       "</style>\n",
       "<table border=\"1\" class=\"dataframe\">\n",
       "  <thead>\n",
       "    <tr style=\"text-align: right;\">\n",
       "      <th></th>\n",
       "      <th>userid</th>\n",
       "      <th>day</th>\n",
       "      <th>timestamp</th>\n",
       "      <th>touches</th>\n",
       "    </tr>\n",
       "  </thead>\n",
       "  <tbody>\n",
       "    <tr>\n",
       "      <th>0</th>\n",
       "      <td>1</td>\n",
       "      <td>2020-11-22</td>\n",
       "      <td>2020-11-22 00:00:00</td>\n",
       "      <td>6.0</td>\n",
       "    </tr>\n",
       "    <tr>\n",
       "      <th>1</th>\n",
       "      <td>1</td>\n",
       "      <td>2020-11-22</td>\n",
       "      <td>2020-11-22 00:00:03</td>\n",
       "      <td>1.0</td>\n",
       "    </tr>\n",
       "    <tr>\n",
       "      <th>2</th>\n",
       "      <td>1</td>\n",
       "      <td>2020-11-22</td>\n",
       "      <td>2020-11-22 00:00:06</td>\n",
       "      <td>2.0</td>\n",
       "    </tr>\n",
       "  </tbody>\n",
       "</table>\n",
       "</div>"
      ],
      "text/plain": [
       "   userid         day            timestamp  touches\n",
       "0       1  2020-11-22  2020-11-22 00:00:00      6.0\n",
       "1       1  2020-11-22  2020-11-22 00:00:03      1.0\n",
       "2       1  2020-11-22  2020-11-22 00:00:06      2.0"
      ]
     },
     "execution_count": 11,
     "metadata": {},
     "output_type": "execute_result"
    }
   ],
   "source": [
    "# Replacing the 1.79% outliers for the data that has seconds as units with their median\n",
    "median, std = by_second_unclean['touches'].median(), by_second_unclean['touches'].std()\n",
    "outliers = (by_second_unclean['touches'] - median).abs() > std\n",
    "\n",
    "by_second = by_second_unclean    \n",
    "by_second.touches[outliers] = np.nan\n",
    "by_second['touches'].fillna(median, inplace=True)   # by_second is the cleaner version\n",
    "\n",
    "by_second.head(3)"
   ]
  },
  {
   "cell_type": "code",
   "execution_count": 13,
   "id": "f1bc6cc6",
   "metadata": {},
   "outputs": [],
   "source": [
    "by_second.to_csv('Processed Data/by_second_clean.csv')"
   ]
  },
  {
   "cell_type": "code",
   "execution_count": 12,
   "id": "60460d95",
   "metadata": {},
   "outputs": [
    {
     "data": {
      "image/png": "[encoded data removed]",
      "text/plain": [
       "<Figure size 640x480 with 1 Axes>"
      ]
     },
     "metadata": {},
     "output_type": "display_data"
    }
   ],
   "source": [
    "sns.boxenplot(data = by_second, x=by_second.touches, color='#4CC9F0', \n",
    "              k_depth='trustworthy', trust_alpha=0.05)\n",
    "plt.show()"
   ]
  },
  {
   "cell_type": "code",
   "execution_count": 15,
   "id": "900a53f8",
   "metadata": {},
   "outputs": [
    {
     "data": {
      "image/png": "[encoded data removed]",
      "text/plain": [
       "<Figure size 640x480 with 1 Axes>"
      ]
     },
     "metadata": {},
     "output_type": "display_data"
    }
   ],
   "source": [
    "g = sns.histplot(data = by_second, x=by_second.touches, stat='percent', color='#4CC9F0', bins=13)\n",
    "g.text(x=0.5, y=1.1, s='Smartphone screen interaction per second:', fontsize=16, weight='bold', ha='center', va='bottom', transform=g.transAxes)\n",
    "g.text(x=0.5, y=1.05, s='Distribution of touches per second, obtained by grouping every touch event.', fontsize=8, alpha=0.75, ha='center', va='bottom', transform=g.transAxes)\n",
    "g.set_xticks(range(14))\n",
    "g.set_xticklabels([0,1,2,3,4,5,6,7,8,9,10,11,12,13])\n",
    "plt.show()"
   ]
  },
  {
   "attachments": {
    "image-2.png": {
     "image/png": "[encoded data removed]"
    }
   },
   "cell_type": "markdown",
   "id": "7efcffd1",
   "metadata": {},
   "source": [
    "## Operations in the next sections:\n",
    "- Cleaning data from lacking / dropout users\n",
    "- Applying the concept of circadian time on days and hours\n",
    "\n",
    "Very obviously, only the users that gave enough days to be useful the experiment should be considered. Below I plotted separately the distribution of events (seconds in which there is at least one touch) over the days in which data was collected. \n",
    "\n",
    "Ideally, the observation should the 15 days of maximum observation, **starting from when most users logged** and **ending when they start to drop out massively**. Personally, I choose the two week period starting from 2020/11/12 and ending 2020/11/27, which is also the same time around the WeNet project sent a notification each half-hour of the day to users - in the time diary data of the project. It will help with more accuracy for activities and locations that the user was in while using the smartphone.\n",
    "### Distribution: count of events (grouped by second) registered between the start and end of observation period\n",
    "![image-2.png](attachment:image-2.png)\n",
    "\n",
    "What also needs to be done is to mark each row as belonging to a specific circadian day - differently from clock time, but not independently. \n",
    "The logic is exemplified as follows: when one user is scrolling their phone from 23:59:00 until 00:20:10 and then went to sleep and did not wake up until the morning after, and we want to group per day (for visualization and analysis purposes) the times they were scrolling, we should count everything that happened from 00:00:00 to 00:20:10 and consider it part of the previous day. This logic should seamlessy apply to the many students that don't stop their day before 24:00:00.  \n",
    "\n",
    "According to prof. Bison and the WeNet team, an ideal breakpoint for counting circadian day activities is between 04:30:00 and 05:00:00, because at that time everyone usually has finished their day and the next will start in a few minutes or hours. "
   ]
  },
  {
   "cell_type": "code",
   "execution_count": 3,
   "id": "9b4066b6",
   "metadata": {},
   "outputs": [
    {
     "name": "stdout",
     "output_type": "stream",
     "text": [
      "CPU times: user 4 µs, sys: 1 µs, total: 5 µs\n",
      "Wall time: 8.34 µs\n"
     ]
    }
   ],
   "source": [
    "%time\n",
    "by_second = pd.read_csv('Processed Data/by_second_clean.csv')\n",
    "timestamp, day = pd.to_datetime(by_second.timestamp, yearfirst=True), pd.to_datetime(by_second.day, yearfirst=True)\n",
    "by_second.timestamp, by_second.day = timestamp, day\n",
    "by_second = by_second.drop('Unnamed: 0',axis='columns')"
   ]
  },
  {
   "cell_type": "code",
   "execution_count": 4,
   "id": "244dc141",
   "metadata": {},
   "outputs": [
    {
     "data": {
      "text/html": [
       "<div>\n",
       "<style scoped>\n",
       "    .dataframe tbody tr th:only-of-type {\n",
       "        vertical-align: middle;\n",
       "    }\n",
       "\n",
       "    .dataframe tbody tr th {\n",
       "        vertical-align: top;\n",
       "    }\n",
       "\n",
       "    .dataframe thead th {\n",
       "        text-align: right;\n",
       "    }\n",
       "</style>\n",
       "<table border=\"1\" class=\"dataframe\">\n",
       "  <thead>\n",
       "    <tr style=\"text-align: right;\">\n",
       "      <th></th>\n",
       "      <th>userid</th>\n",
       "      <th>day</th>\n",
       "      <th>timestamp</th>\n",
       "      <th>touches</th>\n",
       "    </tr>\n",
       "  </thead>\n",
       "  <tbody>\n",
       "    <tr>\n",
       "      <th>0</th>\n",
       "      <td>1</td>\n",
       "      <td>2020-11-22</td>\n",
       "      <td>2020-11-22 00:00:00</td>\n",
       "      <td>6.0</td>\n",
       "    </tr>\n",
       "    <tr>\n",
       "      <th>1</th>\n",
       "      <td>1</td>\n",
       "      <td>2020-11-22</td>\n",
       "      <td>2020-11-22 00:00:03</td>\n",
       "      <td>1.0</td>\n",
       "    </tr>\n",
       "    <tr>\n",
       "      <th>2</th>\n",
       "      <td>1</td>\n",
       "      <td>2020-11-22</td>\n",
       "      <td>2020-11-22 00:00:06</td>\n",
       "      <td>2.0</td>\n",
       "    </tr>\n",
       "    <tr>\n",
       "      <th>3</th>\n",
       "      <td>1</td>\n",
       "      <td>2020-11-22</td>\n",
       "      <td>2020-11-22 00:00:53</td>\n",
       "      <td>2.0</td>\n",
       "    </tr>\n",
       "    <tr>\n",
       "      <th>4</th>\n",
       "      <td>1</td>\n",
       "      <td>2020-11-22</td>\n",
       "      <td>2020-11-22 00:00:54</td>\n",
       "      <td>1.0</td>\n",
       "    </tr>\n",
       "  </tbody>\n",
       "</table>\n",
       "</div>"
      ],
      "text/plain": [
       "   userid        day           timestamp  touches\n",
       "0       1 2020-11-22 2020-11-22 00:00:00      6.0\n",
       "1       1 2020-11-22 2020-11-22 00:00:03      1.0\n",
       "2       1 2020-11-22 2020-11-22 00:00:06      2.0\n",
       "3       1 2020-11-22 2020-11-22 00:00:53      2.0\n",
       "4       1 2020-11-22 2020-11-22 00:00:54      1.0"
      ]
     },
     "execution_count": 4,
     "metadata": {},
     "output_type": "execute_result"
    }
   ],
   "source": [
    "by_second.head()"
   ]
  },
  {
   "cell_type": "code",
   "execution_count": 5,
   "id": "c6fd1cf8",
   "metadata": {},
   "outputs": [
    {
     "name": "stderr",
     "output_type": "stream",
     "text": [
      "100%|█████████████████████████████████████████| 201/201 [00:05<00:00, 36.76it/s]"
     ]
    },
    {
     "name": "stdout",
     "output_type": "stream",
     "text": [
      "N: 201\n",
      "Done!\n"
     ]
    },
    {
     "name": "stderr",
     "output_type": "stream",
     "text": [
      "\n"
     ]
    }
   ],
   "source": [
    "IDs=by_second.userid.unique()\n",
    "IDs.sort()\n",
    "\n",
    "#data structure:\n",
    "'''\n",
    "{id: [2020-11-12, 2020-11,13, 2020-11-14,...]}   #for every ID, there is a list of days in which there is at least one observation from them. \n",
    "'''\n",
    "user_activity = dict()\n",
    "for ID in tqdm(IDs):\n",
    "    id_act = by_second[by_second.userid == ID]\n",
    "    # adding to the dictionary\n",
    "    user_activity[f'{ID}'] = pd.Series(id_act.day.unique()).sort_values().reset_index()\n",
    "\n",
    "print('N:',len(user_activity.keys()))\n",
    "print(\"Done!\")"
   ]
  },
  {
   "cell_type": "markdown",
   "id": "f37a41b3",
   "metadata": {},
   "source": [
    "Now, I need to know who went through the whole period and who didn't. This means:\n",
    "- counting the days the user sent "
   ]
  },
  {
   "cell_type": "code",
   "execution_count": 6,
   "id": "a0823a2d",
   "metadata": {},
   "outputs": [
    {
     "data": {
      "text/html": [
       "<div>\n",
       "<style scoped>\n",
       "    .dataframe tbody tr th:only-of-type {\n",
       "        vertical-align: middle;\n",
       "    }\n",
       "\n",
       "    .dataframe tbody tr th {\n",
       "        vertical-align: top;\n",
       "    }\n",
       "\n",
       "    .dataframe thead th {\n",
       "        text-align: right;\n",
       "    }\n",
       "</style>\n",
       "<table border=\"1\" class=\"dataframe\">\n",
       "  <thead>\n",
       "    <tr style=\"text-align: right;\">\n",
       "      <th></th>\n",
       "      <th>userid</th>\n",
       "      <th>start</th>\n",
       "      <th>finish</th>\n",
       "      <th>tot</th>\n",
       "      <th>cons</th>\n",
       "    </tr>\n",
       "  </thead>\n",
       "  <tbody>\n",
       "    <tr>\n",
       "      <th>0</th>\n",
       "      <td>1</td>\n",
       "      <td>2020-11-12</td>\n",
       "      <td>2020-11-25</td>\n",
       "      <td>13</td>\n",
       "      <td>False</td>\n",
       "    </tr>\n",
       "  </tbody>\n",
       "</table>\n",
       "</div>"
      ],
      "text/plain": [
       "   userid       start      finish  tot   cons\n",
       "0       1  2020-11-12  2020-11-25   13  False"
      ]
     },
     "execution_count": 6,
     "metadata": {},
     "output_type": "execute_result"
    }
   ],
   "source": [
    "def gantt_data_org(k, v):\n",
    "    #gantt data is named after the Gantt chart, although it's not present here\n",
    "    \n",
    "    #S is the Series of days; it's best if it's a consecutive 14 days (regardless of when they start)\n",
    "    \n",
    "    tot = 0\n",
    "    start = np.nan\n",
    "    end = np.nan\n",
    "    consecutive = False\n",
    "    \n",
    "    if len(v):  #if it's not empty, it will check for continuity\n",
    "        tot = (pd.to_datetime(v[-1]) - pd.to_datetime(v[0])).days\n",
    "        start, end = v[0], v[-1]\n",
    "        for i in range(len(v)-1):\n",
    "            v[i]  #current\n",
    "            v[i+1] #next\n",
    "            difference = (pd.to_datetime(v[i+1]) - pd.to_datetime(v[i])).days\n",
    "            if difference >= 2:    # if there is more than one day of difference it means that there was one \n",
    "                                   # day in the data with no observations\n",
    "                consecutive = False\n",
    "                break\n",
    "            else:\n",
    "                consecutive = True\n",
    "                \n",
    "    return pd.DataFrame([[k, start, end, tot, consecutive]], \n",
    "                        columns=['userid', 'start', 'finish', 'tot', 'cons'])\n",
    "\n",
    "#example of output:\n",
    "gantt_data_org(1, [\"2020-11-12\", \"2020-11-13\", \"2020-11-14\", \"2020-11-15\", \"2020-11-16\", \n",
    "                   \"2020-11-17\",   \"2020-11-18\", \"2020-11-19\", \"2020-11-25\"])\n"
   ]
  },
  {
   "cell_type": "code",
   "execution_count": 8,
   "id": "41dde2d3",
   "metadata": {},
   "outputs": [],
   "source": [
    "gantt_data = pd.DataFrame(columns=[\"userid\", \"start\", \"finish\", \"tot\", \"cons\"])\n",
    "for ID, days in user_activity.items():\n",
    "    res = gantt_data_org(ID, days[0].tolist())\n",
    "    gantt_data = pd.concat([gantt_data, res], ignore_index=True)"
   ]
  },
  {
   "cell_type": "code",
   "execution_count": 9,
   "id": "67875b79",
   "metadata": {},
   "outputs": [
    {
     "data": {
      "text/plain": [
       "tot\n",
       "0     10\n",
       "1      2\n",
       "2      2\n",
       "3      4\n",
       "4      1\n",
       "5      3\n",
       "6      2\n",
       "7      2\n",
       "8      1\n",
       "9      4\n",
       "10     1\n",
       "11     3\n",
       "12     1\n",
       "13     3\n",
       "14     4\n",
       "15     3\n",
       "17     2\n",
       "18     3\n",
       "19     2\n",
       "20     7\n",
       "22     1\n",
       "23     5\n",
       "24     1\n",
       "26     3\n",
       "27     1\n",
       "28     5\n",
       "29    13\n",
       "30    49\n",
       "31    34\n",
       "32    14\n",
       "33     5\n",
       "34     4\n",
       "35     5\n",
       "36     1\n",
       "Name: count, dtype: int64"
      ]
     },
     "execution_count": 9,
     "metadata": {},
     "output_type": "execute_result"
    }
   ],
   "source": [
    "gantt_data.tot.value_counts().sort_index()"
   ]
  },
  {
   "cell_type": "code",
   "execution_count": 10,
   "id": "c36d2195",
   "metadata": {},
   "outputs": [
    {
     "name": "stdout",
     "output_type": "stream",
     "text": [
      "Users with 14 days or less of recorded activity:\n",
      "\u001b[1m43\u001b[0m\n",
      "15 days or more of recorded activity: \n",
      "\u001b[1m158\u001b[0m\n",
      "\n",
      "Total: \n",
      "\u001b[1m201\u001b[0m\n"
     ]
    }
   ],
   "source": [
    "less_than_14 = sum(gantt_data.tot.value_counts().sort_index()[0:15])\n",
    "more_than_14 = sum(gantt_data.tot.value_counts().sort_index()[15:])\n",
    "total = less_than_14 + more_than_14\n",
    "print(f\"Users with 14 days or less of recorded activity:\\n{color.BOLD}{less_than_14}{color.END}\")\n",
    "print(f\"15 days or more of recorded activity: \\n{color.BOLD}{more_than_14}{color.END}\")\n",
    "print()\n",
    "print(f\"Total: \\n{color.BOLD}{total}{color.END}\")"
   ]
  },
  {
   "cell_type": "markdown",
   "id": "40572541",
   "metadata": {},
   "source": [
    "There are 43 users who are absolutely not eligible for my analysis and are considered dropped out because they didn't even register 15 days, but 135 users who did well. Now that the general distribution has been seen, I will apply the same filter (people who did 15 days and people who did 14 or less) but regarding the specific time period of 12th November to the 27th of the same month.\n",
    "\n",
    "As we can see in the figure below, most people dropped out around the 30th day or so because they complied with a continuation of the experiment, which was facultative for extending the data. Unfortunately, since in another dataset containing the time diary data, in the 12-27 period of November there is supposedly an answer at least every 30 minutes, and after there is an answer at least every 60 minutes (the notifications from the app recording the data were fired at different rates from one period to the other), making it less accurate."
   ]
  },
  {
   "cell_type": "code",
   "execution_count": 11,
   "id": "608a9b21",
   "metadata": {},
   "outputs": [
    {
     "data": {
      "image/png": "[encoded data removed]",
      "text/plain": [
       "<Figure size 640x480 with 1 Axes>"
      ]
     },
     "metadata": {},
     "output_type": "display_data"
    }
   ],
   "source": [
    "g = gantt_data[gantt_data.cons==True]\n",
    "\n",
    "sns.histplot(data=g, x=g.tot, stat=\"percent\", color=\"#660033\")\n",
    "plt.suptitle(\"Each bar height represents the frequency of days for users from start until the end\", y=0.91, ha='center', fontsize=8)\n",
    "plt.title(\"Consecutive days for users before dropping out\", y=1.04,fontsize=18)\n",
    "plt.show()"
   ]
  },
  {
   "cell_type": "code",
   "execution_count": 12,
   "id": "2cb812fc",
   "metadata": {},
   "outputs": [
    {
     "name": "stderr",
     "output_type": "stream",
     "text": [
      "100%|█████████████████████████████████████████| 201/201 [00:13<00:00, 14.87it/s]\n"
     ]
    },
    {
     "name": "stdout",
     "output_type": "stream",
     "text": [
      "N: 201\n",
      "New Filtering done!\n"
     ]
    },
    {
     "data": {
      "text/plain": [
       "tot\n",
       "0      11\n",
       "1       3\n",
       "2       4\n",
       "3       3\n",
       "4       3\n",
       "5       3\n",
       "7       3\n",
       "8       1\n",
       "9       2\n",
       "10      2\n",
       "11      2\n",
       "12      4\n",
       "13      9\n",
       "14      4\n",
       "15    147\n",
       "Name: count, dtype: int64"
      ]
     },
     "execution_count": 12,
     "metadata": {},
     "output_type": "execute_result"
    }
   ],
   "source": [
    "# Filtering for period of interest\n",
    "user_activity = dict()\n",
    "for ID in tqdm(IDs):\n",
    "    id_act = by_second[by_second.userid == ID]\n",
    "    id_act = id_act[id_act.day.dt.month == 11]\n",
    "    id_act = id_act[id_act.day.dt.day <= 27]\n",
    "    id_act = id_act[id_act.day.dt.day >= 12]\n",
    "    # adding to the dictionary\n",
    "    user_activity[f'{ID}'] = pd.Series(id_act.day.unique()).sort_values().reset_index()\n",
    "print(\"N:\",len(user_activity.keys()))\n",
    "print(\"New Filtering done!\")\n",
    "\n",
    "gantt_data = pd.DataFrame(columns=[\"userid\", \"start\", \"finish\", \"tot\", \"cons\"])\n",
    "for ID, days in user_activity.items():\n",
    "    res = gantt_data_org(ID, days[0].tolist())\n",
    "    gantt_data = pd.concat([gantt_data, res], ignore_index=True)\n",
    "gantt_data.tot.value_counts().sort_index()"
   ]
  },
  {
   "cell_type": "code",
   "execution_count": 13,
   "id": "a56eca46",
   "metadata": {},
   "outputs": [
    {
     "data": {
      "image/png": "[encoded data removed]",
      "text/plain": [
       "<Figure size 640x480 with 1 Axes>"
      ]
     },
     "metadata": {},
     "output_type": "display_data"
    }
   ],
   "source": [
    "g = gantt_data[gantt_data.cons==True]\n",
    "p = sns.histplot(data=g, x=g.tot, stat=\"percent\", color=\"#660033\", bins=15)\n",
    "p.set_xticks(range(16)) \n",
    "plt.suptitle(\"Each bar height represents the frequency of days for users from start until the end\", y=0.91, ha='center', fontsize=8)\n",
    "plt.title(\"Consecutive days for users before dropping out\", y=1.04,fontsize=18)\n",
    "plt.show()"
   ]
  },
  {
   "cell_type": "code",
   "execution_count": 17,
   "id": "062db4c3",
   "metadata": {},
   "outputs": [
    {
     "name": "stdout",
     "output_type": "stream",
     "text": [
      "Expected drop in user id count: from 201 to 151\n",
      "Rows of the whole dataset after selection: \n",
      "\u001b[1m19,859,174\u001b[0m\n",
      "Rows of the whole dataset after selection: \n",
      "\u001b[1m18,515,601\u001b[0m\n",
      "N users: 151\n"
     ]
    }
   ],
   "source": [
    "dropouts = gantt_data[gantt_data.tot < 14].userid\n",
    "print(\"Expected drop in user id count: from\", gantt_data.shape[0], \"to\", gantt_data.shape[0] - len(dropouts))\n",
    "\n",
    "df = by_second[~ by_second['userid'].isin(dropouts.astype(int))]\n",
    "print(f'Rows of the whole dataset after selection: \\n{color.BOLD}{by_second.shape[0]:,}{color.END}', )\n",
    "print(f'Rows of the whole dataset after selection: \\n{color.BOLD}{df.shape[0]:,}{color.END}', )\n",
    "print(\"N° of users:\", len(df.userid.unique()))"
   ]
  },
  {
   "cell_type": "markdown",
   "id": "049c66a7",
   "metadata": {},
   "source": [
    "Now, denoting what time a row belongs to using human day measures:"
   ]
  },
  {
   "cell_type": "code",
   "execution_count": 29,
   "id": "8b78c446",
   "metadata": {},
   "outputs": [
    {
     "name": "stderr",
     "output_type": "stream",
     "text": [
      "/tmp/ipykernel_24546/1448367285.py:1: SettingWithCopyWarning: \n",
      "A value is trying to be set on a copy of a slice from a DataFrame.\n",
      "Try using .loc[row_indexer,col_indexer] = value instead\n",
      "\n",
      "See the caveats in the documentation: https://pandas.pydata.org/pandas-docs/stable/user_guide/indexing.html#returning-a-view-versus-a-copy\n",
      "  df['circaday'] = df['timestamp'].dt.hour\n"
     ]
    }
   ],
   "source": [
    "df['circaday'] = df[(df['max_speed'] > 1) & (df['shield'] < 8)]"
   ]
  },
  {
   "cell_type": "code",
   "execution_count": 22,
   "id": "7ca68d4e",
   "metadata": {},
   "outputs": [
    {
     "data": {
      "text/html": [
       "<div>\n",
       "<style scoped>\n",
       "    .dataframe tbody tr th:only-of-type {\n",
       "        vertical-align: middle;\n",
       "    }\n",
       "\n",
       "    .dataframe tbody tr th {\n",
       "        vertical-align: top;\n",
       "    }\n",
       "\n",
       "    .dataframe thead th {\n",
       "        text-align: right;\n",
       "    }\n",
       "</style>\n",
       "<table border=\"1\" class=\"dataframe\">\n",
       "  <thead>\n",
       "    <tr style=\"text-align: right;\">\n",
       "      <th></th>\n",
       "      <th>userid</th>\n",
       "      <th>day</th>\n",
       "      <th>timestamp</th>\n",
       "      <th>touches</th>\n",
       "      <th>circaday</th>\n",
       "    </tr>\n",
       "  </thead>\n",
       "  <tbody>\n",
       "    <tr>\n",
       "      <th>0</th>\n",
       "      <td>1</td>\n",
       "      <td>2020-11-22</td>\n",
       "      <td>2020-11-22 00:00:00</td>\n",
       "      <td>6.0</td>\n",
       "      <td>0</td>\n",
       "    </tr>\n",
       "    <tr>\n",
       "      <th>1</th>\n",
       "      <td>1</td>\n",
       "      <td>2020-11-22</td>\n",
       "      <td>2020-11-22 00:00:03</td>\n",
       "      <td>1.0</td>\n",
       "      <td>0</td>\n",
       "    </tr>\n",
       "    <tr>\n",
       "      <th>2</th>\n",
       "      <td>1</td>\n",
       "      <td>2020-11-22</td>\n",
       "      <td>2020-11-22 00:00:06</td>\n",
       "      <td>2.0</td>\n",
       "      <td>0</td>\n",
       "    </tr>\n",
       "    <tr>\n",
       "      <th>3</th>\n",
       "      <td>1</td>\n",
       "      <td>2020-11-22</td>\n",
       "      <td>2020-11-22 00:00:53</td>\n",
       "      <td>2.0</td>\n",
       "      <td>0</td>\n",
       "    </tr>\n",
       "    <tr>\n",
       "      <th>4</th>\n",
       "      <td>1</td>\n",
       "      <td>2020-11-22</td>\n",
       "      <td>2020-11-22 00:00:54</td>\n",
       "      <td>1.0</td>\n",
       "      <td>0</td>\n",
       "    </tr>\n",
       "    <tr>\n",
       "      <th>...</th>\n",
       "      <td>...</td>\n",
       "      <td>...</td>\n",
       "      <td>...</td>\n",
       "      <td>...</td>\n",
       "      <td>...</td>\n",
       "    </tr>\n",
       "    <tr>\n",
       "      <th>19859169</th>\n",
       "      <td>208</td>\n",
       "      <td>2020-11-24</td>\n",
       "      <td>2020-11-24 23:06:12</td>\n",
       "      <td>2.0</td>\n",
       "      <td>23</td>\n",
       "    </tr>\n",
       "    <tr>\n",
       "      <th>19859170</th>\n",
       "      <td>208</td>\n",
       "      <td>2020-11-24</td>\n",
       "      <td>2020-11-24 23:06:13</td>\n",
       "      <td>1.0</td>\n",
       "      <td>23</td>\n",
       "    </tr>\n",
       "    <tr>\n",
       "      <th>19859171</th>\n",
       "      <td>208</td>\n",
       "      <td>2020-11-24</td>\n",
       "      <td>2020-11-24 23:06:14</td>\n",
       "      <td>2.0</td>\n",
       "      <td>23</td>\n",
       "    </tr>\n",
       "    <tr>\n",
       "      <th>19859172</th>\n",
       "      <td>208</td>\n",
       "      <td>2020-11-24</td>\n",
       "      <td>2020-11-24 23:06:18</td>\n",
       "      <td>1.0</td>\n",
       "      <td>23</td>\n",
       "    </tr>\n",
       "    <tr>\n",
       "      <th>19859173</th>\n",
       "      <td>208</td>\n",
       "      <td>2020-11-24</td>\n",
       "      <td>2020-11-24 23:06:19</td>\n",
       "      <td>2.0</td>\n",
       "      <td>23</td>\n",
       "    </tr>\n",
       "  </tbody>\n",
       "</table>\n",
       "<p>18515601 rows × 5 columns</p>\n",
       "</div>"
      ],
      "text/plain": [
       "          userid        day           timestamp  touches  circaday\n",
       "0              1 2020-11-22 2020-11-22 00:00:00      6.0         0\n",
       "1              1 2020-11-22 2020-11-22 00:00:03      1.0         0\n",
       "2              1 2020-11-22 2020-11-22 00:00:06      2.0         0\n",
       "3              1 2020-11-22 2020-11-22 00:00:53      2.0         0\n",
       "4              1 2020-11-22 2020-11-22 00:00:54      1.0         0\n",
       "...          ...        ...                 ...      ...       ...\n",
       "19859169     208 2020-11-24 2020-11-24 23:06:12      2.0        23\n",
       "19859170     208 2020-11-24 2020-11-24 23:06:13      1.0        23\n",
       "19859171     208 2020-11-24 2020-11-24 23:06:14      2.0        23\n",
       "19859172     208 2020-11-24 2020-11-24 23:06:18      1.0        23\n",
       "19859173     208 2020-11-24 2020-11-24 23:06:19      2.0        23\n",
       "\n",
       "[18515601 rows x 5 columns]"
      ]
     },
     "execution_count": 22,
     "metadata": {},
     "output_type": "execute_result"
    }
   ],
   "source": [
    "df['circaday'] = df[(df['circaday'] == )]"
   ]
  }
 ],
 "metadata": {
  "kernelspec": {
   "display_name": "Python 3 (ipykernel)",
   "language": "python",
   "name": "python3"
  },
  "language_info": {
   "codemirror_mode": {
    "name": "ipython",
    "version": 3
   },
   "file_extension": ".py",
   "mimetype": "text/x-python",
   "name": "python",
   "nbconvert_exporter": "python",
   "pygments_lexer": "ipython3",
   "version": "3.11.5"
  }
 },
 "nbformat": 4,
 "nbformat_minor": 5
}
