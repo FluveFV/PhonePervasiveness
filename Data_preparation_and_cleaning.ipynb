{
 "cells": [
  {
   "cell_type": "code",
   "execution_count": 1,
   "id": "d46160cf",
   "metadata": {},
   "outputs": [],
   "source": [
    "class color:\n",
    "   PURPLE, CYAN, DARKCYAN, BLUE = '\\033[95m', '\\033[96m', '\\033[36m', '\\033[94m'\n",
    "   GREEN, YELLOW, RED, BOLD = '\\033[92m', '\\033[93m', '\\033[91m','\\033[1m'\n",
    "   UNDERLINE, END = '\\033[4m','\\033[0m'"
   ]
  },
  {
   "cell_type": "markdown",
   "id": "a863e51f",
   "metadata": {},
   "source": [
    "# Cleaning Data: reasonable results and time-interpretable grouping.\n",
    "In order to get in second 40 touches per second you need to use all ten fingers on the screen, four times, or alternatively just your thumbs 20 times. In one second. Which is just impossible. Consider this: \n",
    "- the fastest finger tapping rate was set by Japanese musician Kaoru Watanabe in 2014. He achieved a rate of 13.36 taps per second.\n",
    "- Prabhshish Singh (at 13) accurately typed letters from A to Z on a mobile phone in just 3 seconds and 44 milliseconds, as confirmed on August 29, 2022, making it about 7.5 touches each second. \n",
    "\n",
    "Not all users here must be world-record breakers, so for now statistical outliers will be treated as data spikes derived from device malfunction or improper handling of the screen.\n",
    "\n",
    "We need to consider the **extreme touches**. If a value is an outlier it needs to be subsituted with the median. The median is a much more defensible measure because it has much less impact on the statistics than choosing any value, i.e. of the third quartile of the touch distribution. "
   ]
  },
  {
   "cell_type": "code",
   "execution_count": 2,
   "id": "2647ba83",
   "metadata": {},
   "outputs": [],
   "source": [
    "from scipy import stats\n",
    "from tqdm import tqdm\n",
    "import os\n",
    "import pandas as pd\n",
    "import numpy as np\n",
    "import matplotlib.pyplot as plt\n",
    "import seaborn as sns\n",
    "import plotly.express as px"
   ]
  },
  {
   "cell_type": "code",
   "execution_count": 9,
   "id": "a83c5cb9",
   "metadata": {},
   "outputs": [
    {
     "name": "stdout",
     "output_type": "stream",
     "text": [
      "N of observations: 19,859,174\n"
     ]
    },
    {
     "data": {
      "text/html": [
       "<div>\n",
       "<style scoped>\n",
       "    .dataframe tbody tr th:only-of-type {\n",
       "        vertical-align: middle;\n",
       "    }\n",
       "\n",
       "    .dataframe tbody tr th {\n",
       "        vertical-align: top;\n",
       "    }\n",
       "\n",
       "    .dataframe thead th {\n",
       "        text-align: right;\n",
       "    }\n",
       "</style>\n",
       "<table border=\"1\" class=\"dataframe\">\n",
       "  <thead>\n",
       "    <tr style=\"text-align: right;\">\n",
       "      <th></th>\n",
       "      <th>userid</th>\n",
       "      <th>day</th>\n",
       "      <th>timestamp</th>\n",
       "      <th>touches</th>\n",
       "    </tr>\n",
       "  </thead>\n",
       "  <tbody>\n",
       "    <tr>\n",
       "      <th>0</th>\n",
       "      <td>1</td>\n",
       "      <td>2020-11-22</td>\n",
       "      <td>2020-11-22 00:00:00</td>\n",
       "      <td>6</td>\n",
       "    </tr>\n",
       "    <tr>\n",
       "      <th>1</th>\n",
       "      <td>1</td>\n",
       "      <td>2020-11-22</td>\n",
       "      <td>2020-11-22 00:00:03</td>\n",
       "      <td>1</td>\n",
       "    </tr>\n",
       "    <tr>\n",
       "      <th>2</th>\n",
       "      <td>1</td>\n",
       "      <td>2020-11-22</td>\n",
       "      <td>2020-11-22 00:00:06</td>\n",
       "      <td>2</td>\n",
       "    </tr>\n",
       "  </tbody>\n",
       "</table>\n",
       "</div>"
      ],
      "text/plain": [
       "   userid         day            timestamp  touches\n",
       "0       1  2020-11-22  2020-11-22 00:00:00        6\n",
       "1       1  2020-11-22  2020-11-22 00:00:03        1\n",
       "2       1  2020-11-22  2020-11-22 00:00:06        2"
      ]
     },
     "execution_count": 9,
     "metadata": {},
     "output_type": "execute_result"
    }
   ],
   "source": [
    "by_second_unclean = pd.read_csv(\"Processed Data/touch_sensor_unclean.csv\") \n",
    "by_second_unclean = by_second_unclean.drop('Unnamed: 0', axis='columns')\n",
    "print(f\"N of observations: {by_second_unclean.shape[0]:,}\")\n",
    "by_second_unclean.head(3)"
   ]
  },
  {
   "cell_type": "markdown",
   "id": "2666ac1e",
   "metadata": {},
   "source": [
    "A brief, general look at statistical outliers:"
   ]
  },
  {
   "cell_type": "code",
   "execution_count": 10,
   "id": "ce751cb3",
   "metadata": {},
   "outputs": [
    {
     "name": "stdout",
     "output_type": "stream",
     "text": [
      "At least one outlier belongs to: 128 out of 201 of the users\n",
      "\u001b[1mOutliers are 355,932 out of 19,859,174 = 1.79%\u001b[0m\n",
      "touches\n",
      "1      4266857\n",
      "2      4127960\n",
      "3      2299172\n",
      "4      1728830\n",
      "5      1200586\n",
      "        ...   \n",
      "960          1\n",
      "966          1\n",
      "983          1\n",
      "985          1\n",
      "998          1\n",
      "Name: count, Length: 565, dtype: int64\n"
     ]
    },
    {
     "data": {
      "image/png": "[encoded data removed]",
      "text/plain": [
       "<Figure size 640x480 with 1 Axes>"
      ]
     },
     "metadata": {},
     "output_type": "display_data"
    }
   ],
   "source": [
    "z = np.abs(stats.zscore(by_second_unclean['touches']))\n",
    "threshold = 3  #this is the typical chosen score for outliers\n",
    "outliers = by_second_unclean[z > threshold]\n",
    "#print(\"User IDs with outlier observations:\\n\", np.sort(outliers.userid.unique()))\n",
    "print(f\"At least one outlier belongs to: {outliers.userid.unique().shape[0]:,} out of {by_second_unclean.userid.unique().shape[0]:,} of the users\")    #should be 1.79%\n",
    "print(color.BOLD + f\"Outliers are {outliers.shape[0]:,} out of {by_second_unclean.shape[0]:,} = {str(round(outliers.shape[0]/ by_second_unclean.shape[0]*100, 2))}%\" + color.END)\n",
    "print(by_second_unclean.touches.value_counts().sort_index())\n",
    "sns.boxenplot(data = by_second_unclean, x=by_second_unclean.touches, color='#4CC9F0')\n",
    "plt.show()"
   ]
  },
  {
   "cell_type": "markdown",
   "id": "97e0db93",
   "metadata": {},
   "source": [
    "Now, treating those statistical outliers. **Run the following cell only once.**"
   ]
  },
  {
   "cell_type": "code",
   "execution_count": 11,
   "id": "1964d640",
   "metadata": {},
   "outputs": [
    {
     "name": "stderr",
     "output_type": "stream",
     "text": [
      "/tmp/ipykernel_35598/1054526867.py:6: SettingWithCopyWarning: \n",
      "A value is trying to be set on a copy of a slice from a DataFrame\n",
      "\n",
      "See the caveats in the documentation: https://pandas.pydata.org/pandas-docs/stable/user_guide/indexing.html#returning-a-view-versus-a-copy\n",
      "  by_second.touches[outliers] = np.nan\n"
     ]
    },
    {
     "data": {
      "text/html": [
       "<div>\n",
       "<style scoped>\n",
       "    .dataframe tbody tr th:only-of-type {\n",
       "        vertical-align: middle;\n",
       "    }\n",
       "\n",
       "    .dataframe tbody tr th {\n",
       "        vertical-align: top;\n",
       "    }\n",
       "\n",
       "    .dataframe thead th {\n",
       "        text-align: right;\n",
       "    }\n",
       "</style>\n",
       "<table border=\"1\" class=\"dataframe\">\n",
       "  <thead>\n",
       "    <tr style=\"text-align: right;\">\n",
       "      <th></th>\n",
       "      <th>userid</th>\n",
       "      <th>day</th>\n",
       "      <th>timestamp</th>\n",
       "      <th>touches</th>\n",
       "    </tr>\n",
       "  </thead>\n",
       "  <tbody>\n",
       "    <tr>\n",
       "      <th>0</th>\n",
       "      <td>1</td>\n",
       "      <td>2020-11-22</td>\n",
       "      <td>2020-11-22 00:00:00</td>\n",
       "      <td>6.0</td>\n",
       "    </tr>\n",
       "    <tr>\n",
       "      <th>1</th>\n",
       "      <td>1</td>\n",
       "      <td>2020-11-22</td>\n",
       "      <td>2020-11-22 00:00:03</td>\n",
       "      <td>1.0</td>\n",
       "    </tr>\n",
       "    <tr>\n",
       "      <th>2</th>\n",
       "      <td>1</td>\n",
       "      <td>2020-11-22</td>\n",
       "      <td>2020-11-22 00:00:06</td>\n",
       "      <td>2.0</td>\n",
       "    </tr>\n",
       "  </tbody>\n",
       "</table>\n",
       "</div>"
      ],
      "text/plain": [
       "   userid         day            timestamp  touches\n",
       "0       1  2020-11-22  2020-11-22 00:00:00      6.0\n",
       "1       1  2020-11-22  2020-11-22 00:00:03      1.0\n",
       "2       1  2020-11-22  2020-11-22 00:00:06      2.0"
      ]
     },
     "execution_count": 11,
     "metadata": {},
     "output_type": "execute_result"
    }
   ],
   "source": [
    "# Replacing the 1.79% outliers for the data that has seconds as units with their median\n",
    "median, std = by_second_unclean['touches'].median(), by_second_unclean['touches'].std()\n",
    "outliers = (by_second_unclean['touches'] - median).abs() > std\n",
    "\n",
    "by_second = by_second_unclean    \n",
    "by_second.touches[outliers] = np.nan\n",
    "by_second['touches'].fillna(median, inplace=True)   # by_second is the cleaner version\n",
    "\n",
    "by_second.head(3)"
   ]
  },
  {
   "cell_type": "code",
   "execution_count": 13,
   "id": "f1bc6cc6",
   "metadata": {},
   "outputs": [],
   "source": [
    "by_second.to_csv('Processed Data/by_second_clean.csv')"
   ]
  },
  {
   "cell_type": "code",
   "execution_count": 12,
   "id": "60460d95",
   "metadata": {},
   "outputs": [
    {
     "data": {
      "image/png": "[encoded data removed]",
      "text/plain": [
       "<Figure size 640x480 with 1 Axes>"
      ]
     },
     "metadata": {},
     "output_type": "display_data"
    }
   ],
   "source": [
    "sns.boxenplot(data = by_second, x=by_second.touches, color='#4CC9F0', \n",
    "              k_depth='trustworthy', trust_alpha=0.05)\n",
    "plt.show()"
   ]
  },
  {
   "cell_type": "code",
   "execution_count": 15,
   "id": "900a53f8",
   "metadata": {},
   "outputs": [
    {
     "data": {
      "image/png": "[encoded data removed]",
      "text/plain": [
       "<Figure size 640x480 with 1 Axes>"
      ]
     },
     "metadata": {},
     "output_type": "display_data"
    }
   ],
   "source": [
    "g = sns.histplot(data = by_second, x=by_second.touches, stat='percent', color='#4CC9F0', bins=13)\n",
    "g.text(x=0.5, y=1.1, s='Smartphone screen interaction per second:', fontsize=16, weight='bold', ha='center', va='bottom', transform=g.transAxes)\n",
    "g.text(x=0.5, y=1.05, s='Distribution of touches per second, obtained by grouping every touch event.', fontsize=8, alpha=0.75, ha='center', va='bottom', transform=g.transAxes)\n",
    "g.set_xticks(range(14))\n",
    "g.set_xticklabels([0,1,2,3,4,5,6,7,8,9,10,11,12,13])\n",
    "plt.show()"
   ]
  },
  {
   "attachments": {
    "image-2.png": {
     "image/png": "[encoded data removed]"
    }
   },
   "cell_type": "markdown",
   "id": "7efcffd1",
   "metadata": {},
   "source": [
    "## To recap:\n",
    "Every touch events was tied to a second. Then, each row of the dataframe would represent how many times one user touched their phone in one second. \n",
    "Now, spikes in the data (defined as the statistical outliers) have been treated and moved to the median of the distribution. \n",
    "\n",
    "## What will be done in the next sections:\n",
    "- Cleaning data from lacking / dropout users\n",
    "- Applying the concept of circadian time on days and hours\n",
    "\n",
    "Very obviously, only the users that gave enough days to be useful the experiment should be considered. Below I plotted separately the distribution of events (seconds in which there is at least one touch) over the days in which data was collected. \n",
    "\n",
    "Ideally, the observation should regard two weeks, **starting from when most users logged** and **ending when they start to drop out massively**. Personally, I choose the two week period starting from 2020/11/12 and ending 2020/11/26. \n",
    "# Distribution: count of events (grouped by second) registered between the start and end of observation period\n",
    "![image-2.png](attachment:image-2.png)\n",
    "\n",
    "What also needs to be done is to mark each row as belonging to a specific circadian day - differently from clock time, but not independently. \n",
    "The logic is exemplified as follows: when one user is scrolling their phone from 23:59:00 until 00:20:10 and then went to sleep and did not wake up until the morning after, and we want to group per day (for visualization and analysis purposes) the times they were scrolling, we should count everything that happened from 00:00:00 to 00:20:10 and consider it part of the previous day. This logic should seamlessy apply to the many students that don't stop their day before 24:00:00.  \n",
    "\n",
    "According to prof. Bison and the WeNet team, an ideal breakpoint for counting circadian day activities is between 04:30:00 and 05:00:00, because at that time everyone usually has finished their day and the next will start in a few minutes or hours. "
   ]
  },
  {
   "cell_type": "code",
   "execution_count": 3,
   "id": "9b4066b6",
   "metadata": {},
   "outputs": [],
   "source": [
    "by_second = pd.read_csv('Processed Data/by_second_clean.csv')\n",
    "timestamp, day = pd.to_datetime(by_second.timestamp, yearfirst=True), pd.to_datetime(by_second.day, yearfirst=True)\n",
    "by_second.timestamp, by_second.day = timestamp, day\n",
    "by_second = by_second.drop('Unnamed: 0',axis='columns')\n",
    "%time"
   ]
  },
  {
   "cell_type": "code",
   "execution_count": 5,
   "id": "244dc141",
   "metadata": {},
   "outputs": [
    {
     "data": {
      "text/html": [
       "<div>\n",
       "<style scoped>\n",
       "    .dataframe tbody tr th:only-of-type {\n",
       "        vertical-align: middle;\n",
       "    }\n",
       "\n",
       "    .dataframe tbody tr th {\n",
       "        vertical-align: top;\n",
       "    }\n",
       "\n",
       "    .dataframe thead th {\n",
       "        text-align: right;\n",
       "    }\n",
       "</style>\n",
       "<table border=\"1\" class=\"dataframe\">\n",
       "  <thead>\n",
       "    <tr style=\"text-align: right;\">\n",
       "      <th></th>\n",
       "      <th>userid</th>\n",
       "      <th>day</th>\n",
       "      <th>timestamp</th>\n",
       "      <th>touches</th>\n",
       "    </tr>\n",
       "  </thead>\n",
       "  <tbody>\n",
       "    <tr>\n",
       "      <th>0</th>\n",
       "      <td>1</td>\n",
       "      <td>2020-11-22</td>\n",
       "      <td>2020-11-22 00:00:00</td>\n",
       "      <td>6.0</td>\n",
       "    </tr>\n",
       "    <tr>\n",
       "      <th>1</th>\n",
       "      <td>1</td>\n",
       "      <td>2020-11-22</td>\n",
       "      <td>2020-11-22 00:00:03</td>\n",
       "      <td>1.0</td>\n",
       "    </tr>\n",
       "    <tr>\n",
       "      <th>2</th>\n",
       "      <td>1</td>\n",
       "      <td>2020-11-22</td>\n",
       "      <td>2020-11-22 00:00:06</td>\n",
       "      <td>2.0</td>\n",
       "    </tr>\n",
       "    <tr>\n",
       "      <th>3</th>\n",
       "      <td>1</td>\n",
       "      <td>2020-11-22</td>\n",
       "      <td>2020-11-22 00:00:53</td>\n",
       "      <td>2.0</td>\n",
       "    </tr>\n",
       "    <tr>\n",
       "      <th>4</th>\n",
       "      <td>1</td>\n",
       "      <td>2020-11-22</td>\n",
       "      <td>2020-11-22 00:00:54</td>\n",
       "      <td>1.0</td>\n",
       "    </tr>\n",
       "    <tr>\n",
       "      <th>...</th>\n",
       "      <td>...</td>\n",
       "      <td>...</td>\n",
       "      <td>...</td>\n",
       "      <td>...</td>\n",
       "    </tr>\n",
       "    <tr>\n",
       "      <th>19859169</th>\n",
       "      <td>208</td>\n",
       "      <td>2020-11-24</td>\n",
       "      <td>2020-11-24 23:06:12</td>\n",
       "      <td>2.0</td>\n",
       "    </tr>\n",
       "    <tr>\n",
       "      <th>19859170</th>\n",
       "      <td>208</td>\n",
       "      <td>2020-11-24</td>\n",
       "      <td>2020-11-24 23:06:13</td>\n",
       "      <td>1.0</td>\n",
       "    </tr>\n",
       "    <tr>\n",
       "      <th>19859171</th>\n",
       "      <td>208</td>\n",
       "      <td>2020-11-24</td>\n",
       "      <td>2020-11-24 23:06:14</td>\n",
       "      <td>2.0</td>\n",
       "    </tr>\n",
       "    <tr>\n",
       "      <th>19859172</th>\n",
       "      <td>208</td>\n",
       "      <td>2020-11-24</td>\n",
       "      <td>2020-11-24 23:06:18</td>\n",
       "      <td>1.0</td>\n",
       "    </tr>\n",
       "    <tr>\n",
       "      <th>19859173</th>\n",
       "      <td>208</td>\n",
       "      <td>2020-11-24</td>\n",
       "      <td>2020-11-24 23:06:19</td>\n",
       "      <td>2.0</td>\n",
       "    </tr>\n",
       "  </tbody>\n",
       "</table>\n",
       "<p>19859174 rows × 4 columns</p>\n",
       "</div>"
      ],
      "text/plain": [
       "          userid        day           timestamp  touches\n",
       "0              1 2020-11-22 2020-11-22 00:00:00      6.0\n",
       "1              1 2020-11-22 2020-11-22 00:00:03      1.0\n",
       "2              1 2020-11-22 2020-11-22 00:00:06      2.0\n",
       "3              1 2020-11-22 2020-11-22 00:00:53      2.0\n",
       "4              1 2020-11-22 2020-11-22 00:00:54      1.0\n",
       "...          ...        ...                 ...      ...\n",
       "19859169     208 2020-11-24 2020-11-24 23:06:12      2.0\n",
       "19859170     208 2020-11-24 2020-11-24 23:06:13      1.0\n",
       "19859171     208 2020-11-24 2020-11-24 23:06:14      2.0\n",
       "19859172     208 2020-11-24 2020-11-24 23:06:18      1.0\n",
       "19859173     208 2020-11-24 2020-11-24 23:06:19      2.0\n",
       "\n",
       "[19859174 rows x 4 columns]"
      ]
     },
     "execution_count": 5,
     "metadata": {},
     "output_type": "execute_result"
    }
   ],
   "source": [
    "by_second"
   ]
  },
  {
   "cell_type": "code",
   "execution_count": 85,
   "id": "c6fd1cf8",
   "metadata": {},
   "outputs": [
    {
     "name": "stderr",
     "output_type": "stream",
     "text": [
      "100%|█████████████████████████████████████████| 201/201 [00:06<00:00, 29.64it/s]"
     ]
    },
    {
     "name": "stdout",
     "output_type": "stream",
     "text": [
      "Done!\n"
     ]
    },
    {
     "name": "stderr",
     "output_type": "stream",
     "text": [
      "\n"
     ]
    }
   ],
   "source": [
    "IDs=by_second.userid.unique()\n",
    "IDs.sort()\n",
    "\n",
    "#data structure:\n",
    "'''\n",
    "{id: [2020-11-12, 2020-11,13, 2020-11-14,...]}   #for every ID, there is a list of days in which there is at least one observation from them. \n",
    "'''\n",
    "user_activity = dict()\n",
    "for ID in tqdm(IDs):\n",
    "    id_act = by_second[by_second.userid == ID]\n",
    "    # adding to the dictionary\n",
    "    user_activity[f'{ID}'] = pd.Series(id_act.day.unique()).sort_values()\n",
    "print(\"Done!\")"
   ]
  },
  {
   "cell_type": "markdown",
   "id": "f37a41b3",
   "metadata": {},
   "source": [
    "I will create a small dataset that categorizes each user into an 'always active', 'almost two weeks' active and 'less than two weeks' which means less than 12 days. "
   ]
  },
  {
   "cell_type": "code",
   "execution_count": 117,
   "id": "a0823a2d",
   "metadata": {},
   "outputs": [
    {
     "data": {
      "text/html": [
       "<div>\n",
       "<style scoped>\n",
       "    .dataframe tbody tr th:only-of-type {\n",
       "        vertical-align: middle;\n",
       "    }\n",
       "\n",
       "    .dataframe tbody tr th {\n",
       "        vertical-align: top;\n",
       "    }\n",
       "\n",
       "    .dataframe thead th {\n",
       "        text-align: right;\n",
       "    }\n",
       "</style>\n",
       "<table border=\"1\" class=\"dataframe\">\n",
       "  <thead>\n",
       "    <tr style=\"text-align: right;\">\n",
       "      <th></th>\n",
       "      <th>userid</th>\n",
       "      <th>start</th>\n",
       "      <th>finish</th>\n",
       "      <th>tot</th>\n",
       "      <th>cons</th>\n",
       "    </tr>\n",
       "  </thead>\n",
       "  <tbody>\n",
       "    <tr>\n",
       "      <th>0</th>\n",
       "      <td>1</td>\n",
       "      <td>2020-11-12</td>\n",
       "      <td>2020-11-25</td>\n",
       "      <td>13</td>\n",
       "      <td>False</td>\n",
       "    </tr>\n",
       "  </tbody>\n",
       "</table>\n",
       "</div>"
      ],
      "text/plain": [
       "   userid       start      finish  tot   cons\n",
       "0       1  2020-11-12  2020-11-25   13  False"
      ]
     },
     "execution_count": 117,
     "metadata": {},
     "output_type": "execute_result"
    }
   ],
   "source": [
    "def gantt_data_org(k, v):\n",
    "    \n",
    "    #v is the list of days; it's best if it's a consecutive 14 days (regardless of when they start)\n",
    "    \n",
    "    tot = (pd.to_datetime(v[-1]) - pd.to_datetime(v[0])).days\n",
    "    if tot:\n",
    "        start, end = v[0], v[-1]\n",
    "        for i in range(len(v)-1):\n",
    "            v[i]  #current\n",
    "            v[i+1] #next\n",
    "            difference = (pd.to_datetime(v[i+1]) - pd.to_datetime(v[i])).days\n",
    "            if difference >= 2:    # if there is more than one day of difference it means that there was one \n",
    "                                   # day in the data with no observations\n",
    "                consecutive = False\n",
    "                break\n",
    "            else:\n",
    "                consecutive = True\n",
    "            \n",
    "    else:\n",
    "        tot = np.nan\n",
    "        start, end = np.nan, np.nan \n",
    "        consecutive = np.nan\n",
    "    return pd.DataFrame([[k, start, end, tot, consecutive]], \n",
    "                        columns=['userid', 'start', 'finish', 'tot', 'cons'])\n",
    "\n",
    "gantt_data_org(1, [\"2020-11-12\", \"2020-11-13\", \"2020-11-14\", \"2020-11-15\", \"2020-11-16\", \n",
    "                   \"2020-11-17\",   \"2020-11-18\", \"2020-11-19\", \"2020-11-25\"])\n"
   ]
  },
  {
   "cell_type": "code",
   "execution_count": 118,
   "id": "41dde2d3",
   "metadata": {},
   "outputs": [],
   "source": [
    "gantt_data = pd.DataFrame(columns=[\"userid\", \"start\", \"finish\", \"tot\", \"cons\"])\n",
    "for ID, days in user_activity.items():\n",
    "    res = gantt_data_org(ID, list(days))\n",
    "    gantt_data = pd.concat([gantt_data, res], ignore_index=True)"
   ]
  },
  {
   "cell_type": "code",
   "execution_count": 133,
   "id": "c36d2195",
   "metadata": {},
   "outputs": [
    {
     "data": {
      "text/html": [
       "<div>\n",
       "<style scoped>\n",
       "    .dataframe tbody tr th:only-of-type {\n",
       "        vertical-align: middle;\n",
       "    }\n",
       "\n",
       "    .dataframe tbody tr th {\n",
       "        vertical-align: top;\n",
       "    }\n",
       "\n",
       "    .dataframe thead th {\n",
       "        text-align: right;\n",
       "    }\n",
       "</style>\n",
       "<table border=\"1\" class=\"dataframe\">\n",
       "  <thead>\n",
       "    <tr style=\"text-align: right;\">\n",
       "      <th></th>\n",
       "      <th>userid</th>\n",
       "      <th>start</th>\n",
       "      <th>finish</th>\n",
       "      <th>tot</th>\n",
       "      <th>cons</th>\n",
       "    </tr>\n",
       "  </thead>\n",
       "  <tbody>\n",
       "    <tr>\n",
       "      <th>0</th>\n",
       "      <td>1</td>\n",
       "      <td>2020-11-12</td>\n",
       "      <td>2020-12-12</td>\n",
       "      <td>30</td>\n",
       "      <td>True</td>\n",
       "    </tr>\n",
       "    <tr>\n",
       "      <th>1</th>\n",
       "      <td>2</td>\n",
       "      <td>2020-11-10</td>\n",
       "      <td>2020-11-30</td>\n",
       "      <td>20</td>\n",
       "      <td>True</td>\n",
       "    </tr>\n",
       "    <tr>\n",
       "      <th>2</th>\n",
       "      <td>3</td>\n",
       "      <td>2020-11-11</td>\n",
       "      <td>2020-12-11</td>\n",
       "      <td>30</td>\n",
       "      <td>True</td>\n",
       "    </tr>\n",
       "    <tr>\n",
       "      <th>3</th>\n",
       "      <td>4</td>\n",
       "      <td>2020-11-11</td>\n",
       "      <td>2020-12-09</td>\n",
       "      <td>28</td>\n",
       "      <td>True</td>\n",
       "    </tr>\n",
       "    <tr>\n",
       "      <th>4</th>\n",
       "      <td>5</td>\n",
       "      <td>2020-11-11</td>\n",
       "      <td>2020-12-12</td>\n",
       "      <td>31</td>\n",
       "      <td>True</td>\n",
       "    </tr>\n",
       "    <tr>\n",
       "      <th>...</th>\n",
       "      <td>...</td>\n",
       "      <td>...</td>\n",
       "      <td>...</td>\n",
       "      <td>...</td>\n",
       "      <td>...</td>\n",
       "    </tr>\n",
       "    <tr>\n",
       "      <th>196</th>\n",
       "      <td>260</td>\n",
       "      <td>2020-11-12</td>\n",
       "      <td>2020-12-11</td>\n",
       "      <td>29</td>\n",
       "      <td>True</td>\n",
       "    </tr>\n",
       "    <tr>\n",
       "      <th>197</th>\n",
       "      <td>261</td>\n",
       "      <td>2020-11-12</td>\n",
       "      <td>2020-12-06</td>\n",
       "      <td>24</td>\n",
       "      <td>False</td>\n",
       "    </tr>\n",
       "    <tr>\n",
       "      <th>198</th>\n",
       "      <td>262</td>\n",
       "      <td>2020-11-11</td>\n",
       "      <td>2020-12-12</td>\n",
       "      <td>31</td>\n",
       "      <td>True</td>\n",
       "    </tr>\n",
       "    <tr>\n",
       "      <th>199</th>\n",
       "      <td>264</td>\n",
       "      <td>2020-11-10</td>\n",
       "      <td>2020-12-12</td>\n",
       "      <td>32</td>\n",
       "      <td>True</td>\n",
       "    </tr>\n",
       "    <tr>\n",
       "      <th>200</th>\n",
       "      <td>265</td>\n",
       "      <td>2020-11-12</td>\n",
       "      <td>2020-11-25</td>\n",
       "      <td>13</td>\n",
       "      <td>True</td>\n",
       "    </tr>\n",
       "  </tbody>\n",
       "</table>\n",
       "<p>201 rows × 5 columns</p>\n",
       "</div>"
      ],
      "text/plain": [
       "    userid      start     finish tot   cons\n",
       "0        1 2020-11-12 2020-12-12  30   True\n",
       "1        2 2020-11-10 2020-11-30  20   True\n",
       "2        3 2020-11-11 2020-12-11  30   True\n",
       "3        4 2020-11-11 2020-12-09  28   True\n",
       "4        5 2020-11-11 2020-12-12  31   True\n",
       "..     ...        ...        ...  ..    ...\n",
       "196    260 2020-11-12 2020-12-11  29   True\n",
       "197    261 2020-11-12 2020-12-06  24  False\n",
       "198    262 2020-11-11 2020-12-12  31   True\n",
       "199    264 2020-11-10 2020-12-12  32   True\n",
       "200    265 2020-11-12 2020-11-25  13   True\n",
       "\n",
       "[201 rows x 5 columns]"
      ]
     },
     "execution_count": 133,
     "metadata": {},
     "output_type": "execute_result"
    }
   ],
   "source": [
    "gantt_data"
   ]
  },
  {
   "cell_type": "code",
   "execution_count": 161,
   "id": "004ba3f8",
   "metadata": {},
   "outputs": [
    {
     "name": "stderr",
     "output_type": "stream",
     "text": [
      "/tmp/ipykernel_57238/1656350164.py:2: UserWarning: Boolean Series key will be reindexed to match DataFrame index.\n",
      "  more_than_14 = sum(same_n_days.sort_values(by=\"tot\")[same_n_days.cons == True].tot >= 14)\n"
     ]
    }
   ],
   "source": [
    "same_n_days = gantt_data.groupby([\"tot\", 'userid']).head()\n",
    "more_than_14 = sum(same_n_days.sort_values(by=\"tot\")[same_n_days.cons == True].tot >= 14)\n",
    "less_than_14 = sum(same_n_days.sort_values(by=\"tot\").tot < 14) + gantt_data.shape[0] - same_n_days.shape[0]\n"
   ]
  },
  {
   "cell_type": "code",
   "execution_count": 162,
   "id": "b8f4da1a",
   "metadata": {},
   "outputs": [
    {
     "name": "stdout",
     "output_type": "stream",
     "text": [
      "Active for 14 consecutive days or more: \u001b[1m127\u001b[0m\n",
      "Less than two weeks: \u001b[1m39\u001b[0m\n",
      "total: 166\n",
      "\n"
     ]
    }
   ],
   "source": [
    "print(f\"Active for 14 consecutive days or more: {color.BOLD}{more_than_14}{color.END}\")\n",
    "print(f\"Less than two weeks: {color.BOLD}{less_than_14}{color.END}\")\n",
    "print(f\"total: {more_than_14 + less_than_14}\")\n",
    "print()"
   ]
  },
  {
   "cell_type": "markdown",
   "id": "8a9716b8",
   "metadata": {},
   "source": [
    "There are 46 users who are not eligible for my analysis and are considered dropped out, but 146 users who did well. Jury still out on what to do with \"almost two weeks\" users."
   ]
  },
  {
   "cell_type": "code",
   "execution_count": 83,
   "id": "0b077ff9",
   "metadata": {},
   "outputs": [
    {
     "data": {
      "text/plain": [
       "6        7\n",
       "12      14\n",
       "20      24\n",
       "21      25\n",
       "23      27\n",
       "31      35\n",
       "32      36\n",
       "33      37\n",
       "34      41\n",
       "36      43\n",
       "38      46\n",
       "40      49\n",
       "42      51\n",
       "43      52\n",
       "52      67\n",
       "53      68\n",
       "61      82\n",
       "65      86\n",
       "70      93\n",
       "75     101\n",
       "77     106\n",
       "80     110\n",
       "81     112\n",
       "85     116\n",
       "86     117\n",
       "90     122\n",
       "91     123\n",
       "93     125\n",
       "109    149\n",
       "113    156\n",
       "121    164\n",
       "126    172\n",
       "131    179\n",
       "132    180\n",
       "134    184\n",
       "138    189\n",
       "143    195\n",
       "147    199\n",
       "152    205\n",
       "163    220\n",
       "169    228\n",
       "175    234\n",
       "176    235\n",
       "183    242\n",
       "186    245\n",
       "197    261\n",
       "Name: userid, dtype: object"
      ]
     },
     "execution_count": 83,
     "metadata": {},
     "output_type": "execute_result"
    }
   ],
   "source": [
    "dropouts = gantt_data[gantt_data.category == 'less than two weeks'].userid  #IDs of dropouts\n",
    "dropouts"
   ]
  },
  {
   "cell_type": "code",
   "execution_count": 81,
   "id": "b1b35b21",
   "metadata": {},
   "outputs": [],
   "source": [
    "# df_bs means Dataframe by second (without dropouts), df_ds means Dataframe for dropouts\n",
    "df_bs = by_second[~by_second.userid.isin(dropouts)]\n",
    "df_ds = by_second[by_second.userid.isin(dropouts)]"
   ]
  },
  {
   "cell_type": "code",
   "execution_count": 84,
   "id": "bd646166",
   "metadata": {},
   "outputs": [
    {
     "data": {
      "text/html": [
       "<div>\n",
       "<style scoped>\n",
       "    .dataframe tbody tr th:only-of-type {\n",
       "        vertical-align: middle;\n",
       "    }\n",
       "\n",
       "    .dataframe tbody tr th {\n",
       "        vertical-align: top;\n",
       "    }\n",
       "\n",
       "    .dataframe thead th {\n",
       "        text-align: right;\n",
       "    }\n",
       "</style>\n",
       "<table border=\"1\" class=\"dataframe\">\n",
       "  <thead>\n",
       "    <tr style=\"text-align: right;\">\n",
       "      <th></th>\n",
       "      <th>userid</th>\n",
       "      <th>day</th>\n",
       "      <th>timestamp</th>\n",
       "      <th>touches</th>\n",
       "    </tr>\n",
       "  </thead>\n",
       "  <tbody>\n",
       "    <tr>\n",
       "      <th>1494360</th>\n",
       "      <td>261</td>\n",
       "      <td>2020-11-27</td>\n",
       "      <td>2020-11-27 07:26:48</td>\n",
       "      <td>1.0</td>\n",
       "    </tr>\n",
       "    <tr>\n",
       "      <th>1494361</th>\n",
       "      <td>261</td>\n",
       "      <td>2020-11-27</td>\n",
       "      <td>2020-11-27 07:26:49</td>\n",
       "      <td>1.0</td>\n",
       "    </tr>\n",
       "    <tr>\n",
       "      <th>1494362</th>\n",
       "      <td>261</td>\n",
       "      <td>2020-11-27</td>\n",
       "      <td>2020-11-27 07:26:53</td>\n",
       "      <td>1.0</td>\n",
       "    </tr>\n",
       "    <tr>\n",
       "      <th>1494363</th>\n",
       "      <td>261</td>\n",
       "      <td>2020-11-27</td>\n",
       "      <td>2020-11-27 07:26:58</td>\n",
       "      <td>1.0</td>\n",
       "    </tr>\n",
       "    <tr>\n",
       "      <th>1494364</th>\n",
       "      <td>261</td>\n",
       "      <td>2020-11-27</td>\n",
       "      <td>2020-11-27 07:27:01</td>\n",
       "      <td>1.0</td>\n",
       "    </tr>\n",
       "    <tr>\n",
       "      <th>...</th>\n",
       "      <td>...</td>\n",
       "      <td>...</td>\n",
       "      <td>...</td>\n",
       "      <td>...</td>\n",
       "    </tr>\n",
       "    <tr>\n",
       "      <th>15734186</th>\n",
       "      <td>261</td>\n",
       "      <td>2020-11-15</td>\n",
       "      <td>2020-11-15 22:40:52</td>\n",
       "      <td>1.0</td>\n",
       "    </tr>\n",
       "    <tr>\n",
       "      <th>15734187</th>\n",
       "      <td>261</td>\n",
       "      <td>2020-11-15</td>\n",
       "      <td>2020-11-15 22:40:53</td>\n",
       "      <td>2.0</td>\n",
       "    </tr>\n",
       "    <tr>\n",
       "      <th>15734188</th>\n",
       "      <td>261</td>\n",
       "      <td>2020-11-15</td>\n",
       "      <td>2020-11-15 22:40:54</td>\n",
       "      <td>2.0</td>\n",
       "    </tr>\n",
       "    <tr>\n",
       "      <th>15734189</th>\n",
       "      <td>261</td>\n",
       "      <td>2020-11-15</td>\n",
       "      <td>2020-11-15 22:40:57</td>\n",
       "      <td>2.0</td>\n",
       "    </tr>\n",
       "    <tr>\n",
       "      <th>15734190</th>\n",
       "      <td>261</td>\n",
       "      <td>2020-11-15</td>\n",
       "      <td>2020-11-15 22:40:58</td>\n",
       "      <td>2.0</td>\n",
       "    </tr>\n",
       "  </tbody>\n",
       "</table>\n",
       "<p>17565 rows × 4 columns</p>\n",
       "</div>"
      ],
      "text/plain": [
       "          userid        day           timestamp  touches\n",
       "1494360      261 2020-11-27 2020-11-27 07:26:48      1.0\n",
       "1494361      261 2020-11-27 2020-11-27 07:26:49      1.0\n",
       "1494362      261 2020-11-27 2020-11-27 07:26:53      1.0\n",
       "1494363      261 2020-11-27 2020-11-27 07:26:58      1.0\n",
       "1494364      261 2020-11-27 2020-11-27 07:27:01      1.0\n",
       "...          ...        ...                 ...      ...\n",
       "15734186     261 2020-11-15 2020-11-15 22:40:52      1.0\n",
       "15734187     261 2020-11-15 2020-11-15 22:40:53      2.0\n",
       "15734188     261 2020-11-15 2020-11-15 22:40:54      2.0\n",
       "15734189     261 2020-11-15 2020-11-15 22:40:57      2.0\n",
       "15734190     261 2020-11-15 2020-11-15 22:40:58      2.0\n",
       "\n",
       "[17565 rows x 4 columns]"
      ]
     },
     "execution_count": 84,
     "metadata": {},
     "output_type": "execute_result"
    }
   ],
   "source": [
    "by_second[by_second.userid==261]"
   ]
  },
  {
   "cell_type": "code",
   "execution_count": 82,
   "id": "6f12ebd8",
   "metadata": {},
   "outputs": [
    {
     "data": {
      "text/html": [
       "<div>\n",
       "<style scoped>\n",
       "    .dataframe tbody tr th:only-of-type {\n",
       "        vertical-align: middle;\n",
       "    }\n",
       "\n",
       "    .dataframe tbody tr th {\n",
       "        vertical-align: top;\n",
       "    }\n",
       "\n",
       "    .dataframe thead th {\n",
       "        text-align: right;\n",
       "    }\n",
       "</style>\n",
       "<table border=\"1\" class=\"dataframe\">\n",
       "  <thead>\n",
       "    <tr style=\"text-align: right;\">\n",
       "      <th></th>\n",
       "      <th>userid</th>\n",
       "      <th>day</th>\n",
       "      <th>timestamp</th>\n",
       "      <th>touches</th>\n",
       "    </tr>\n",
       "  </thead>\n",
       "  <tbody>\n",
       "  </tbody>\n",
       "</table>\n",
       "</div>"
      ],
      "text/plain": [
       "Empty DataFrame\n",
       "Columns: [userid, day, timestamp, touches]\n",
       "Index: []"
      ]
     },
     "execution_count": 82,
     "metadata": {},
     "output_type": "execute_result"
    }
   ],
   "source": [
    "df_ds"
   ]
  },
  {
   "cell_type": "code",
   "execution_count": 20,
   "id": "049812db",
   "metadata": {},
   "outputs": [],
   "source": [
    "sum_gantt = gantt_data\n",
    "sum_gantt['days_to_start'] = (sum_gantt['start'] - sum_gantt['start'].min()).dt.days\n",
    "sum_gantt['days_to_end'] = (sum_gantt['finish'] - sum_gantt['start'].min()).dt.days\n",
    "sum_gantt['period_duration'] = sum_gantt['days_to_end'] - sum_gantt['days_to_start'] + 1"
   ]
  },
  {
   "cell_type": "code",
   "execution_count": 22,
   "id": "5783c1c1",
   "metadata": {},
   "outputs": [
    {
     "name": "stdout",
     "output_type": "stream",
     "text": [
      "    userid             category      start     finish  days_to_start  \\\n",
      "0        1        always active 2020-11-12 2020-11-26            0.0   \n",
      "1        2        always active 2020-11-12 2020-11-26            0.0   \n",
      "2        3        always active 2020-11-12 2020-11-26            0.0   \n",
      "3        4        always active 2020-11-12 2020-11-26            0.0   \n",
      "4        5        always active 2020-11-12 2020-11-26            0.0   \n",
      "..     ...                  ...        ...        ...            ...   \n",
      "196    260        always active 2020-11-12 2020-11-26            0.0   \n",
      "197    261  less than two weeks        NaT        NaT            NaN   \n",
      "198    262        always active 2020-11-12 2020-11-26            0.0   \n",
      "199    264        always active 2020-11-12 2020-11-26            0.0   \n",
      "200    265        always active 2020-11-12 2020-11-25            0.0   \n",
      "\n",
      "     days_to_end  period_duration  \n",
      "0           14.0             15.0  \n",
      "1           14.0             15.0  \n",
      "2           14.0             15.0  \n",
      "3           14.0             15.0  \n",
      "4           14.0             15.0  \n",
      "..           ...              ...  \n",
      "196         14.0             15.0  \n",
      "197          NaN              NaN  \n",
      "198         14.0             15.0  \n",
      "199         14.0             15.0  \n",
      "200         13.0             14.0  \n",
      "\n",
      "[201 rows x 7 columns]\n"
     ]
    },
    {
     "data": {
      "text/plain": [
       "<BarContainer object of 201 artists>"
      ]
     },
     "execution_count": 22,
     "metadata": {},
     "output_type": "execute_result"
    },
    {
     "data": {
      "image/png": "[encoded data removed]",
      "text/plain": [
       "<Figure size 640x480 with 1 Axes>"
      ]
     },
     "metadata": {},
     "output_type": "display_data"
    }
   ],
   "source": [
    "print(sum_gantt)\n",
    "plt.barh(y=sum_gantt['category'], width=sum_gantt['period_duration'], left=sum_gantt['days_to_start'])\n"
   ]
  },
  {
   "cell_type": "code",
   "execution_count": 14,
   "id": "6bce5732",
   "metadata": {},
   "outputs": [],
   "source": [
    "active_days = user_activity.count()"
   ]
  }
 ],
 "metadata": {
  "kernelspec": {
   "display_name": "Python 3 (ipykernel)",
   "language": "python",
   "name": "python3"
  },
  "language_info": {
   "codemirror_mode": {
    "name": "ipython",
    "version": 3
   },
   "file_extension": ".py",
   "mimetype": "text/x-python",
   "name": "python",
   "nbconvert_exporter": "python",
   "pygments_lexer": "ipython3",
   "version": "3.11.5"
  }
 },
 "nbformat": 4,
 "nbformat_minor": 5
}
