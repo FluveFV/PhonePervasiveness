{
 "cells": [
  {
   "cell_type": "code",
   "execution_count": 1,
   "id": "d46160cf",
   "metadata": {},
   "outputs": [],
   "source": [
    "class color:\n",
    "   PURPLE, CYAN, DARKCYAN, BLUE = '\\033[95m', '\\033[96m', '\\033[36m', '\\033[94m'\n",
    "   GREEN, YELLOW, RED, BOLD = '\\033[92m', '\\033[93m', '\\033[91m','\\033[1m'\n",
    "   UNDERLINE, END = '\\033[4m','\\033[0m'"
   ]
  },
  {
   "cell_type": "markdown",
   "id": "78599b80",
   "metadata": {},
   "source": [
    "## What was done in file_reduction.ipynb:\n",
    "Every touch events was tied to a second. Then, each row of the dataframe would represent how many times one user touched their phone in one second. \n",
    "Now, spikes in the data (defined as the statistical outliers) have been treated and moved to the median of the distribution. "
   ]
  },
  {
   "cell_type": "markdown",
   "id": "a863e51f",
   "metadata": {},
   "source": [
    "# Cleaning Data: reasonable results and time-interpretable grouping.\n",
    "In order to get in second 40 touches per second you need to use all ten fingers on the screen, four times, or alternatively just your thumbs 20 times. In one second. Which is just impossible. Consider this: \n",
    "- the fastest finger tapping rate was set by Japanese musician Kaoru Watanabe in 2014. He achieved a rate of 13.36 taps per second.\n",
    "- Prabhshish Singh (at 13) accurately typed letters from A to Z on a mobile phone in just 3 seconds and 44 milliseconds, as confirmed on August 29, 2022, making it about 7.5 touches each second. \n",
    "\n",
    "Not all users here must be world-record breakers, so for now statistical outliers will be treated as data spikes derived from device malfunction or improper handling of the screen.\n",
    "\n",
    "We need to consider the **extreme touches**. If a value is an outlier it needs to be subsituted with the median. The median is a much more defensible measure because it has much less impact on the statistics than choosing any value, i.e. of the third quartile of the touch distribution. "
   ]
  },
  {
   "cell_type": "code",
   "execution_count": 3,
   "id": "2647ba83",
   "metadata": {},
   "outputs": [],
   "source": [
    "from scipy import stats\n",
    "from tqdm import tqdm\n",
    "import os\n",
    "import pandas as pd\n",
    "import numpy as np\n",
    "import matplotlib.pyplot as plt\n",
    "import seaborn as sns\n",
    "import plotly.express as px"
   ]
  },
  {
   "cell_type": "code",
   "execution_count": 9,
   "id": "a83c5cb9",
   "metadata": {},
   "outputs": [
    {
     "name": "stdout",
     "output_type": "stream",
     "text": [
      "N of observations: 19,859,174\n"
     ]
    },
    {
     "data": {
      "text/html": [
       "<div>\n",
       "<style scoped>\n",
       "    .dataframe tbody tr th:only-of-type {\n",
       "        vertical-align: middle;\n",
       "    }\n",
       "\n",
       "    .dataframe tbody tr th {\n",
       "        vertical-align: top;\n",
       "    }\n",
       "\n",
       "    .dataframe thead th {\n",
       "        text-align: right;\n",
       "    }\n",
       "</style>\n",
       "<table border=\"1\" class=\"dataframe\">\n",
       "  <thead>\n",
       "    <tr style=\"text-align: right;\">\n",
       "      <th></th>\n",
       "      <th>userid</th>\n",
       "      <th>day</th>\n",
       "      <th>timestamp</th>\n",
       "      <th>touches</th>\n",
       "    </tr>\n",
       "  </thead>\n",
       "  <tbody>\n",
       "    <tr>\n",
       "      <th>0</th>\n",
       "      <td>1</td>\n",
       "      <td>2020-11-22</td>\n",
       "      <td>2020-11-22 00:00:00</td>\n",
       "      <td>6</td>\n",
       "    </tr>\n",
       "    <tr>\n",
       "      <th>1</th>\n",
       "      <td>1</td>\n",
       "      <td>2020-11-22</td>\n",
       "      <td>2020-11-22 00:00:03</td>\n",
       "      <td>1</td>\n",
       "    </tr>\n",
       "    <tr>\n",
       "      <th>2</th>\n",
       "      <td>1</td>\n",
       "      <td>2020-11-22</td>\n",
       "      <td>2020-11-22 00:00:06</td>\n",
       "      <td>2</td>\n",
       "    </tr>\n",
       "  </tbody>\n",
       "</table>\n",
       "</div>"
      ],
      "text/plain": [
       "   userid         day            timestamp  touches\n",
       "0       1  2020-11-22  2020-11-22 00:00:00        6\n",
       "1       1  2020-11-22  2020-11-22 00:00:03        1\n",
       "2       1  2020-11-22  2020-11-22 00:00:06        2"
      ]
     },
     "execution_count": 9,
     "metadata": {},
     "output_type": "execute_result"
    }
   ],
   "source": [
    "by_second_unclean = pd.read_csv(\"Processed Data/touch_sensor_unclean.csv\") \n",
    "by_second_unclean = by_second_unclean.drop('Unnamed: 0', axis='columns')\n",
    "print(f\"N of observations: {by_second_unclean.shape[0]:,}\")\n",
    "by_second_unclean.head(3)"
   ]
  },
  {
   "cell_type": "markdown",
   "id": "2666ac1e",
   "metadata": {},
   "source": [
    "A brief, general look at statistical outliers:"
   ]
  },
  {
   "cell_type": "code",
   "execution_count": 10,
   "id": "ce751cb3",
   "metadata": {},
   "outputs": [
    {
     "name": "stdout",
     "output_type": "stream",
     "text": [
      "At least one outlier belongs to: 128 out of 201 of the users\n",
      "\u001b[1mOutliers are 355,932 out of 19,859,174 = 1.79%\u001b[0m\n",
      "touches\n",
      "1      4266857\n",
      "2      4127960\n",
      "3      2299172\n",
      "4      1728830\n",
      "5      1200586\n",
      "        ...   \n",
      "960          1\n",
      "966          1\n",
      "983          1\n",
      "985          1\n",
      "998          1\n",
      "Name: count, Length: 565, dtype: int64\n"
     ]
    },
    {
     "data": {
      "image/png": "[encoded data removed]",
      "text/plain": [
       "<Figure size 640x480 with 1 Axes>"
      ]
     },
     "metadata": {},
     "output_type": "display_data"
    }
   ],
   "source": [
    "z = np.abs(stats.zscore(by_second_unclean['touches']))\n",
    "threshold = 3  #this is the typical chosen score for outliers\n",
    "outliers = by_second_unclean[z > threshold]\n",
    "#print(\"User IDs with outlier observations:\\n\", np.sort(outliers.userid.unique()))\n",
    "print(f\"At least one outlier belongs to: {outliers.userid.unique().shape[0]:,} out of {by_second_unclean.userid.unique().shape[0]:,} of the users\")    #should be 1.79%\n",
    "print(color.BOLD + f\"Outliers are {outliers.shape[0]:,} out of {by_second_unclean.shape[0]:,} = {str(round(outliers.shape[0]/ by_second_unclean.shape[0]*100, 2))}%\" + color.END)\n",
    "print(by_second_unclean.touches.value_counts().sort_index())\n",
    "sns.boxenplot(data = by_second_unclean, x=by_second_unclean.touches, color='#4CC9F0')\n",
    "plt.show()"
   ]
  },
  {
   "cell_type": "markdown",
   "id": "97e0db93",
   "metadata": {},
   "source": [
    "Now, treating those statistical outliers. **Run the following cell only once.**"
   ]
  },
  {
   "cell_type": "code",
   "execution_count": 11,
   "id": "1964d640",
   "metadata": {},
   "outputs": [
    {
     "name": "stderr",
     "output_type": "stream",
     "text": [
      "/tmp/ipykernel_35598/1054526867.py:6: SettingWithCopyWarning: \n",
      "A value is trying to be set on a copy of a slice from a DataFrame\n",
      "\n",
      "See the caveats in the documentation: https://pandas.pydata.org/pandas-docs/stable/user_guide/indexing.html#returning-a-view-versus-a-copy\n",
      "  by_second.touches[outliers] = np.nan\n"
     ]
    },
    {
     "data": {
      "text/html": [
       "<div>\n",
       "<style scoped>\n",
       "    .dataframe tbody tr th:only-of-type {\n",
       "        vertical-align: middle;\n",
       "    }\n",
       "\n",
       "    .dataframe tbody tr th {\n",
       "        vertical-align: top;\n",
       "    }\n",
       "\n",
       "    .dataframe thead th {\n",
       "        text-align: right;\n",
       "    }\n",
       "</style>\n",
       "<table border=\"1\" class=\"dataframe\">\n",
       "  <thead>\n",
       "    <tr style=\"text-align: right;\">\n",
       "      <th></th>\n",
       "      <th>userid</th>\n",
       "      <th>day</th>\n",
       "      <th>timestamp</th>\n",
       "      <th>touches</th>\n",
       "    </tr>\n",
       "  </thead>\n",
       "  <tbody>\n",
       "    <tr>\n",
       "      <th>0</th>\n",
       "      <td>1</td>\n",
       "      <td>2020-11-22</td>\n",
       "      <td>2020-11-22 00:00:00</td>\n",
       "      <td>6.0</td>\n",
       "    </tr>\n",
       "    <tr>\n",
       "      <th>1</th>\n",
       "      <td>1</td>\n",
       "      <td>2020-11-22</td>\n",
       "      <td>2020-11-22 00:00:03</td>\n",
       "      <td>1.0</td>\n",
       "    </tr>\n",
       "    <tr>\n",
       "      <th>2</th>\n",
       "      <td>1</td>\n",
       "      <td>2020-11-22</td>\n",
       "      <td>2020-11-22 00:00:06</td>\n",
       "      <td>2.0</td>\n",
       "    </tr>\n",
       "  </tbody>\n",
       "</table>\n",
       "</div>"
      ],
      "text/plain": [
       "   userid         day            timestamp  touches\n",
       "0       1  2020-11-22  2020-11-22 00:00:00      6.0\n",
       "1       1  2020-11-22  2020-11-22 00:00:03      1.0\n",
       "2       1  2020-11-22  2020-11-22 00:00:06      2.0"
      ]
     },
     "execution_count": 11,
     "metadata": {},
     "output_type": "execute_result"
    }
   ],
   "source": [
    "# Replacing the 1.79% outliers for the data that has seconds as units with their median\n",
    "median, std = by_second_unclean['touches'].median(), by_second_unclean['touches'].std()\n",
    "outliers = (by_second_unclean['touches'] - median).abs() > std\n",
    "\n",
    "by_second = by_second_unclean    \n",
    "by_second.touches[outliers] = np.nan\n",
    "by_second['touches'].fillna(median, inplace=True)   # by_second is the cleaner version\n",
    "\n",
    "by_second.head(3)"
   ]
  },
  {
   "cell_type": "code",
   "execution_count": 13,
   "id": "f1bc6cc6",
   "metadata": {},
   "outputs": [],
   "source": [
    "by_second.to_csv('Processed Data/by_second_clean.csv')"
   ]
  },
  {
   "cell_type": "code",
   "execution_count": 12,
   "id": "60460d95",
   "metadata": {},
   "outputs": [
    {
     "data": {
      "image/png": "[encoded data removed]",
      "text/plain": [
       "<Figure size 640x480 with 1 Axes>"
      ]
     },
     "metadata": {},
     "output_type": "display_data"
    }
   ],
   "source": [
    "sns.boxenplot(data = by_second, x=by_second.touches, color='#4CC9F0', \n",
    "              k_depth='trustworthy', trust_alpha=0.05)\n",
    "plt.show()"
   ]
  },
  {
   "cell_type": "code",
   "execution_count": 15,
   "id": "900a53f8",
   "metadata": {},
   "outputs": [
    {
     "data": {
      "image/png": "[encoded data removed]",
      "text/plain": [
       "<Figure size 640x480 with 1 Axes>"
      ]
     },
     "metadata": {},
     "output_type": "display_data"
    }
   ],
   "source": [
    "g = sns.histplot(data = by_second, x=by_second.touches, stat='percent', color='#4CC9F0', bins=13)\n",
    "g.text(x=0.5, y=1.1, s='Smartphone screen interaction per second:', fontsize=16, weight='bold', ha='center', va='bottom', transform=g.transAxes)\n",
    "g.text(x=0.5, y=1.05, s='Distribution of touches per second, obtained by grouping every touch event.', fontsize=8, alpha=0.75, ha='center', va='bottom', transform=g.transAxes)\n",
    "g.set_xticks(range(14))\n",
    "g.set_xticklabels([0,1,2,3,4,5,6,7,8,9,10,11,12,13])\n",
    "plt.show()"
   ]
  },
  {
   "attachments": {
    "image-2.png": {
     "image/png": "[encoded data removed]"
    }
   },
   "cell_type": "markdown",
   "id": "7efcffd1",
   "metadata": {},
   "source": [
    "## Operations in the next sections:\n",
    "- Cleaning data from lacking / dropout users\n",
    "- Applying the concept of circadian time on days and hours\n",
    "\n",
    "Very obviously, only the users that gave enough days to be useful the experiment should be considered. Below I plotted separately the distribution of events (seconds in which there is at least one touch) over the days in which data was collected. \n",
    "\n",
    "Ideally, the observation should the 15 days of maximum observation, **starting from when most users logged** and **ending when they start to drop out massively**. Personally, I choose the two week period starting from 2020/11/12 and ending 2020/11/27, which is also the same time around the WeNet project sent a notification each half-hour of the day to users - in the time diary data of the project. It will help with more accuracy for activities and locations that the user was in while using the smartphone.\n",
    "### Distribution: count of events (grouped by second) registered between the start and end of observation period\n",
    "![image-2.png](attachment:image-2.png)\n",
    "\n",
    "What also needs to be done is to mark each row as belonging to a specific circadian day - differently from clock time, but not independently. \n",
    "The logic is exemplified as follows: when one user is scrolling their phone from 23:59:00 until 00:20:10 and then went to sleep and did not wake up until the morning after, and we want to group per day (for visualization and analysis purposes) the times they were scrolling, we should count everything that happened from 00:00:00 to 00:20:10 and consider it part of the previous day. This logic should seamlessy apply to the many students that don't stop their day before 24:00:00.  \n",
    "\n",
    "According to prof. Bison and the WeNet team, an ideal breakpoint for counting circadian day activities is between 04:30:00 and 05:00:00, because at that time everyone usually has finished their day and the next will start in a few minutes or hours. "
   ]
  },
  {
   "cell_type": "code",
   "execution_count": 23,
   "id": "9b4066b6",
   "metadata": {},
   "outputs": [
    {
     "name": "stdout",
     "output_type": "stream",
     "text": [
      "CPU times: user 3 µs, sys: 0 ns, total: 3 µs\n",
      "Wall time: 7.63 µs\n"
     ]
    }
   ],
   "source": [
    "%%time\n",
    "by_second = pd.read_csv('Processed Data/by_second_clean.csv')\n",
    "timestamp, day = pd.to_datetime(by_second.timestamp, yearfirst=True), pd.to_datetime(by_second.day, yearfirst=True)\n",
    "by_second.timestamp, by_second.day = timestamp, day\n",
    "by_second = by_second.drop('Unnamed: 0',axis='columns')"
   ]
  },
  {
   "cell_type": "code",
   "execution_count": 24,
   "id": "244dc141",
   "metadata": {},
   "outputs": [
    {
     "data": {
      "text/html": [
       "<div>\n",
       "<style scoped>\n",
       "    .dataframe tbody tr th:only-of-type {\n",
       "        vertical-align: middle;\n",
       "    }\n",
       "\n",
       "    .dataframe tbody tr th {\n",
       "        vertical-align: top;\n",
       "    }\n",
       "\n",
       "    .dataframe thead th {\n",
       "        text-align: right;\n",
       "    }\n",
       "</style>\n",
       "<table border=\"1\" class=\"dataframe\">\n",
       "  <thead>\n",
       "    <tr style=\"text-align: right;\">\n",
       "      <th></th>\n",
       "      <th>userid</th>\n",
       "      <th>day</th>\n",
       "      <th>timestamp</th>\n",
       "      <th>touches</th>\n",
       "    </tr>\n",
       "  </thead>\n",
       "  <tbody>\n",
       "    <tr>\n",
       "      <th>0</th>\n",
       "      <td>1</td>\n",
       "      <td>2020-11-22</td>\n",
       "      <td>2020-11-22 00:00:00</td>\n",
       "      <td>6.0</td>\n",
       "    </tr>\n",
       "    <tr>\n",
       "      <th>1</th>\n",
       "      <td>1</td>\n",
       "      <td>2020-11-22</td>\n",
       "      <td>2020-11-22 00:00:03</td>\n",
       "      <td>1.0</td>\n",
       "    </tr>\n",
       "    <tr>\n",
       "      <th>2</th>\n",
       "      <td>1</td>\n",
       "      <td>2020-11-22</td>\n",
       "      <td>2020-11-22 00:00:06</td>\n",
       "      <td>2.0</td>\n",
       "    </tr>\n",
       "    <tr>\n",
       "      <th>3</th>\n",
       "      <td>1</td>\n",
       "      <td>2020-11-22</td>\n",
       "      <td>2020-11-22 00:00:53</td>\n",
       "      <td>2.0</td>\n",
       "    </tr>\n",
       "    <tr>\n",
       "      <th>4</th>\n",
       "      <td>1</td>\n",
       "      <td>2020-11-22</td>\n",
       "      <td>2020-11-22 00:00:54</td>\n",
       "      <td>1.0</td>\n",
       "    </tr>\n",
       "  </tbody>\n",
       "</table>\n",
       "</div>"
      ],
      "text/plain": [
       "   userid        day           timestamp  touches\n",
       "0       1 2020-11-22 2020-11-22 00:00:00      6.0\n",
       "1       1 2020-11-22 2020-11-22 00:00:03      1.0\n",
       "2       1 2020-11-22 2020-11-22 00:00:06      2.0\n",
       "3       1 2020-11-22 2020-11-22 00:00:53      2.0\n",
       "4       1 2020-11-22 2020-11-22 00:00:54      1.0"
      ]
     },
     "execution_count": 24,
     "metadata": {},
     "output_type": "execute_result"
    }
   ],
   "source": [
    "by_second.head()"
   ]
  },
  {
   "cell_type": "code",
   "execution_count": 25,
   "id": "c6fd1cf8",
   "metadata": {},
   "outputs": [
    {
     "name": "stderr",
     "output_type": "stream",
     "text": [
      "100%|█████████████████████████████████████████| 201/201 [00:05<00:00, 34.43it/s]"
     ]
    },
    {
     "name": "stdout",
     "output_type": "stream",
     "text": [
      "N: 201\n",
      "Done!\n"
     ]
    },
    {
     "name": "stderr",
     "output_type": "stream",
     "text": [
      "\n"
     ]
    }
   ],
   "source": [
    "IDs=by_second.userid.unique()\n",
    "IDs.sort()\n",
    "\n",
    "#data structure:\n",
    "'''\n",
    "{id: [2020-11-12, 2020-11,13, 2020-11-14,...]}   #for every ID, there is a list of days in which there is at least one observation from them. \n",
    "'''\n",
    "user_activity = dict()\n",
    "for ID in tqdm(IDs):\n",
    "    id_act = by_second[by_second.userid == ID]\n",
    "    # adding to the dictionary\n",
    "    user_activity[f'{ID}'] = pd.Series(id_act.day.unique()).sort_values().reset_index()\n",
    "\n",
    "print('N:',len(user_activity.keys()))\n",
    "print(\"Done!\")"
   ]
  },
  {
   "cell_type": "markdown",
   "id": "f37a41b3",
   "metadata": {},
   "source": [
    "Now, I need to know who went through the whole period and who didn't. This means:\n",
    "- counting the days the user sent "
   ]
  },
  {
   "cell_type": "code",
   "execution_count": 26,
   "id": "a0823a2d",
   "metadata": {},
   "outputs": [
    {
     "data": {
      "text/html": [
       "<div>\n",
       "<style scoped>\n",
       "    .dataframe tbody tr th:only-of-type {\n",
       "        vertical-align: middle;\n",
       "    }\n",
       "\n",
       "    .dataframe tbody tr th {\n",
       "        vertical-align: top;\n",
       "    }\n",
       "\n",
       "    .dataframe thead th {\n",
       "        text-align: right;\n",
       "    }\n",
       "</style>\n",
       "<table border=\"1\" class=\"dataframe\">\n",
       "  <thead>\n",
       "    <tr style=\"text-align: right;\">\n",
       "      <th></th>\n",
       "      <th>userid</th>\n",
       "      <th>start</th>\n",
       "      <th>finish</th>\n",
       "      <th>tot</th>\n",
       "      <th>cons</th>\n",
       "    </tr>\n",
       "  </thead>\n",
       "  <tbody>\n",
       "    <tr>\n",
       "      <th>0</th>\n",
       "      <td>1</td>\n",
       "      <td>2020-11-12</td>\n",
       "      <td>2020-11-25</td>\n",
       "      <td>13</td>\n",
       "      <td>False</td>\n",
       "    </tr>\n",
       "  </tbody>\n",
       "</table>\n",
       "</div>"
      ],
      "text/plain": [
       "   userid       start      finish  tot   cons\n",
       "0       1  2020-11-12  2020-11-25   13  False"
      ]
     },
     "execution_count": 26,
     "metadata": {},
     "output_type": "execute_result"
    }
   ],
   "source": [
    "def gantt_data_org(k, v):\n",
    "    #gantt data is named after the Gantt chart, although it's not present here\n",
    "    \n",
    "    #S is the Series of days; it's best if it's a consecutive 14 days (regardless of when they start)\n",
    "    \n",
    "    tot = 0\n",
    "    start = np.nan\n",
    "    end = np.nan\n",
    "    consecutive = False\n",
    "    \n",
    "    if len(v):  #if it's not empty, it will check for continuity\n",
    "        tot = (pd.to_datetime(v[-1]) - pd.to_datetime(v[0])).days\n",
    "        start, end = v[0], v[-1]\n",
    "        for i in range(len(v)-1):\n",
    "            v[i]  #current\n",
    "            v[i+1] #next\n",
    "            difference = (pd.to_datetime(v[i+1]) - pd.to_datetime(v[i])).days\n",
    "            if difference >= 2:    # if there is more than one day of difference it means that there was one \n",
    "                                   # day in the data with no observations\n",
    "                consecutive = False\n",
    "                break\n",
    "            else:\n",
    "                consecutive = True\n",
    "                \n",
    "    return pd.DataFrame([[k, start, end, tot, consecutive]], \n",
    "                        columns=['userid', 'start', 'finish', 'tot', 'cons'])\n",
    "\n",
    "#example of output:\n",
    "gantt_data_org(1, [\"2020-11-12\", \"2020-11-13\", \"2020-11-14\", \"2020-11-15\", \"2020-11-16\", \n",
    "                   \"2020-11-17\",   \"2020-11-18\", \"2020-11-19\", \"2020-11-25\"])\n"
   ]
  },
  {
   "cell_type": "code",
   "execution_count": 27,
   "id": "41dde2d3",
   "metadata": {},
   "outputs": [],
   "source": [
    "gantt_data = pd.DataFrame(columns=[\"userid\", \"start\", \"finish\", \"tot\", \"cons\"])\n",
    "for ID, days in user_activity.items():\n",
    "    res = gantt_data_org(ID, days[0].tolist())\n",
    "    gantt_data = pd.concat([gantt_data, res], ignore_index=True)"
   ]
  },
  {
   "cell_type": "code",
   "execution_count": 28,
   "id": "332d7911",
   "metadata": {},
   "outputs": [
    {
     "data": {
      "text/plain": [
       "tot\n",
       "0     10\n",
       "1      2\n",
       "2      2\n",
       "3      4\n",
       "4      1\n",
       "5      3\n",
       "6      2\n",
       "7      2\n",
       "8      1\n",
       "9      4\n",
       "10     1\n",
       "11     3\n",
       "12     1\n",
       "13     3\n",
       "14     4\n",
       "15     3\n",
       "17     2\n",
       "18     3\n",
       "19     2\n",
       "20     7\n",
       "22     1\n",
       "23     5\n",
       "24     1\n",
       "26     3\n",
       "27     1\n",
       "28     5\n",
       "29    13\n",
       "30    49\n",
       "31    34\n",
       "32    14\n",
       "33     5\n",
       "34     4\n",
       "35     5\n",
       "36     1\n",
       "Name: count, dtype: int64"
      ]
     },
     "execution_count": 28,
     "metadata": {},
     "output_type": "execute_result"
    }
   ],
   "source": [
    "gantt_data.tot.value_counts().sort_index()"
   ]
  },
  {
   "cell_type": "code",
   "execution_count": 29,
   "id": "c36d2195",
   "metadata": {},
   "outputs": [
    {
     "name": "stdout",
     "output_type": "stream",
     "text": [
      "Users with 14 days or less of recorded activity:\n",
      "\u001b[1m43\u001b[0m\n",
      "15 days or more of recorded activity: \n",
      "\u001b[1m158\u001b[0m\n",
      "\n",
      "Total: \n",
      "\u001b[1m201\u001b[0m\n"
     ]
    }
   ],
   "source": [
    "less_than_14 = sum(gantt_data.tot.value_counts().sort_index()[0:15])\n",
    "more_than_14 = sum(gantt_data.tot.value_counts().sort_index()[15:])\n",
    "total = less_than_14 + more_than_14\n",
    "print(f\"Users with 14 days or less of recorded activity:\\n{color.BOLD}{less_than_14}{color.END}\")\n",
    "print(f\"15 days or more of recorded activity: \\n{color.BOLD}{more_than_14}{color.END}\")\n",
    "print()\n",
    "print(f\"Total: \\n{color.BOLD}{total}{color.END}\")"
   ]
  },
  {
   "cell_type": "markdown",
   "id": "40572541",
   "metadata": {},
   "source": [
    "There are 43 users who are absolutely not eligible for my analysis and are considered dropped out because they didn't even register 15 days, but 135 users who did well. Now that the general distribution has been seen, I will apply the same filter (people who did 15 days and people who did 14 or less) but regarding the specific time period of 12th November to the 27th of the same month.\n",
    "\n",
    "As we can see in the figure below, most people dropped out around the 30th day or so because they complied with a continuation of the experiment, which was facultative for extending the data. Unfortunately, since in another dataset containing the time diary data, in the 12-27 period of November there is supposedly an answer at least every 30 minutes, and after there is an answer at least every 60 minutes (the notifications from the app recording the data were fired at different rates from one period to the other), making it less accurate."
   ]
  },
  {
   "cell_type": "code",
   "execution_count": 30,
   "id": "608a9b21",
   "metadata": {},
   "outputs": [
    {
     "data": {
      "image/png": "[encoded data removed]",
      "text/plain": [
       "<Figure size 640x480 with 1 Axes>"
      ]
     },
     "metadata": {},
     "output_type": "display_data"
    }
   ],
   "source": [
    "g = gantt_data[gantt_data.cons==True]\n",
    "\n",
    "sns.histplot(data=g, x=g.tot, stat=\"percent\", color=\"#660033\")\n",
    "plt.suptitle(\"Each bar height represents the frequency of days for users from start until the end\", y=0.91, ha='center', fontsize=8)\n",
    "plt.title(\"Consecutive days for users before dropping out\", y=1.04,fontsize=18)\n",
    "plt.show()"
   ]
  },
  {
   "cell_type": "code",
   "execution_count": 31,
   "id": "6b396b56",
   "metadata": {},
   "outputs": [
    {
     "name": "stderr",
     "output_type": "stream",
     "text": [
      "100%|█████████████████████████████████████████| 201/201 [00:12<00:00, 16.28it/s]\n"
     ]
    },
    {
     "name": "stdout",
     "output_type": "stream",
     "text": [
      "N: 201\n",
      "New Filtering done!\n"
     ]
    },
    {
     "data": {
      "text/plain": [
       "tot\n",
       "0      11\n",
       "1       3\n",
       "2       4\n",
       "3       3\n",
       "4       3\n",
       "5       3\n",
       "7       3\n",
       "8       1\n",
       "9       2\n",
       "10      2\n",
       "11      2\n",
       "12      4\n",
       "13      9\n",
       "14      4\n",
       "15    147\n",
       "Name: count, dtype: int64"
      ]
     },
     "execution_count": 31,
     "metadata": {},
     "output_type": "execute_result"
    }
   ],
   "source": [
    "# Filtering for period of interest\n",
    "user_activity = dict()\n",
    "for ID in tqdm(IDs):\n",
    "    id_act = by_second[by_second.userid == ID]\n",
    "    id_act = id_act[id_act.day.dt.month == 11]\n",
    "    id_act = id_act[id_act.day.dt.day <= 27]\n",
    "    id_act = id_act[id_act.day.dt.day >= 12]\n",
    "    # adding to the dictionary\n",
    "    user_activity[f'{ID}'] = pd.Series(id_act.day.unique()).sort_values().reset_index()\n",
    "print(\"N:\",len(user_activity.keys()))\n",
    "print(\"New Filtering done!\")\n",
    "\n",
    "gantt_data = pd.DataFrame(columns=[\"userid\", \"start\", \"finish\", \"tot\", \"cons\"])\n",
    "for ID, days in user_activity.items():\n",
    "    res = gantt_data_org(ID, days[0].tolist())\n",
    "    gantt_data = pd.concat([gantt_data, res], ignore_index=True)\n",
    "gantt_data.tot.value_counts().sort_index()"
   ]
  },
  {
   "cell_type": "code",
   "execution_count": 32,
   "id": "fbec1739",
   "metadata": {},
   "outputs": [
    {
     "data": {
      "image/png": "[encoded data removed]",
      "text/plain": [
       "<Figure size 640x480 with 1 Axes>"
      ]
     },
     "metadata": {},
     "output_type": "display_data"
    }
   ],
   "source": [
    "g = gantt_data[gantt_data.cons==True]\n",
    "p = sns.histplot(data=g, x=g.tot, stat=\"percent\", color=\"#660033\", bins=15)\n",
    "p.set_xticks(range(1,18)) \n",
    "plt.suptitle(\"Each bar height represents the frequency of days for users from start until the end\", y=0.86, ha='center', fontsize=8)\n",
    "plt.title(\"Consecutive Days 15 day period version\", y=1.04,fontsize=18)\n",
    "plt.tight_layout()\n",
    "plt.savefig('before_dropout.png')\n",
    "plt.show()"
   ]
  },
  {
   "cell_type": "code",
   "execution_count": 77,
   "id": "8e891272",
   "metadata": {},
   "outputs": [
    {
     "name": "stdout",
     "output_type": "stream",
     "text": [
      "Expected drop in user id count: from 201 to 147\n",
      "Rows of the whole dataset before selection: \n",
      "\u001b[1m19,859,174\u001b[0m\n",
      "Rows of the whole dataset after selection: \n",
      "\u001b[1m10,888,709\u001b[0m\n",
      "N° of users: 147\n"
     ]
    }
   ],
   "source": [
    "dropouts = gantt_data[gantt_data.tot <= 14].userid\n",
    "\n",
    "print(\"Expected drop in user id count: from\", gantt_data.shape[0], \"to\", gantt_data.shape[0] - len(dropouts))\n",
    "print(f'Rows of the whole dataset before selection: \\n{color.BOLD}{by_second.shape[0]:,}{color.END}', )\n",
    "df = by_second[~by_second['userid'].isin(dropouts.astype(int))]\n",
    "df = df[df.day.dt.month == 11]\n",
    "df = df[df.day.dt.day <= 28]\n",
    "df = df[df.day.dt.day >= 11]\n",
    "\n",
    "to_keep = df.userid.unique()\n",
    "print(f'Rows of the whole dataset after selection: \\n{color.BOLD}{df.shape[0]:,}{color.END}', )\n",
    "print(\"N° of users:\", len(df.userid.unique()))\n",
    "filename = 'Processed Data/by_second_15.csv'"
   ]
  },
  {
   "cell_type": "code",
   "execution_count": 78,
   "id": "12c9f701",
   "metadata": {},
   "outputs": [
    {
     "ename": "AttributeError",
     "evalue": "'numpy.ndarray' object has no attribute 'to_csv'",
     "output_type": "error",
     "traceback": [
      "\u001b[0;31m---------------------------------------------------------------------------\u001b[0m",
      "\u001b[0;31mAttributeError\u001b[0m                            Traceback (most recent call last)",
      "Cell \u001b[0;32mIn[78], line 5\u001b[0m\n\u001b[1;32m      3\u001b[0m df\u001b[38;5;241m.\u001b[39mto_csv(filename)\n\u001b[1;32m      4\u001b[0m dropouts\u001b[38;5;241m.\u001b[39mto_csv(\u001b[38;5;124m\"\u001b[39m\u001b[38;5;124mProcessed Data/userid_dropped.csv\u001b[39m\u001b[38;5;124m\"\u001b[39m)\n\u001b[0;32m----> 5\u001b[0m to_keep\u001b[38;5;241m.\u001b[39mto_csv(\u001b[38;5;124m\"\u001b[39m\u001b[38;5;124mProcessed Data/userid_dropped.csv\u001b[39m\u001b[38;5;124m\"\u001b[39m)\n",
      "\u001b[0;31mAttributeError\u001b[0m: 'numpy.ndarray' object has no attribute 'to_csv'"
     ]
    }
   ],
   "source": [
    "# Saving list of dropouts and the by_second 15 period dataframe\n",
    "df.to_csv(filename)\n",
    "dropouts.to_csv(\"Processed Data/userid_dropped.csv\")\n",
    "to_keep.to_csv(\"Processed Data/userid_dropped.csv\")"
   ]
  },
  {
   "cell_type": "markdown",
   "id": "44066edd",
   "metadata": {},
   "source": [
    "# 15 day period - by minute version\n",
    "Now, denoting what time a row belongs to using human day measures requires a certain computational power, so the dataset will be reduced into minutes."
   ]
  },
  {
   "cell_type": "code",
   "execution_count": 4,
   "id": "e4023eb7",
   "metadata": {},
   "outputs": [],
   "source": [
    "four_million = 4*10**6\n",
    "df_min = pd.DataFrame()"
   ]
  },
  {
   "cell_type": "code",
   "execution_count": 5,
   "id": "05aca169",
   "metadata": {},
   "outputs": [
    {
     "name": "stderr",
     "output_type": "stream",
     "text": [
      "3it [00:23,  7.81s/it]"
     ]
    },
    {
     "name": "stdout",
     "output_type": "stream",
     "text": [
      "Done!\n"
     ]
    },
    {
     "name": "stderr",
     "output_type": "stream",
     "text": [
      "\n"
     ]
    }
   ],
   "source": [
    "filename = 'Processed Data/by_second_15.csv'\n",
    "for chunk in tqdm(pd.read_csv(filename, chunksize=four_million)): \n",
    "    temp = chunk[['userid', 'timestamp', 'touches']].copy(deep=True)\n",
    "    temp['timestamp'] = pd.to_datetime(temp['timestamp'], yearfirst=True).copy(deep=True)\n",
    "    temp = temp.groupby(['userid', pd.Grouper(key='timestamp', freq='1Min')])['touches'].sum().reset_index().copy(deep=True)\n",
    "    \n",
    "    df_min = pd.concat([df_min, temp], ignore_index=True) \n",
    "print(\"Done!\")"
   ]
  },
  {
   "cell_type": "code",
   "execution_count": 6,
   "id": "f9c197b1",
   "metadata": {},
   "outputs": [
    {
     "name": "stdout",
     "output_type": "stream",
     "text": [
      "Rows: 682,611\n"
     ]
    }
   ],
   "source": [
    "# run once more to avoid duplicates, see issue in file_reduction.ipynb\n",
    "import timedelta\n",
    "\n",
    "df_min = df_min.groupby(['userid', pd.Grouper(key='timestamp', freq='1Min')])['touches'].sum().reset_index().copy(deep=True)\n",
    "df_min['touches'] = df_min.touches.astype(int)\n",
    "print(f'Rows: {df_min.shape[0]:,}')  #should be '682,611'"
   ]
  },
  {
   "cell_type": "markdown",
   "id": "f0e925c8",
   "metadata": {},
   "source": [
    "# Side question:\n",
    "Humans generally stay awake 16 to 18 hours of their 24 hour day, so about 17/24 = 71% is spent awake. Out of these hours, which amount corresponds to the times the phone is checked?\n",
    "Each row corresponds to one minute for one user, so length of the data is \"N rows\""
   ]
  },
  {
   "cell_type": "code",
   "execution_count": 7,
   "id": "ea6ef884",
   "metadata": {},
   "outputs": [
    {
     "name": "stdout",
     "output_type": "stream",
     "text": [
      "\u001b[1mformula used\u001b[0m: \n",
      "(N rows) / (total possible minutes awake in the 15 day period)\n",
      "\n",
      "682,611 / (25919 x 0.71 x 147) = 25.29 %\n",
      "\n",
      "For all the time the average user is awake,\u001b[1m the total amount of the minutes is one quarter checking the phone at least once\u001b[0m.\n",
      "Each minute spent checking the phone has a\u001b[1m median of 37 touches. \u001b[0m\n"
     ]
    }
   ],
   "source": [
    "time = timedelta.Timedelta(df_min.timestamp.max() - df_min.timestamp.min()).total\n",
    "n_users = len(df_min.userid.unique())\n",
    "print(f'{color.BOLD}formula used{color.END}: \\n(N rows) / (total possible minutes awake in the 15 day period)')\n",
    "print()\n",
    "print(f'{df_min.shape[0]:,} / ({time.minutes} x {17/24:.2f} x {n_users}) = {df_min.shape[0] / ((time.minutes)*n_users*(17/24)) * 100:.2f} %')\n",
    "print()\n",
    "print(f\"For all the time the average user is awake,{color.BOLD} the total amount of the minutes is one quarter checking the phone at least once{color.END}.\\nEach minute spent checking the phone has a{color.BOLD} median of {df_min.touches.median():.0f} touches. {color.END}\")"
   ]
  },
  {
   "cell_type": "code",
   "execution_count": 8,
   "id": "ca849032",
   "metadata": {},
   "outputs": [],
   "source": [
    "days = dict()\n",
    "for i in range(10, 29):\n",
    "    days[i] = i-12 + 1   #days translates to month days to common count of days\n",
    "    \n",
    "def today_or_yesterday(t): \n",
    "    if t.hour < 5:\n",
    "        return days[t.day - 1]\n",
    "    else:\n",
    "        return days[t.day]\n",
    "day = [[today_or_yesterday(timestamp) for timestamp in df_min['timestamp']]]\n",
    "df_min.insert(3, 'day', pd.Series(day[0]))"
   ]
  },
  {
   "cell_type": "code",
   "execution_count": 9,
   "id": "1d641aab",
   "metadata": {},
   "outputs": [
    {
     "data": {
      "text/html": [
       "<div>\n",
       "<style scoped>\n",
       "    .dataframe tbody tr th:only-of-type {\n",
       "        vertical-align: middle;\n",
       "    }\n",
       "\n",
       "    .dataframe tbody tr th {\n",
       "        vertical-align: top;\n",
       "    }\n",
       "\n",
       "    .dataframe thead th {\n",
       "        text-align: right;\n",
       "    }\n",
       "</style>\n",
       "<table border=\"1\" class=\"dataframe\">\n",
       "  <thead>\n",
       "    <tr style=\"text-align: right;\">\n",
       "      <th></th>\n",
       "      <th>userid</th>\n",
       "      <th>timestamp</th>\n",
       "      <th>touches</th>\n",
       "      <th>day</th>\n",
       "    </tr>\n",
       "  </thead>\n",
       "  <tbody>\n",
       "    <tr>\n",
       "      <th>361</th>\n",
       "      <td>1</td>\n",
       "      <td>2020-11-12 23:55:00</td>\n",
       "      <td>3</td>\n",
       "      <td>1</td>\n",
       "    </tr>\n",
       "    <tr>\n",
       "      <th>362</th>\n",
       "      <td>1</td>\n",
       "      <td>2020-11-12 23:56:00</td>\n",
       "      <td>3</td>\n",
       "      <td>1</td>\n",
       "    </tr>\n",
       "    <tr>\n",
       "      <th>363</th>\n",
       "      <td>1</td>\n",
       "      <td>2020-11-13 00:07:00</td>\n",
       "      <td>2</td>\n",
       "      <td>1</td>\n",
       "    </tr>\n",
       "    <tr>\n",
       "      <th>364</th>\n",
       "      <td>1</td>\n",
       "      <td>2020-11-13 00:08:00</td>\n",
       "      <td>12</td>\n",
       "      <td>1</td>\n",
       "    </tr>\n",
       "    <tr>\n",
       "      <th>365</th>\n",
       "      <td>1</td>\n",
       "      <td>2020-11-13 00:10:00</td>\n",
       "      <td>8</td>\n",
       "      <td>1</td>\n",
       "    </tr>\n",
       "    <tr>\n",
       "      <th>381</th>\n",
       "      <td>1</td>\n",
       "      <td>2020-11-13 08:10:00</td>\n",
       "      <td>13</td>\n",
       "      <td>2</td>\n",
       "    </tr>\n",
       "    <tr>\n",
       "      <th>382</th>\n",
       "      <td>1</td>\n",
       "      <td>2020-11-13 09:05:00</td>\n",
       "      <td>1</td>\n",
       "      <td>2</td>\n",
       "    </tr>\n",
       "    <tr>\n",
       "      <th>383</th>\n",
       "      <td>1</td>\n",
       "      <td>2020-11-13 09:06:00</td>\n",
       "      <td>32</td>\n",
       "      <td>2</td>\n",
       "    </tr>\n",
       "    <tr>\n",
       "      <th>384</th>\n",
       "      <td>1</td>\n",
       "      <td>2020-11-13 09:07:00</td>\n",
       "      <td>17</td>\n",
       "      <td>2</td>\n",
       "    </tr>\n",
       "    <tr>\n",
       "      <th>385</th>\n",
       "      <td>1</td>\n",
       "      <td>2020-11-13 09:08:00</td>\n",
       "      <td>22</td>\n",
       "      <td>2</td>\n",
       "    </tr>\n",
       "    <tr>\n",
       "      <th>386</th>\n",
       "      <td>1</td>\n",
       "      <td>2020-11-13 09:09:00</td>\n",
       "      <td>11</td>\n",
       "      <td>2</td>\n",
       "    </tr>\n",
       "  </tbody>\n",
       "</table>\n",
       "</div>"
      ],
      "text/plain": [
       "     userid           timestamp  touches  day\n",
       "361       1 2020-11-12 23:55:00        3    1\n",
       "362       1 2020-11-12 23:56:00        3    1\n",
       "363       1 2020-11-13 00:07:00        2    1\n",
       "364       1 2020-11-13 00:08:00       12    1\n",
       "365       1 2020-11-13 00:10:00        8    1\n",
       "381       1 2020-11-13 08:10:00       13    2\n",
       "382       1 2020-11-13 09:05:00        1    2\n",
       "383       1 2020-11-13 09:06:00       32    2\n",
       "384       1 2020-11-13 09:07:00       17    2\n",
       "385       1 2020-11-13 09:08:00       22    2\n",
       "386       1 2020-11-13 09:09:00       11    2"
      ]
     },
     "execution_count": 9,
     "metadata": {},
     "output_type": "execute_result"
    }
   ],
   "source": [
    "df_min[df_min.userid==1 &\n",
    "       ((df_min['timestamp'].dt.day == 12) & \n",
    "        (df_min['timestamp'].dt.hour >= 23) & (df_min['timestamp'].dt.minute >= 55)| \n",
    "        (df_min['timestamp'].dt.day == 13) & \n",
    "        (df_min['timestamp'].dt.hour <= 9) & (df_min['timestamp'].dt.minute <= 10)) \n",
    "      ].head(25)\n",
    "# Looking at the day indicator below, it stayed the same when needed and changed when needed."
   ]
  },
  {
   "cell_type": "code",
   "execution_count": 10,
   "id": "831c0160",
   "metadata": {},
   "outputs": [
    {
     "data": {
      "text/plain": [
       "\"\\nplt.figure(figsize=(10, 6))\\ng = sns.boxenplot(x='day', y='touches', data=df_min)\\nplt.xlabel('Day')\\nplt.ylabel('Touches')\\nhuman_days = [' Wed', 'Thu', 'Fri','Sat', 'Sun', 'Mon', 'Tue',] * 2\\nhuman_days.extend([' Wed', 'Thu', 'Fri', 'Sat', 'Sun'])\\ng.set_xticklabels(human_days)\\nplt.title('Touches Across Days')\\nplt.show()\\n\""
      ]
     },
     "execution_count": 10,
     "metadata": {},
     "output_type": "execute_result"
    }
   ],
   "source": [
    "'''\n",
    "plt.figure(figsize=(10, 6))\n",
    "g = sns.boxenplot(x='day', y='touches', data=df_min)\n",
    "plt.xlabel('Day')\n",
    "plt.ylabel('Touches')\n",
    "human_days = [' Wed', 'Thu', 'Fri','Sat', 'Sun', 'Mon', 'Tue',] * 2\n",
    "human_days.extend([' Wed', 'Thu', 'Fri', 'Sat', 'Sun'])\n",
    "g.set_xticklabels(human_days)\n",
    "plt.title('Touches Across Days')\n",
    "plt.show()\n",
    "'''"
   ]
  },
  {
   "cell_type": "code",
   "execution_count": 11,
   "id": "944f2a10",
   "metadata": {},
   "outputs": [],
   "source": [
    "#Graph: I need to make code more readable.\n",
    "\n",
    "out = df_min[df_min.userid.isin([1])]\n",
    "min_range = pd.date_range(start=df_min.timestamp.min(), end=df_min.timestamp.max(), freq='T')\n",
    "complete_data = {'timestamp': min_range}\n",
    "complete_df = pd.DataFrame(complete_data)\n",
    "out = pd.merge(complete_df, pd.DataFrame(out), how='left', on='timestamp')\n",
    "out['touches'] = out['touches'].fillna(0).astype(int)"
   ]
  },
  {
   "cell_type": "code",
   "execution_count": 12,
   "id": "42e42d6a",
   "metadata": {},
   "outputs": [
    {
     "data": {
      "text/plain": [
       "Timestamp('2020-11-11 00:00:00')"
      ]
     },
     "execution_count": 12,
     "metadata": {},
     "output_type": "execute_result"
    }
   ],
   "source": [
    "out.timestamp.min()"
   ]
  },
  {
   "cell_type": "code",
   "execution_count": 13,
   "id": "c5d958ec",
   "metadata": {},
   "outputs": [
    {
     "data": {
      "text/html": [
       "<div>\n",
       "<style scoped>\n",
       "    .dataframe tbody tr th:only-of-type {\n",
       "        vertical-align: middle;\n",
       "    }\n",
       "\n",
       "    .dataframe tbody tr th {\n",
       "        vertical-align: top;\n",
       "    }\n",
       "\n",
       "    .dataframe thead th {\n",
       "        text-align: right;\n",
       "    }\n",
       "</style>\n",
       "<table border=\"1\" class=\"dataframe\">\n",
       "  <thead>\n",
       "    <tr style=\"text-align: right;\">\n",
       "      <th></th>\n",
       "      <th>timestamp</th>\n",
       "      <th>touches</th>\n",
       "      <th>day</th>\n",
       "    </tr>\n",
       "  </thead>\n",
       "  <tbody>\n",
       "    <tr>\n",
       "      <th>0</th>\n",
       "      <td>2020-11-11 00:00:00</td>\n",
       "      <td>0</td>\n",
       "      <td>NaN</td>\n",
       "    </tr>\n",
       "    <tr>\n",
       "      <th>1</th>\n",
       "      <td>2020-11-11 00:01:00</td>\n",
       "      <td>0</td>\n",
       "      <td>NaN</td>\n",
       "    </tr>\n",
       "    <tr>\n",
       "      <th>2</th>\n",
       "      <td>2020-11-11 00:02:00</td>\n",
       "      <td>0</td>\n",
       "      <td>NaN</td>\n",
       "    </tr>\n",
       "    <tr>\n",
       "      <th>3</th>\n",
       "      <td>2020-11-11 00:03:00</td>\n",
       "      <td>0</td>\n",
       "      <td>NaN</td>\n",
       "    </tr>\n",
       "    <tr>\n",
       "      <th>4</th>\n",
       "      <td>2020-11-11 00:04:00</td>\n",
       "      <td>0</td>\n",
       "      <td>NaN</td>\n",
       "    </tr>\n",
       "    <tr>\n",
       "      <th>...</th>\n",
       "      <td>...</td>\n",
       "      <td>...</td>\n",
       "      <td>...</td>\n",
       "    </tr>\n",
       "    <tr>\n",
       "      <th>25915</th>\n",
       "      <td>2020-11-28 23:55:00</td>\n",
       "      <td>0</td>\n",
       "      <td>NaN</td>\n",
       "    </tr>\n",
       "    <tr>\n",
       "      <th>25916</th>\n",
       "      <td>2020-11-28 23:56:00</td>\n",
       "      <td>0</td>\n",
       "      <td>NaN</td>\n",
       "    </tr>\n",
       "    <tr>\n",
       "      <th>25917</th>\n",
       "      <td>2020-11-28 23:57:00</td>\n",
       "      <td>0</td>\n",
       "      <td>NaN</td>\n",
       "    </tr>\n",
       "    <tr>\n",
       "      <th>25918</th>\n",
       "      <td>2020-11-28 23:58:00</td>\n",
       "      <td>0</td>\n",
       "      <td>NaN</td>\n",
       "    </tr>\n",
       "    <tr>\n",
       "      <th>25919</th>\n",
       "      <td>2020-11-28 23:59:00</td>\n",
       "      <td>0</td>\n",
       "      <td>NaN</td>\n",
       "    </tr>\n",
       "  </tbody>\n",
       "</table>\n",
       "<p>25920 rows × 3 columns</p>\n",
       "</div>"
      ],
      "text/plain": [
       "                timestamp  touches  day\n",
       "0     2020-11-11 00:00:00        0  NaN\n",
       "1     2020-11-11 00:01:00        0  NaN\n",
       "2     2020-11-11 00:02:00        0  NaN\n",
       "3     2020-11-11 00:03:00        0  NaN\n",
       "4     2020-11-11 00:04:00        0  NaN\n",
       "...                   ...      ...  ...\n",
       "25915 2020-11-28 23:55:00        0  NaN\n",
       "25916 2020-11-28 23:56:00        0  NaN\n",
       "25917 2020-11-28 23:57:00        0  NaN\n",
       "25918 2020-11-28 23:58:00        0  NaN\n",
       "25919 2020-11-28 23:59:00        0  NaN\n",
       "\n",
       "[25920 rows x 3 columns]"
      ]
     },
     "execution_count": 13,
     "metadata": {},
     "output_type": "execute_result"
    }
   ],
   "source": [
    "out.drop(columns=\"userid\", axis=0)"
   ]
  },
  {
   "cell_type": "code",
   "execution_count": 14,
   "id": "8b3451bb",
   "metadata": {},
   "outputs": [],
   "source": [
    "out['time'] = df_min['timestamp'].dt.hour\n",
    "out = out.groupby(['time', 'day'])['touches'].median().unstack()"
   ]
  },
  {
   "cell_type": "code",
   "execution_count": 15,
   "id": "1f4844af",
   "metadata": {},
   "outputs": [
    {
     "data": {
      "image/png": "[encoded data removed]",
      "text/plain": [
       "<Figure size 640x480 with 2 Axes>"
      ]
     },
     "metadata": {},
     "output_type": "display_data"
    }
   ],
   "source": [
    "g = sns.heatmap(out, cmap=\"flare\")\n",
    "human_days = [' Wed', 'Thu', 'Fri','Sat', 'Sun', 'Mon', 'Tue',] * 2\n",
    "human_days.extend([' Wed', 'Thu', 'Fri'])\n",
    "g.set_xticklabels(human_days)\n",
    "plt.savefig('heatmap_of_use.png')\n",
    "plt.show()"
   ]
  },
  {
   "cell_type": "code",
   "execution_count": 138,
   "id": "95a7cc9d",
   "metadata": {},
   "outputs": [
    {
     "ename": "SyntaxError",
     "evalue": "positional argument follows keyword argument (2240057307.py, line 6)",
     "output_type": "error",
     "traceback": [
      "\u001b[0;36m  Cell \u001b[0;32mIn[138], line 6\u001b[0;36m\u001b[0m\n\u001b[0;31m    sns.heatmap(data=g1, values=g1['day'], g1.timestamp.dt.strftime('%d-%m-%Y'))\u001b[0m\n\u001b[0m                                                                               ^\u001b[0m\n\u001b[0;31mSyntaxError\u001b[0m\u001b[0;31m:\u001b[0m positional argument follows keyword argument\n"
     ]
    }
   ],
   "source": [
    "fig, axes = plt.subplots(nrows=1, ncols=2, sharex=True)\n",
    "\n",
    "g1 = df_min[(df_min['day']== 1)]\n",
    "g2 = df_min[(df_min['day']== 2)]\n",
    "\n",
    "sns.heatmap(data=g1, values=g1['day'], g1.timestamp.dt.strftime('%d-%m-%Y'))"
   ]
  },
  {
   "cell_type": "code",
   "execution_count": 66,
   "id": "63483970",
   "metadata": {},
   "outputs": [],
   "source": [
    "demographics = pd.read_stata(\"Raw Data/data4diarynew_ITA.dta\")\n",
    "time_diary = pd.read_stata(\"Raw Data/td_ita.dta\")"
   ]
  },
  {
   "cell_type": "code",
   "execution_count": 79,
   "id": "9da75153",
   "metadata": {
    "collapsed": true
   },
   "outputs": [
    {
     "ename": "FileNotFoundError",
     "evalue": "[Errno 2] No such file or directory: 'Processed Data/to_keep.csv'",
     "output_type": "error",
     "traceback": [
      "\u001b[0;31m---------------------------------------------------------------------------\u001b[0m",
      "\u001b[0;31mFileNotFoundError\u001b[0m                         Traceback (most recent call last)",
      "Cell \u001b[0;32mIn[79], line 1\u001b[0m\n\u001b[0;32m----> 1\u001b[0m to_keep \u001b[38;5;241m=\u001b[39m pd\u001b[38;5;241m.\u001b[39mread_csv(\u001b[38;5;124m'\u001b[39m\u001b[38;5;124mProcessed Data/to_keep.csv\u001b[39m\u001b[38;5;124m'\u001b[39m)\n",
      "File \u001b[0;32m~/anaconda3/lib/python3.11/site-packages/pandas/io/parsers/readers.py:912\u001b[0m, in \u001b[0;36mread_csv\u001b[0;34m(filepath_or_buffer, sep, delimiter, header, names, index_col, usecols, dtype, engine, converters, true_values, false_values, skipinitialspace, skiprows, skipfooter, nrows, na_values, keep_default_na, na_filter, verbose, skip_blank_lines, parse_dates, infer_datetime_format, keep_date_col, date_parser, date_format, dayfirst, cache_dates, iterator, chunksize, compression, thousands, decimal, lineterminator, quotechar, quoting, doublequote, escapechar, comment, encoding, encoding_errors, dialect, on_bad_lines, delim_whitespace, low_memory, memory_map, float_precision, storage_options, dtype_backend)\u001b[0m\n\u001b[1;32m    899\u001b[0m kwds_defaults \u001b[38;5;241m=\u001b[39m _refine_defaults_read(\n\u001b[1;32m    900\u001b[0m     dialect,\n\u001b[1;32m    901\u001b[0m     delimiter,\n\u001b[0;32m   (...)\u001b[0m\n\u001b[1;32m    908\u001b[0m     dtype_backend\u001b[38;5;241m=\u001b[39mdtype_backend,\n\u001b[1;32m    909\u001b[0m )\n\u001b[1;32m    910\u001b[0m kwds\u001b[38;5;241m.\u001b[39mupdate(kwds_defaults)\n\u001b[0;32m--> 912\u001b[0m \u001b[38;5;28;01mreturn\u001b[39;00m _read(filepath_or_buffer, kwds)\n",
      "File \u001b[0;32m~/anaconda3/lib/python3.11/site-packages/pandas/io/parsers/readers.py:577\u001b[0m, in \u001b[0;36m_read\u001b[0;34m(filepath_or_buffer, kwds)\u001b[0m\n\u001b[1;32m    574\u001b[0m _validate_names(kwds\u001b[38;5;241m.\u001b[39mget(\u001b[38;5;124m\"\u001b[39m\u001b[38;5;124mnames\u001b[39m\u001b[38;5;124m\"\u001b[39m, \u001b[38;5;28;01mNone\u001b[39;00m))\n\u001b[1;32m    576\u001b[0m \u001b[38;5;66;03m# Create the parser.\u001b[39;00m\n\u001b[0;32m--> 577\u001b[0m parser \u001b[38;5;241m=\u001b[39m TextFileReader(filepath_or_buffer, \u001b[38;5;241m*\u001b[39m\u001b[38;5;241m*\u001b[39mkwds)\n\u001b[1;32m    579\u001b[0m \u001b[38;5;28;01mif\u001b[39;00m chunksize \u001b[38;5;129;01mor\u001b[39;00m iterator:\n\u001b[1;32m    580\u001b[0m     \u001b[38;5;28;01mreturn\u001b[39;00m parser\n",
      "File \u001b[0;32m~/anaconda3/lib/python3.11/site-packages/pandas/io/parsers/readers.py:1407\u001b[0m, in \u001b[0;36mTextFileReader.__init__\u001b[0;34m(self, f, engine, **kwds)\u001b[0m\n\u001b[1;32m   1404\u001b[0m     \u001b[38;5;28mself\u001b[39m\u001b[38;5;241m.\u001b[39moptions[\u001b[38;5;124m\"\u001b[39m\u001b[38;5;124mhas_index_names\u001b[39m\u001b[38;5;124m\"\u001b[39m] \u001b[38;5;241m=\u001b[39m kwds[\u001b[38;5;124m\"\u001b[39m\u001b[38;5;124mhas_index_names\u001b[39m\u001b[38;5;124m\"\u001b[39m]\n\u001b[1;32m   1406\u001b[0m \u001b[38;5;28mself\u001b[39m\u001b[38;5;241m.\u001b[39mhandles: IOHandles \u001b[38;5;241m|\u001b[39m \u001b[38;5;28;01mNone\u001b[39;00m \u001b[38;5;241m=\u001b[39m \u001b[38;5;28;01mNone\u001b[39;00m\n\u001b[0;32m-> 1407\u001b[0m \u001b[38;5;28mself\u001b[39m\u001b[38;5;241m.\u001b[39m_engine \u001b[38;5;241m=\u001b[39m \u001b[38;5;28mself\u001b[39m\u001b[38;5;241m.\u001b[39m_make_engine(f, \u001b[38;5;28mself\u001b[39m\u001b[38;5;241m.\u001b[39mengine)\n",
      "File \u001b[0;32m~/anaconda3/lib/python3.11/site-packages/pandas/io/parsers/readers.py:1661\u001b[0m, in \u001b[0;36mTextFileReader._make_engine\u001b[0;34m(self, f, engine)\u001b[0m\n\u001b[1;32m   1659\u001b[0m     \u001b[38;5;28;01mif\u001b[39;00m \u001b[38;5;124m\"\u001b[39m\u001b[38;5;124mb\u001b[39m\u001b[38;5;124m\"\u001b[39m \u001b[38;5;129;01mnot\u001b[39;00m \u001b[38;5;129;01min\u001b[39;00m mode:\n\u001b[1;32m   1660\u001b[0m         mode \u001b[38;5;241m+\u001b[39m\u001b[38;5;241m=\u001b[39m \u001b[38;5;124m\"\u001b[39m\u001b[38;5;124mb\u001b[39m\u001b[38;5;124m\"\u001b[39m\n\u001b[0;32m-> 1661\u001b[0m \u001b[38;5;28mself\u001b[39m\u001b[38;5;241m.\u001b[39mhandles \u001b[38;5;241m=\u001b[39m get_handle(\n\u001b[1;32m   1662\u001b[0m     f,\n\u001b[1;32m   1663\u001b[0m     mode,\n\u001b[1;32m   1664\u001b[0m     encoding\u001b[38;5;241m=\u001b[39m\u001b[38;5;28mself\u001b[39m\u001b[38;5;241m.\u001b[39moptions\u001b[38;5;241m.\u001b[39mget(\u001b[38;5;124m\"\u001b[39m\u001b[38;5;124mencoding\u001b[39m\u001b[38;5;124m\"\u001b[39m, \u001b[38;5;28;01mNone\u001b[39;00m),\n\u001b[1;32m   1665\u001b[0m     compression\u001b[38;5;241m=\u001b[39m\u001b[38;5;28mself\u001b[39m\u001b[38;5;241m.\u001b[39moptions\u001b[38;5;241m.\u001b[39mget(\u001b[38;5;124m\"\u001b[39m\u001b[38;5;124mcompression\u001b[39m\u001b[38;5;124m\"\u001b[39m, \u001b[38;5;28;01mNone\u001b[39;00m),\n\u001b[1;32m   1666\u001b[0m     memory_map\u001b[38;5;241m=\u001b[39m\u001b[38;5;28mself\u001b[39m\u001b[38;5;241m.\u001b[39moptions\u001b[38;5;241m.\u001b[39mget(\u001b[38;5;124m\"\u001b[39m\u001b[38;5;124mmemory_map\u001b[39m\u001b[38;5;124m\"\u001b[39m, \u001b[38;5;28;01mFalse\u001b[39;00m),\n\u001b[1;32m   1667\u001b[0m     is_text\u001b[38;5;241m=\u001b[39mis_text,\n\u001b[1;32m   1668\u001b[0m     errors\u001b[38;5;241m=\u001b[39m\u001b[38;5;28mself\u001b[39m\u001b[38;5;241m.\u001b[39moptions\u001b[38;5;241m.\u001b[39mget(\u001b[38;5;124m\"\u001b[39m\u001b[38;5;124mencoding_errors\u001b[39m\u001b[38;5;124m\"\u001b[39m, \u001b[38;5;124m\"\u001b[39m\u001b[38;5;124mstrict\u001b[39m\u001b[38;5;124m\"\u001b[39m),\n\u001b[1;32m   1669\u001b[0m     storage_options\u001b[38;5;241m=\u001b[39m\u001b[38;5;28mself\u001b[39m\u001b[38;5;241m.\u001b[39moptions\u001b[38;5;241m.\u001b[39mget(\u001b[38;5;124m\"\u001b[39m\u001b[38;5;124mstorage_options\u001b[39m\u001b[38;5;124m\"\u001b[39m, \u001b[38;5;28;01mNone\u001b[39;00m),\n\u001b[1;32m   1670\u001b[0m )\n\u001b[1;32m   1671\u001b[0m \u001b[38;5;28;01massert\u001b[39;00m \u001b[38;5;28mself\u001b[39m\u001b[38;5;241m.\u001b[39mhandles \u001b[38;5;129;01mis\u001b[39;00m \u001b[38;5;129;01mnot\u001b[39;00m \u001b[38;5;28;01mNone\u001b[39;00m\n\u001b[1;32m   1672\u001b[0m f \u001b[38;5;241m=\u001b[39m \u001b[38;5;28mself\u001b[39m\u001b[38;5;241m.\u001b[39mhandles\u001b[38;5;241m.\u001b[39mhandle\n",
      "File \u001b[0;32m~/anaconda3/lib/python3.11/site-packages/pandas/io/common.py:859\u001b[0m, in \u001b[0;36mget_handle\u001b[0;34m(path_or_buf, mode, encoding, compression, memory_map, is_text, errors, storage_options)\u001b[0m\n\u001b[1;32m    854\u001b[0m \u001b[38;5;28;01melif\u001b[39;00m \u001b[38;5;28misinstance\u001b[39m(handle, \u001b[38;5;28mstr\u001b[39m):\n\u001b[1;32m    855\u001b[0m     \u001b[38;5;66;03m# Check whether the filename is to be opened in binary mode.\u001b[39;00m\n\u001b[1;32m    856\u001b[0m     \u001b[38;5;66;03m# Binary mode does not support 'encoding' and 'newline'.\u001b[39;00m\n\u001b[1;32m    857\u001b[0m     \u001b[38;5;28;01mif\u001b[39;00m ioargs\u001b[38;5;241m.\u001b[39mencoding \u001b[38;5;129;01mand\u001b[39;00m \u001b[38;5;124m\"\u001b[39m\u001b[38;5;124mb\u001b[39m\u001b[38;5;124m\"\u001b[39m \u001b[38;5;129;01mnot\u001b[39;00m \u001b[38;5;129;01min\u001b[39;00m ioargs\u001b[38;5;241m.\u001b[39mmode:\n\u001b[1;32m    858\u001b[0m         \u001b[38;5;66;03m# Encoding\u001b[39;00m\n\u001b[0;32m--> 859\u001b[0m         handle \u001b[38;5;241m=\u001b[39m \u001b[38;5;28mopen\u001b[39m(\n\u001b[1;32m    860\u001b[0m             handle,\n\u001b[1;32m    861\u001b[0m             ioargs\u001b[38;5;241m.\u001b[39mmode,\n\u001b[1;32m    862\u001b[0m             encoding\u001b[38;5;241m=\u001b[39mioargs\u001b[38;5;241m.\u001b[39mencoding,\n\u001b[1;32m    863\u001b[0m             errors\u001b[38;5;241m=\u001b[39merrors,\n\u001b[1;32m    864\u001b[0m             newline\u001b[38;5;241m=\u001b[39m\u001b[38;5;124m\"\u001b[39m\u001b[38;5;124m\"\u001b[39m,\n\u001b[1;32m    865\u001b[0m         )\n\u001b[1;32m    866\u001b[0m     \u001b[38;5;28;01melse\u001b[39;00m:\n\u001b[1;32m    867\u001b[0m         \u001b[38;5;66;03m# Binary mode\u001b[39;00m\n\u001b[1;32m    868\u001b[0m         handle \u001b[38;5;241m=\u001b[39m \u001b[38;5;28mopen\u001b[39m(handle, ioargs\u001b[38;5;241m.\u001b[39mmode)\n",
      "\u001b[0;31mFileNotFoundError\u001b[0m: [Errno 2] No such file or directory: 'Processed Data/to_keep.csv'"
     ]
    }
   ],
   "source": [
    "to_keep = pd.read_csv('Processed Data/to_keep.csv')"
   ]
  },
  {
   "cell_type": "markdown",
   "id": "c4566400",
   "metadata": {},
   "source": [
    "Unfortunately, I need to keep 147 users that I have sensor data on and for the days that I selected. "
   ]
  },
  {
   "cell_type": "code",
   "execution_count": 67,
   "id": "49f50fe6",
   "metadata": {},
   "outputs": [
    {
     "data": {
      "text/plain": [
       "Timestamp('2020-12-09 09:40:51')"
      ]
     },
     "execution_count": 67,
     "metadata": {},
     "output_type": "execute_result"
    }
   ],
   "source": [
    "time_diary[time_diary['first2w'] == 'First two weeks'].datein_answ.max()"
   ]
  },
  {
   "cell_type": "code",
   "execution_count": 82,
   "id": "ab3fb98b",
   "metadata": {},
   "outputs": [],
   "source": [
    "to_keep = gantt_data.userid\n",
    "df_td = time_diary[time_diary['id'].isin(to_keep.astype(int))]"
   ]
  },
  {
   "cell_type": "code",
   "execution_count": 86,
   "id": "3205ce8a",
   "metadata": {},
   "outputs": [
    {
     "data": {
      "text/plain": [
       "0    1\n",
       "1    2\n",
       "2    3\n",
       "3    4\n",
       "4    5\n",
       "5    6\n",
       "6    7\n",
       "7    8\n",
       "8    9\n",
       "Name: userid, dtype: object"
      ]
     },
     "execution_count": 86,
     "metadata": {},
     "output_type": "execute_result"
    }
   ],
   "source": [
    "df_td.id.unique()\n",
    "to_keep.head(9)"
   ]
  },
  {
   "cell_type": "code",
   "execution_count": null,
   "id": "c163910e",
   "metadata": {},
   "outputs": [],
   "source": [
    "df_td = df_td[df_td.datein_answ.dt.month == 11]\n",
    "df_td = df[df_td.datein_answ.dt.day <= 28]\n",
    "df_td = df[df_td.datein_answ.dt.day >= 11]"
   ]
  },
  {
   "cell_type": "code",
   "execution_count": null,
   "id": "16e321d5",
   "metadata": {},
   "outputs": [],
   "source": []
  },
  {
   "cell_type": "markdown",
   "id": "7f920889",
   "metadata": {},
   "source": [
    "# Experiment: (i was making sure that groupby was doing the job of counting correctly)"
   ]
  },
  {
   "cell_type": "code",
   "execution_count": 30,
   "id": "df6d4a88",
   "metadata": {},
   "outputs": [
    {
     "name": "stdout",
     "output_type": "stream",
     "text": [
      "1,667,548\n"
     ]
    },
    {
     "data": {
      "text/html": [
       "<div>\n",
       "<style scoped>\n",
       "    .dataframe tbody tr th:only-of-type {\n",
       "        vertical-align: middle;\n",
       "    }\n",
       "\n",
       "    .dataframe tbody tr th {\n",
       "        vertical-align: top;\n",
       "    }\n",
       "\n",
       "    .dataframe thead th {\n",
       "        text-align: right;\n",
       "    }\n",
       "</style>\n",
       "<table border=\"1\" class=\"dataframe\">\n",
       "  <thead>\n",
       "    <tr style=\"text-align: right;\">\n",
       "      <th></th>\n",
       "      <th>userid</th>\n",
       "      <th>day</th>\n",
       "      <th>timestamp</th>\n",
       "      <th>touches</th>\n",
       "    </tr>\n",
       "  </thead>\n",
       "  <tbody>\n",
       "    <tr>\n",
       "      <th>48106</th>\n",
       "      <td>7</td>\n",
       "      <td>2020-11-18</td>\n",
       "      <td>2020-11-18 08:00:42</td>\n",
       "      <td>1.0</td>\n",
       "    </tr>\n",
       "    <tr>\n",
       "      <th>48107</th>\n",
       "      <td>7</td>\n",
       "      <td>2020-11-18</td>\n",
       "      <td>2020-11-18 08:00:48</td>\n",
       "      <td>2.0</td>\n",
       "    </tr>\n",
       "    <tr>\n",
       "      <th>48108</th>\n",
       "      <td>7</td>\n",
       "      <td>2020-11-18</td>\n",
       "      <td>2020-11-18 08:00:51</td>\n",
       "      <td>1.0</td>\n",
       "    </tr>\n",
       "    <tr>\n",
       "      <th>48109</th>\n",
       "      <td>7</td>\n",
       "      <td>2020-11-18</td>\n",
       "      <td>2020-11-18 08:00:53</td>\n",
       "      <td>1.0</td>\n",
       "    </tr>\n",
       "    <tr>\n",
       "      <th>48110</th>\n",
       "      <td>7</td>\n",
       "      <td>2020-11-18</td>\n",
       "      <td>2020-11-18 08:00:54</td>\n",
       "      <td>1.0</td>\n",
       "    </tr>\n",
       "  </tbody>\n",
       "</table>\n",
       "</div>"
      ],
      "text/plain": [
       "       userid        day           timestamp  touches\n",
       "48106       7 2020-11-18 2020-11-18 08:00:42      1.0\n",
       "48107       7 2020-11-18 2020-11-18 08:00:48      2.0\n",
       "48108       7 2020-11-18 2020-11-18 08:00:51      1.0\n",
       "48109       7 2020-11-18 2020-11-18 08:00:53      1.0\n",
       "48110       7 2020-11-18 2020-11-18 08:00:54      1.0"
      ]
     },
     "execution_count": 30,
     "metadata": {},
     "output_type": "execute_result"
    }
   ],
   "source": [
    "experiment = by_second[by_second['userid'].isin(dropouts.astype(int))]\n",
    "print(f'{experiment.shape[0]:,}')\n",
    "experiment.head()"
   ]
  },
  {
   "cell_type": "code",
   "execution_count": 19,
   "id": "ffd2c9ef",
   "metadata": {},
   "outputs": [],
   "source": [
    "result_df = experiment.groupby(['userid', pd.Grouper(key='timestamp', freq='1Min')])['touches'].sum().reset_index()"
   ]
  },
  {
   "cell_type": "code",
   "execution_count": 32,
   "id": "bad3c7dd",
   "metadata": {},
   "outputs": [
    {
     "data": {
      "text/plain": [
       "37.0"
      ]
     },
     "execution_count": 32,
     "metadata": {},
     "output_type": "execute_result"
    }
   ],
   "source": [
    "experiment[(experiment.userid == 7) & (experiment.timestamp.dt.day == 12) &\n",
    "           (experiment.timestamp.dt.hour == 8) & (experiment.timestamp.dt.minute == 42)].touches.sum()"
   ]
  },
  {
   "cell_type": "code",
   "execution_count": 33,
   "id": "f6e98407",
   "metadata": {},
   "outputs": [
    {
     "data": {
      "text/html": [
       "<div>\n",
       "<style scoped>\n",
       "    .dataframe tbody tr th:only-of-type {\n",
       "        vertical-align: middle;\n",
       "    }\n",
       "\n",
       "    .dataframe tbody tr th {\n",
       "        vertical-align: top;\n",
       "    }\n",
       "\n",
       "    .dataframe thead th {\n",
       "        text-align: right;\n",
       "    }\n",
       "</style>\n",
       "<table border=\"1\" class=\"dataframe\">\n",
       "  <thead>\n",
       "    <tr style=\"text-align: right;\">\n",
       "      <th></th>\n",
       "      <th>userid</th>\n",
       "      <th>timestamp</th>\n",
       "      <th>touches</th>\n",
       "    </tr>\n",
       "  </thead>\n",
       "  <tbody>\n",
       "    <tr>\n",
       "      <th>278</th>\n",
       "      <td>7</td>\n",
       "      <td>2020-11-12 08:42:00</td>\n",
       "      <td>37.0</td>\n",
       "    </tr>\n",
       "  </tbody>\n",
       "</table>\n",
       "</div>"
      ],
      "text/plain": [
       "     userid           timestamp  touches\n",
       "278       7 2020-11-12 08:42:00     37.0"
      ]
     },
     "execution_count": 33,
     "metadata": {},
     "output_type": "execute_result"
    }
   ],
   "source": [
    "result_df[(result_df.userid == 7) & (result_df.timestamp.dt.day == 12) &\n",
    "         (result_df.timestamp.dt.hour ==  8) & (result_df.timestamp.dt.minute==42)]"
   ]
  },
  {
   "cell_type": "code",
   "execution_count": 23,
   "id": "ef61e2b1",
   "metadata": {},
   "outputs": [
    {
     "data": {
      "text/html": [
       "<div>\n",
       "<style scoped>\n",
       "    .dataframe tbody tr th:only-of-type {\n",
       "        vertical-align: middle;\n",
       "    }\n",
       "\n",
       "    .dataframe tbody tr th {\n",
       "        vertical-align: top;\n",
       "    }\n",
       "\n",
       "    .dataframe thead th {\n",
       "        text-align: right;\n",
       "    }\n",
       "</style>\n",
       "<table border=\"1\" class=\"dataframe\">\n",
       "  <thead>\n",
       "    <tr style=\"text-align: right;\">\n",
       "      <th></th>\n",
       "      <th>userid</th>\n",
       "      <th>day</th>\n",
       "      <th>timestamp</th>\n",
       "      <th>touches</th>\n",
       "    </tr>\n",
       "  </thead>\n",
       "  <tbody>\n",
       "    <tr>\n",
       "      <th>48106</th>\n",
       "      <td>7</td>\n",
       "      <td>2020-11-18</td>\n",
       "      <td>2020-11-18 08:00:42</td>\n",
       "      <td>1.0</td>\n",
       "    </tr>\n",
       "    <tr>\n",
       "      <th>48107</th>\n",
       "      <td>7</td>\n",
       "      <td>2020-11-18</td>\n",
       "      <td>2020-11-18 08:00:48</td>\n",
       "      <td>2.0</td>\n",
       "    </tr>\n",
       "    <tr>\n",
       "      <th>48108</th>\n",
       "      <td>7</td>\n",
       "      <td>2020-11-18</td>\n",
       "      <td>2020-11-18 08:00:51</td>\n",
       "      <td>1.0</td>\n",
       "    </tr>\n",
       "    <tr>\n",
       "      <th>48109</th>\n",
       "      <td>7</td>\n",
       "      <td>2020-11-18</td>\n",
       "      <td>2020-11-18 08:00:53</td>\n",
       "      <td>1.0</td>\n",
       "    </tr>\n",
       "    <tr>\n",
       "      <th>48110</th>\n",
       "      <td>7</td>\n",
       "      <td>2020-11-18</td>\n",
       "      <td>2020-11-18 08:00:54</td>\n",
       "      <td>1.0</td>\n",
       "    </tr>\n",
       "    <tr>\n",
       "      <th>...</th>\n",
       "      <td>...</td>\n",
       "      <td>...</td>\n",
       "      <td>...</td>\n",
       "      <td>...</td>\n",
       "    </tr>\n",
       "    <tr>\n",
       "      <th>19806097</th>\n",
       "      <td>245</td>\n",
       "      <td>2020-11-27</td>\n",
       "      <td>2020-11-27 23:37:11</td>\n",
       "      <td>3.0</td>\n",
       "    </tr>\n",
       "    <tr>\n",
       "      <th>19806098</th>\n",
       "      <td>245</td>\n",
       "      <td>2020-11-27</td>\n",
       "      <td>2020-11-27 23:37:12</td>\n",
       "      <td>3.0</td>\n",
       "    </tr>\n",
       "    <tr>\n",
       "      <th>19806099</th>\n",
       "      <td>245</td>\n",
       "      <td>2020-11-27</td>\n",
       "      <td>2020-11-27 23:37:13</td>\n",
       "      <td>3.0</td>\n",
       "    </tr>\n",
       "    <tr>\n",
       "      <th>19806100</th>\n",
       "      <td>245</td>\n",
       "      <td>2020-11-27</td>\n",
       "      <td>2020-11-27 23:37:14</td>\n",
       "      <td>13.0</td>\n",
       "    </tr>\n",
       "    <tr>\n",
       "      <th>19806101</th>\n",
       "      <td>245</td>\n",
       "      <td>2020-11-27</td>\n",
       "      <td>2020-11-27 23:37:21</td>\n",
       "      <td>3.0</td>\n",
       "    </tr>\n",
       "  </tbody>\n",
       "</table>\n",
       "<p>1667548 rows × 4 columns</p>\n",
       "</div>"
      ],
      "text/plain": [
       "          userid        day           timestamp  touches\n",
       "48106          7 2020-11-18 2020-11-18 08:00:42      1.0\n",
       "48107          7 2020-11-18 2020-11-18 08:00:48      2.0\n",
       "48108          7 2020-11-18 2020-11-18 08:00:51      1.0\n",
       "48109          7 2020-11-18 2020-11-18 08:00:53      1.0\n",
       "48110          7 2020-11-18 2020-11-18 08:00:54      1.0\n",
       "...          ...        ...                 ...      ...\n",
       "19806097     245 2020-11-27 2020-11-27 23:37:11      3.0\n",
       "19806098     245 2020-11-27 2020-11-27 23:37:12      3.0\n",
       "19806099     245 2020-11-27 2020-11-27 23:37:13      3.0\n",
       "19806100     245 2020-11-27 2020-11-27 23:37:14     13.0\n",
       "19806101     245 2020-11-27 2020-11-27 23:37:21      3.0\n",
       "\n",
       "[1667548 rows x 4 columns]"
      ]
     },
     "execution_count": 23,
     "metadata": {},
     "output_type": "execute_result"
    }
   ],
   "source": [
    "experiment"
   ]
  },
  {
   "cell_type": "code",
   "execution_count": 78,
   "id": "de721264",
   "metadata": {},
   "outputs": [
    {
     "ename": "KeyError",
     "evalue": "'userid'",
     "output_type": "error",
     "traceback": [
      "\u001b[0;31m---------------------------------------------------------------------------\u001b[0m",
      "\u001b[0;31mKeyError\u001b[0m                                  Traceback (most recent call last)",
      "File \u001b[0;32m~/anaconda3/lib/python3.11/site-packages/pandas/core/indexes/base.py:3653\u001b[0m, in \u001b[0;36mIndex.get_loc\u001b[0;34m(self, key)\u001b[0m\n\u001b[1;32m   3652\u001b[0m \u001b[38;5;28;01mtry\u001b[39;00m:\n\u001b[0;32m-> 3653\u001b[0m     \u001b[38;5;28;01mreturn\u001b[39;00m \u001b[38;5;28mself\u001b[39m\u001b[38;5;241m.\u001b[39m_engine\u001b[38;5;241m.\u001b[39mget_loc(casted_key)\n\u001b[1;32m   3654\u001b[0m \u001b[38;5;28;01mexcept\u001b[39;00m \u001b[38;5;167;01mKeyError\u001b[39;00m \u001b[38;5;28;01mas\u001b[39;00m err:\n",
      "File \u001b[0;32m~/anaconda3/lib/python3.11/site-packages/pandas/_libs/index.pyx:147\u001b[0m, in \u001b[0;36mpandas._libs.index.IndexEngine.get_loc\u001b[0;34m()\u001b[0m\n",
      "File \u001b[0;32m~/anaconda3/lib/python3.11/site-packages/pandas/_libs/index.pyx:176\u001b[0m, in \u001b[0;36mpandas._libs.index.IndexEngine.get_loc\u001b[0;34m()\u001b[0m\n",
      "File \u001b[0;32mpandas/_libs/hashtable_class_helper.pxi:7080\u001b[0m, in \u001b[0;36mpandas._libs.hashtable.PyObjectHashTable.get_item\u001b[0;34m()\u001b[0m\n",
      "File \u001b[0;32mpandas/_libs/hashtable_class_helper.pxi:7088\u001b[0m, in \u001b[0;36mpandas._libs.hashtable.PyObjectHashTable.get_item\u001b[0;34m()\u001b[0m\n",
      "\u001b[0;31mKeyError\u001b[0m: 'userid'",
      "\nThe above exception was the direct cause of the following exception:\n",
      "\u001b[0;31mKeyError\u001b[0m                                  Traceback (most recent call last)",
      "Cell \u001b[0;32mIn[78], line 1\u001b[0m\n\u001b[0;32m----> 1\u001b[0m temp[(temp[\u001b[38;5;124m'\u001b[39m\u001b[38;5;124muserid\u001b[39m\u001b[38;5;124m'\u001b[39m] \u001b[38;5;241m==\u001b[39m \u001b[38;5;241m7\u001b[39m) \u001b[38;5;241m&\u001b[39m (temp\u001b[38;5;241m.\u001b[39mtimestamp\u001b[38;5;241m.\u001b[39mdt\u001b[38;5;241m.\u001b[39mday \u001b[38;5;241m==\u001b[39m \u001b[38;5;241m12\u001b[39m) \u001b[38;5;241m&\u001b[39m\n\u001b[1;32m      2\u001b[0m            (temp\u001b[38;5;241m.\u001b[39mtimestamp\u001b[38;5;241m.\u001b[39mdt\u001b[38;5;241m.\u001b[39mhour \u001b[38;5;241m==\u001b[39m \u001b[38;5;241m22\u001b[39m) \u001b[38;5;241m&\u001b[39m (temp\u001b[38;5;241m.\u001b[39mtimestamp\u001b[38;5;241m.\u001b[39mdt\u001b[38;5;241m.\u001b[39mminute \u001b[38;5;241m==\u001b[39m \u001b[38;5;241m55\u001b[39m)]\n",
      "File \u001b[0;32m~/anaconda3/lib/python3.11/site-packages/pandas/core/frame.py:3761\u001b[0m, in \u001b[0;36mDataFrame.__getitem__\u001b[0;34m(self, key)\u001b[0m\n\u001b[1;32m   3759\u001b[0m \u001b[38;5;28;01mif\u001b[39;00m \u001b[38;5;28mself\u001b[39m\u001b[38;5;241m.\u001b[39mcolumns\u001b[38;5;241m.\u001b[39mnlevels \u001b[38;5;241m>\u001b[39m \u001b[38;5;241m1\u001b[39m:\n\u001b[1;32m   3760\u001b[0m     \u001b[38;5;28;01mreturn\u001b[39;00m \u001b[38;5;28mself\u001b[39m\u001b[38;5;241m.\u001b[39m_getitem_multilevel(key)\n\u001b[0;32m-> 3761\u001b[0m indexer \u001b[38;5;241m=\u001b[39m \u001b[38;5;28mself\u001b[39m\u001b[38;5;241m.\u001b[39mcolumns\u001b[38;5;241m.\u001b[39mget_loc(key)\n\u001b[1;32m   3762\u001b[0m \u001b[38;5;28;01mif\u001b[39;00m is_integer(indexer):\n\u001b[1;32m   3763\u001b[0m     indexer \u001b[38;5;241m=\u001b[39m [indexer]\n",
      "File \u001b[0;32m~/anaconda3/lib/python3.11/site-packages/pandas/core/indexes/base.py:3655\u001b[0m, in \u001b[0;36mIndex.get_loc\u001b[0;34m(self, key)\u001b[0m\n\u001b[1;32m   3653\u001b[0m     \u001b[38;5;28;01mreturn\u001b[39;00m \u001b[38;5;28mself\u001b[39m\u001b[38;5;241m.\u001b[39m_engine\u001b[38;5;241m.\u001b[39mget_loc(casted_key)\n\u001b[1;32m   3654\u001b[0m \u001b[38;5;28;01mexcept\u001b[39;00m \u001b[38;5;167;01mKeyError\u001b[39;00m \u001b[38;5;28;01mas\u001b[39;00m err:\n\u001b[0;32m-> 3655\u001b[0m     \u001b[38;5;28;01mraise\u001b[39;00m \u001b[38;5;167;01mKeyError\u001b[39;00m(key) \u001b[38;5;28;01mfrom\u001b[39;00m \u001b[38;5;21;01merr\u001b[39;00m\n\u001b[1;32m   3656\u001b[0m \u001b[38;5;28;01mexcept\u001b[39;00m \u001b[38;5;167;01mTypeError\u001b[39;00m:\n\u001b[1;32m   3657\u001b[0m     \u001b[38;5;66;03m# If we have a listlike key, _check_indexing_error will raise\u001b[39;00m\n\u001b[1;32m   3658\u001b[0m     \u001b[38;5;66;03m#  InvalidIndexError. Otherwise we fall through and re-raise\u001b[39;00m\n\u001b[1;32m   3659\u001b[0m     \u001b[38;5;66;03m#  the TypeError.\u001b[39;00m\n\u001b[1;32m   3660\u001b[0m     \u001b[38;5;28mself\u001b[39m\u001b[38;5;241m.\u001b[39m_check_indexing_error(key)\n",
      "\u001b[0;31mKeyError\u001b[0m: 'userid'"
     ]
    }
   ],
   "source": [
    "temp[(temp['userid'] == 7) & (temp.timestamp.dt.day == 12) &\n",
    "           (temp.timestamp.dt.hour == 22) & (temp.timestamp.dt.minute == 55)]"
   ]
  },
  {
   "cell_type": "code",
   "execution_count": null,
   "id": "85fd3bc4",
   "metadata": {},
   "outputs": [],
   "source": [
    "by_minute"
   ]
  },
  {
   "cell_type": "code",
   "execution_count": 16,
   "id": "247fd340",
   "metadata": {},
   "outputs": [],
   "source": []
  }
 ],
 "metadata": {
  "kernelspec": {
   "display_name": "Python 3 (ipykernel)",
   "language": "python",
   "name": "python3"
  },
  "language_info": {
   "codemirror_mode": {
    "name": "ipython",
    "version": 3
   },
   "file_extension": ".py",
   "mimetype": "text/x-python",
   "name": "python",
   "nbconvert_exporter": "python",
   "pygments_lexer": "ipython3",
   "version": "3.11.5"
  }
 },
 "nbformat": 4,
 "nbformat_minor": 5
}
