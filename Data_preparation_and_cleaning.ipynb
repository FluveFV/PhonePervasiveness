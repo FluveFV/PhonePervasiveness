{
 "cells": [
  {
   "cell_type": "code",
   "execution_count": 1,
   "id": "d46160cf",
   "metadata": {},
   "outputs": [],
   "source": [
    "class color:\n",
    "   PURPLE, CYAN, DARKCYAN, BLUE = '\\033[95m', '\\033[96m', '\\033[36m', '\\033[94m'\n",
    "   GREEN, YELLOW, RED, BOLD = '\\033[92m', '\\033[93m', '\\033[91m','\\033[1m'\n",
    "   UNDERLINE, END = '\\033[4m','\\033[0m'"
   ]
  },
  {
   "cell_type": "markdown",
   "id": "78599b80",
   "metadata": {},
   "source": [
    "## What was done in file_reduction.ipynb:\n",
    "Every touch events was tied to a second. Then, each row of the dataframe would represent how many times one user touched their phone in one second. \n",
    "Now, spikes in the data (defined as the statistical outliers) have been treated and moved to the median of the distribution. "
   ]
  },
  {
   "cell_type": "markdown",
   "id": "a863e51f",
   "metadata": {},
   "source": [
    "# Cleaning Data: reasonable results and time-interpretable grouping.\n",
    "In order to get in second 40 touches per second you need to use all ten fingers on the screen, four times, or alternatively just your thumbs 20 times. In one second. Which is just impossible. Consider this: \n",
    "- the fastest finger tapping rate was set by Japanese musician Kaoru Watanabe in 2014. He achieved a rate of 13.36 taps per second.\n",
    "- Prabhshish Singh (at 13) accurately typed letters from A to Z on a mobile phone in just 3 seconds and 44 milliseconds, as confirmed on August 29, 2022, making it about 7.5 touches each second. \n",
    "\n",
    "Not all users here must be world-record breakers, so for now statistical outliers will be treated as data spikes derived from device malfunction or improper handling of the screen.\n",
    "\n",
    "We need to consider the **extreme touches**. If a value is an outlier it needs to be subsituted with the median. The median is a much more defensible measure because it has much less impact on the statistics than choosing any value, i.e. of the third quartile of the touch distribution. "
   ]
  },
  {
   "cell_type": "code",
   "execution_count": 2,
   "id": "2647ba83",
   "metadata": {},
   "outputs": [],
   "source": [
    "from scipy import stats\n",
    "from tqdm import tqdm\n",
    "import os\n",
    "import pandas as pd\n",
    "import numpy as np\n",
    "import matplotlib.pyplot as plt\n",
    "import seaborn as sns\n",
    "import plotly.express as px"
   ]
  },
  {
   "cell_type": "code",
   "execution_count": 3,
   "id": "a83c5cb9",
   "metadata": {},
   "outputs": [
    {
     "name": "stdout",
     "output_type": "stream",
     "text": [
      "N of observations: 19,859,174\n"
     ]
    },
    {
     "data": {
      "text/html": [
       "<div>\n",
       "<style scoped>\n",
       "    .dataframe tbody tr th:only-of-type {\n",
       "        vertical-align: middle;\n",
       "    }\n",
       "\n",
       "    .dataframe tbody tr th {\n",
       "        vertical-align: top;\n",
       "    }\n",
       "\n",
       "    .dataframe thead th {\n",
       "        text-align: right;\n",
       "    }\n",
       "</style>\n",
       "<table border=\"1\" class=\"dataframe\">\n",
       "  <thead>\n",
       "    <tr style=\"text-align: right;\">\n",
       "      <th></th>\n",
       "      <th>userid</th>\n",
       "      <th>day</th>\n",
       "      <th>timestamp</th>\n",
       "      <th>touches</th>\n",
       "    </tr>\n",
       "  </thead>\n",
       "  <tbody>\n",
       "    <tr>\n",
       "      <th>0</th>\n",
       "      <td>1</td>\n",
       "      <td>2020-11-22</td>\n",
       "      <td>2020-11-22 00:00:00</td>\n",
       "      <td>6</td>\n",
       "    </tr>\n",
       "    <tr>\n",
       "      <th>1</th>\n",
       "      <td>1</td>\n",
       "      <td>2020-11-22</td>\n",
       "      <td>2020-11-22 00:00:03</td>\n",
       "      <td>1</td>\n",
       "    </tr>\n",
       "    <tr>\n",
       "      <th>2</th>\n",
       "      <td>1</td>\n",
       "      <td>2020-11-22</td>\n",
       "      <td>2020-11-22 00:00:06</td>\n",
       "      <td>2</td>\n",
       "    </tr>\n",
       "  </tbody>\n",
       "</table>\n",
       "</div>"
      ],
      "text/plain": [
       "   userid         day            timestamp  touches\n",
       "0       1  2020-11-22  2020-11-22 00:00:00        6\n",
       "1       1  2020-11-22  2020-11-22 00:00:03        1\n",
       "2       1  2020-11-22  2020-11-22 00:00:06        2"
      ]
     },
     "execution_count": 3,
     "metadata": {},
     "output_type": "execute_result"
    }
   ],
   "source": [
    "by_second_unclean = pd.read_csv(\"Processed Data/touch_sensor_unclean.csv\") \n",
    "by_second_unclean = by_second_unclean.drop('Unnamed: 0', axis='columns')\n",
    "print(f\"N of observations: {by_second_unclean.shape[0]:,}\")\n",
    "by_second_unclean.head(3)"
   ]
  },
  {
   "cell_type": "markdown",
   "id": "2666ac1e",
   "metadata": {},
   "source": [
    "A brief, general look at statistical outliers:"
   ]
  },
  {
   "cell_type": "code",
   "execution_count": 4,
   "id": "ce751cb3",
   "metadata": {},
   "outputs": [
    {
     "name": "stdout",
     "output_type": "stream",
     "text": [
      "At least one outlier belongs to: 128 out of 201 of the users\n",
      "\u001b[1mOutliers are 355,932 out of 19,859,174 = 1.79%\u001b[0m\n",
      "touches\n",
      "1      4266857\n",
      "2      4127960\n",
      "3      2299172\n",
      "4      1728830\n",
      "5      1200586\n",
      "        ...   \n",
      "960          1\n",
      "966          1\n",
      "983          1\n",
      "985          1\n",
      "998          1\n",
      "Name: count, Length: 565, dtype: int64\n"
     ]
    },
    {
     "name": "stderr",
     "output_type": "stream",
     "text": [
      "/home/fluve/anaconda3/lib/python3.11/site-packages/seaborn/categorical.py:1794: FutureWarning: use_inf_as_na option is deprecated and will be removed in a future version. Convert inf values to NaN before operating instead.\n",
      "  with pd.option_context('mode.use_inf_as_na', True):\n"
     ]
    },
    {
     "data": {
      "image/png": "[encoded data removed]",
      "text/plain": [
       "<Figure size 640x480 with 1 Axes>"
      ]
     },
     "metadata": {},
     "output_type": "display_data"
    }
   ],
   "source": [
    "z = np.abs(stats.zscore(by_second_unclean['touches']))\n",
    "threshold = 3  #this is the typical chosen score for outliers\n",
    "outliers = by_second_unclean[z > threshold]\n",
    "#print(\"User IDs with outlier observations:\\n\", np.sort(outliers.userid.unique()))\n",
    "print(f\"At least one outlier belongs to: {outliers.userid.unique().shape[0]:,} out of {by_second_unclean.userid.unique().shape[0]:,} of the users\")    #should be 1.79%\n",
    "print(color.BOLD + f\"Outliers are {outliers.shape[0]:,} out of {by_second_unclean.shape[0]:,} = {str(round(outliers.shape[0]/ by_second_unclean.shape[0]*100, 2))}%\" + color.END)\n",
    "print(by_second_unclean.touches.value_counts().sort_index())\n",
    "sns.boxenplot(data = by_second_unclean, x=by_second_unclean.touches, color='#4CC9F0')\n",
    "plt.show()"
   ]
  },
  {
   "cell_type": "markdown",
   "id": "97e0db93",
   "metadata": {},
   "source": [
    "Now, treating those statistical outliers. **Run the following cell only once.**"
   ]
  },
  {
   "cell_type": "code",
   "execution_count": 5,
   "id": "1964d640",
   "metadata": {},
   "outputs": [
    {
     "name": "stderr",
     "output_type": "stream",
     "text": [
      "/tmp/ipykernel_29266/1054526867.py:6: SettingWithCopyWarning: \n",
      "A value is trying to be set on a copy of a slice from a DataFrame\n",
      "\n",
      "See the caveats in the documentation: https://pandas.pydata.org/pandas-docs/stable/user_guide/indexing.html#returning-a-view-versus-a-copy\n",
      "  by_second.touches[outliers] = np.nan\n"
     ]
    },
    {
     "data": {
      "text/html": [
       "<div>\n",
       "<style scoped>\n",
       "    .dataframe tbody tr th:only-of-type {\n",
       "        vertical-align: middle;\n",
       "    }\n",
       "\n",
       "    .dataframe tbody tr th {\n",
       "        vertical-align: top;\n",
       "    }\n",
       "\n",
       "    .dataframe thead th {\n",
       "        text-align: right;\n",
       "    }\n",
       "</style>\n",
       "<table border=\"1\" class=\"dataframe\">\n",
       "  <thead>\n",
       "    <tr style=\"text-align: right;\">\n",
       "      <th></th>\n",
       "      <th>userid</th>\n",
       "      <th>day</th>\n",
       "      <th>timestamp</th>\n",
       "      <th>touches</th>\n",
       "    </tr>\n",
       "  </thead>\n",
       "  <tbody>\n",
       "    <tr>\n",
       "      <th>0</th>\n",
       "      <td>1</td>\n",
       "      <td>2020-11-22</td>\n",
       "      <td>2020-11-22 00:00:00</td>\n",
       "      <td>6.0</td>\n",
       "    </tr>\n",
       "    <tr>\n",
       "      <th>1</th>\n",
       "      <td>1</td>\n",
       "      <td>2020-11-22</td>\n",
       "      <td>2020-11-22 00:00:03</td>\n",
       "      <td>1.0</td>\n",
       "    </tr>\n",
       "    <tr>\n",
       "      <th>2</th>\n",
       "      <td>1</td>\n",
       "      <td>2020-11-22</td>\n",
       "      <td>2020-11-22 00:00:06</td>\n",
       "      <td>2.0</td>\n",
       "    </tr>\n",
       "  </tbody>\n",
       "</table>\n",
       "</div>"
      ],
      "text/plain": [
       "   userid         day            timestamp  touches\n",
       "0       1  2020-11-22  2020-11-22 00:00:00      6.0\n",
       "1       1  2020-11-22  2020-11-22 00:00:03      1.0\n",
       "2       1  2020-11-22  2020-11-22 00:00:06      2.0"
      ]
     },
     "execution_count": 5,
     "metadata": {},
     "output_type": "execute_result"
    }
   ],
   "source": [
    "# Replacing the 1.79% outliers for the data that has seconds as units with their median\n",
    "median, std = by_second_unclean['touches'].median(), by_second_unclean['touches'].std()\n",
    "outliers = (by_second_unclean['touches'] - median).abs() > std\n",
    "\n",
    "by_second = by_second_unclean    \n",
    "by_second.touches[outliers] = np.nan\n",
    "by_second['touches'].fillna(median, inplace=True)   # by_second is the cleaner version\n",
    "\n",
    "by_second.head(3)"
   ]
  },
  {
   "cell_type": "code",
   "execution_count": 6,
   "id": "f1bc6cc6",
   "metadata": {},
   "outputs": [],
   "source": [
    "by_second.to_csv('Processed Data/by_second_clean.csv')"
   ]
  },
  {
   "cell_type": "code",
   "execution_count": 7,
   "id": "60460d95",
   "metadata": {},
   "outputs": [
    {
     "name": "stderr",
     "output_type": "stream",
     "text": [
      "/home/fluve/anaconda3/lib/python3.11/site-packages/seaborn/categorical.py:1794: FutureWarning: use_inf_as_na option is deprecated and will be removed in a future version. Convert inf values to NaN before operating instead.\n",
      "  with pd.option_context('mode.use_inf_as_na', True):\n"
     ]
    },
    {
     "data": {
      "image/png": "[encoded data removed]",
      "text/plain": [
       "<Figure size 640x480 with 1 Axes>"
      ]
     },
     "metadata": {},
     "output_type": "display_data"
    }
   ],
   "source": [
    "sns.boxenplot(data = by_second, x=by_second.touches, color='#4CC9F0', \n",
    "              k_depth='trustworthy', trust_alpha=0.05)\n",
    "plt.show()"
   ]
  },
  {
   "cell_type": "code",
   "execution_count": 8,
   "id": "900a53f8",
   "metadata": {},
   "outputs": [
    {
     "name": "stderr",
     "output_type": "stream",
     "text": [
      "/home/fluve/anaconda3/lib/python3.11/site-packages/seaborn/_oldcore.py:1119: FutureWarning: use_inf_as_na option is deprecated and will be removed in a future version. Convert inf values to NaN before operating instead.\n",
      "  with pd.option_context('mode.use_inf_as_na', True):\n"
     ]
    },
    {
     "data": {
      "image/png": "[encoded data removed]",
      "text/plain": [
       "<Figure size 640x480 with 1 Axes>"
      ]
     },
     "metadata": {},
     "output_type": "display_data"
    }
   ],
   "source": [
    "g = sns.histplot(data = by_second, x=by_second.touches, stat='percent', color='#4CC9F0', bins=13)\n",
    "g.text(x=0.5, y=1.1, s='Smartphone screen interaction per second:', fontsize=16, weight='bold', ha='center', va='bottom', transform=g.transAxes)\n",
    "g.text(x=0.5, y=1.05, s='Distribution of touches per second, obtained by grouping every touch event.', fontsize=8, alpha=0.75, ha='center', va='bottom', transform=g.transAxes)\n",
    "g.set_xticks(range(14))\n",
    "g.set_xticklabels([0,1,2,3,4,5,6,7,8,9,10,11,12,13])\n",
    "plt.show()"
   ]
  },
  {
   "attachments": {
    "image-2.png": {
     "image/png": "[encoded data removed]"
    }
   },
   "cell_type": "markdown",
   "id": "7efcffd1",
   "metadata": {},
   "source": [
    "## Operations in the next sections:\n",
    "- Cleaning data from lacking / dropout users\n",
    "- Applying the concept of circadian time on days and hours\n",
    "\n",
    "Very obviously, only the users that gave enough days to be useful the experiment should be considered. Below I plotted separately the distribution of events (seconds in which there is at least one touch) over the days in which data was collected. \n",
    "\n",
    "Ideally, the observation should the 15 days of maximum observation, **starting from when most users logged** and **ending when they start to drop out massively**. Personally, I choose the two week period starting from 2020/11/12 and ending 2020/11/27, which is also the same time around the WeNet project sent a notification each half-hour of the day to users - in the time diary data of the project. It will help with more accuracy for activities and locations that the user was in while using the smartphone.\n",
    "### Distribution: count of events (grouped by second) registered between the start and end of observation period\n",
    "![image-2.png](attachment:image-2.png)\n",
    "\n",
    "What also needs to be done is to mark each row as belonging to a specific circadian day - differently from clock time, but not independently. \n",
    "The logic is exemplified as follows: when one user is scrolling their phone from 23:59:00 until 00:20:10 and then went to sleep and did not wake up until the morning after, and we want to group per day (for visualization and analysis purposes) the times they were scrolling, we should count everything that happened from 00:00:00 to 00:20:10 and consider it part of the previous day. This logic should seamlessy apply to the many students that don't stop their day before 24:00:00.  \n",
    "\n",
    "According to prof. Bison and the WeNet team, an ideal breakpoint for counting circadian day activities is between 04:30:00 and 05:00:00, because at that time everyone usually has finished their day and the next will start in a few minutes or hours. "
   ]
  },
  {
   "cell_type": "code",
   "execution_count": 9,
   "id": "9b4066b6",
   "metadata": {},
   "outputs": [
    {
     "name": "stdout",
     "output_type": "stream",
     "text": [
      "CPU times: user 11 s, sys: 1.84 s, total: 12.8 s\n",
      "Wall time: 12.8 s\n"
     ]
    }
   ],
   "source": [
    "%%time\n",
    "by_second = pd.read_csv('Processed Data/by_second_clean.csv')\n",
    "timestamp, day = pd.to_datetime(by_second.timestamp, yearfirst=True), pd.to_datetime(by_second.day, yearfirst=True)\n",
    "by_second.timestamp, by_second.day = timestamp, day\n",
    "by_second = by_second.drop('Unnamed: 0',axis='columns')"
   ]
  },
  {
   "cell_type": "code",
   "execution_count": 10,
   "id": "e1d79db2-e53c-45e0-9443-5f47e1d9290e",
   "metadata": {},
   "outputs": [
    {
     "data": {
      "text/html": [
       "<div>\n",
       "<style scoped>\n",
       "    .dataframe tbody tr th:only-of-type {\n",
       "        vertical-align: middle;\n",
       "    }\n",
       "\n",
       "    .dataframe tbody tr th {\n",
       "        vertical-align: top;\n",
       "    }\n",
       "\n",
       "    .dataframe thead th {\n",
       "        text-align: right;\n",
       "    }\n",
       "</style>\n",
       "<table border=\"1\" class=\"dataframe\">\n",
       "  <thead>\n",
       "    <tr style=\"text-align: right;\">\n",
       "      <th></th>\n",
       "      <th>userid</th>\n",
       "      <th>day</th>\n",
       "      <th>timestamp</th>\n",
       "      <th>touches</th>\n",
       "    </tr>\n",
       "  </thead>\n",
       "  <tbody>\n",
       "    <tr>\n",
       "      <th>0</th>\n",
       "      <td>1</td>\n",
       "      <td>2020-11-22</td>\n",
       "      <td>2020-11-22 00:00:00</td>\n",
       "      <td>6.0</td>\n",
       "    </tr>\n",
       "    <tr>\n",
       "      <th>1</th>\n",
       "      <td>1</td>\n",
       "      <td>2020-11-22</td>\n",
       "      <td>2020-11-22 00:00:03</td>\n",
       "      <td>1.0</td>\n",
       "    </tr>\n",
       "    <tr>\n",
       "      <th>2</th>\n",
       "      <td>1</td>\n",
       "      <td>2020-11-22</td>\n",
       "      <td>2020-11-22 00:00:06</td>\n",
       "      <td>2.0</td>\n",
       "    </tr>\n",
       "    <tr>\n",
       "      <th>3</th>\n",
       "      <td>1</td>\n",
       "      <td>2020-11-22</td>\n",
       "      <td>2020-11-22 00:00:53</td>\n",
       "      <td>2.0</td>\n",
       "    </tr>\n",
       "    <tr>\n",
       "      <th>4</th>\n",
       "      <td>1</td>\n",
       "      <td>2020-11-22</td>\n",
       "      <td>2020-11-22 00:00:54</td>\n",
       "      <td>1.0</td>\n",
       "    </tr>\n",
       "    <tr>\n",
       "      <th>...</th>\n",
       "      <td>...</td>\n",
       "      <td>...</td>\n",
       "      <td>...</td>\n",
       "      <td>...</td>\n",
       "    </tr>\n",
       "    <tr>\n",
       "      <th>19859169</th>\n",
       "      <td>208</td>\n",
       "      <td>2020-11-24</td>\n",
       "      <td>2020-11-24 23:06:12</td>\n",
       "      <td>2.0</td>\n",
       "    </tr>\n",
       "    <tr>\n",
       "      <th>19859170</th>\n",
       "      <td>208</td>\n",
       "      <td>2020-11-24</td>\n",
       "      <td>2020-11-24 23:06:13</td>\n",
       "      <td>1.0</td>\n",
       "    </tr>\n",
       "    <tr>\n",
       "      <th>19859171</th>\n",
       "      <td>208</td>\n",
       "      <td>2020-11-24</td>\n",
       "      <td>2020-11-24 23:06:14</td>\n",
       "      <td>2.0</td>\n",
       "    </tr>\n",
       "    <tr>\n",
       "      <th>19859172</th>\n",
       "      <td>208</td>\n",
       "      <td>2020-11-24</td>\n",
       "      <td>2020-11-24 23:06:18</td>\n",
       "      <td>1.0</td>\n",
       "    </tr>\n",
       "    <tr>\n",
       "      <th>19859173</th>\n",
       "      <td>208</td>\n",
       "      <td>2020-11-24</td>\n",
       "      <td>2020-11-24 23:06:19</td>\n",
       "      <td>2.0</td>\n",
       "    </tr>\n",
       "  </tbody>\n",
       "</table>\n",
       "<p>19859174 rows × 4 columns</p>\n",
       "</div>"
      ],
      "text/plain": [
       "          userid        day           timestamp  touches\n",
       "0              1 2020-11-22 2020-11-22 00:00:00      6.0\n",
       "1              1 2020-11-22 2020-11-22 00:00:03      1.0\n",
       "2              1 2020-11-22 2020-11-22 00:00:06      2.0\n",
       "3              1 2020-11-22 2020-11-22 00:00:53      2.0\n",
       "4              1 2020-11-22 2020-11-22 00:00:54      1.0\n",
       "...          ...        ...                 ...      ...\n",
       "19859169     208 2020-11-24 2020-11-24 23:06:12      2.0\n",
       "19859170     208 2020-11-24 2020-11-24 23:06:13      1.0\n",
       "19859171     208 2020-11-24 2020-11-24 23:06:14      2.0\n",
       "19859172     208 2020-11-24 2020-11-24 23:06:18      1.0\n",
       "19859173     208 2020-11-24 2020-11-24 23:06:19      2.0\n",
       "\n",
       "[19859174 rows x 4 columns]"
      ]
     },
     "execution_count": 10,
     "metadata": {},
     "output_type": "execute_result"
    }
   ],
   "source": [
    "by_second"
   ]
  },
  {
   "cell_type": "code",
   "execution_count": 11,
   "id": "c6fd1cf8",
   "metadata": {},
   "outputs": [
    {
     "name": "stderr",
     "output_type": "stream",
     "text": [
      "100%|█████████████████████████████████████████| 201/201 [00:02<00:00, 82.06it/s]"
     ]
    },
    {
     "name": "stdout",
     "output_type": "stream",
     "text": [
      "N: 201\n",
      "Done!\n"
     ]
    },
    {
     "name": "stderr",
     "output_type": "stream",
     "text": [
      "\n"
     ]
    }
   ],
   "source": [
    "IDs=by_second.userid.unique()\n",
    "IDs.sort()\n",
    "\n",
    "#data structure:\n",
    "'''\n",
    "{id: [2020-11-12, 2020-11,13, 2020-11-14,...]}   #for every ID, there is a list of days in which there is at least one observation from them. \n",
    "'''\n",
    "user_activity = dict()\n",
    "for ID in tqdm(IDs):\n",
    "    id_act = by_second[by_second.userid == ID]\n",
    "    # adding to the dictionary\n",
    "    user_activity[f'{ID}'] = pd.Series(id_act.day.unique()).sort_values()\n",
    "\n",
    "print('N:',len(user_activity.keys())) #should be 201\n",
    "print(\"Done!\")"
   ]
  },
  {
   "cell_type": "markdown",
   "id": "f37a41b3",
   "metadata": {},
   "source": [
    "Now, I need to know who went through the whole period and who didn't. This means:\n",
    "- counting the days the user sent "
   ]
  },
  {
   "cell_type": "code",
   "execution_count": 12,
   "id": "a0823a2d",
   "metadata": {},
   "outputs": [
    {
     "data": {
      "text/html": [
       "<div>\n",
       "<style scoped>\n",
       "    .dataframe tbody tr th:only-of-type {\n",
       "        vertical-align: middle;\n",
       "    }\n",
       "\n",
       "    .dataframe tbody tr th {\n",
       "        vertical-align: top;\n",
       "    }\n",
       "\n",
       "    .dataframe thead th {\n",
       "        text-align: right;\n",
       "    }\n",
       "</style>\n",
       "<table border=\"1\" class=\"dataframe\">\n",
       "  <thead>\n",
       "    <tr style=\"text-align: right;\">\n",
       "      <th></th>\n",
       "      <th>userid</th>\n",
       "      <th>start</th>\n",
       "      <th>finish</th>\n",
       "      <th>tot</th>\n",
       "      <th>cons</th>\n",
       "    </tr>\n",
       "  </thead>\n",
       "  <tbody>\n",
       "    <tr>\n",
       "      <th>0</th>\n",
       "      <td>1</td>\n",
       "      <td>2020-11-12</td>\n",
       "      <td>2020-11-25</td>\n",
       "      <td>13</td>\n",
       "      <td>False</td>\n",
       "    </tr>\n",
       "  </tbody>\n",
       "</table>\n",
       "</div>"
      ],
      "text/plain": [
       "   userid       start      finish  tot   cons\n",
       "0       1  2020-11-12  2020-11-25   13  False"
      ]
     },
     "execution_count": 12,
     "metadata": {},
     "output_type": "execute_result"
    }
   ],
   "source": [
    "def gantt_data_org(k, v):\n",
    "    #gantt data is named after the Gantt chart, although it's not present here\n",
    "    \n",
    "    #S is the Series of days; it's best if it's a consecutive 14 days (regardless of when they start)\n",
    "    \n",
    "    tot = 0\n",
    "    start = np.nan\n",
    "    end = np.nan\n",
    "    consecutive = False\n",
    "    \n",
    "    if len(v):  #if it's not empty, it will check for continuity\n",
    "        tot = (pd.to_datetime(v[-1]) - pd.to_datetime(v[0])).days\n",
    "        start, end = v[0], v[-1]\n",
    "        for i in range(len(v)-1):\n",
    "            v[i]  #current\n",
    "            v[i+1] #next\n",
    "            difference = (pd.to_datetime(v[i+1]) - pd.to_datetime(v[i])).days\n",
    "            if difference >= 2:    # if there is more than one day of difference it means that there was one \n",
    "                                   # day in the data with no observations\n",
    "                consecutive = False\n",
    "                break\n",
    "            else:\n",
    "                consecutive = True\n",
    "                \n",
    "    return pd.DataFrame([[k, start, end, tot, consecutive]], \n",
    "                        columns=['userid', 'start', 'finish', 'tot', 'cons'])\n",
    "\n",
    "#example of output:\n",
    "gantt_data_org(1, [\"2020-11-12\", \"2020-11-13\", \"2020-11-14\", \"2020-11-15\", \"2020-11-16\", \n",
    "                   \"2020-11-17\",   \"2020-11-18\", \"2020-11-19\", \"2020-11-25\"])\n"
   ]
  },
  {
   "cell_type": "code",
   "execution_count": null,
   "id": "a4a8c2e2-7d8f-4943-8ce6-831f203111bc",
   "metadata": {},
   "outputs": [],
   "source": []
  },
  {
   "cell_type": "code",
   "execution_count": 13,
   "id": "41dde2d3",
   "metadata": {},
   "outputs": [
    {
     "name": "stderr",
     "output_type": "stream",
     "text": [
      "/tmp/ipykernel_29266/81862931.py:4: FutureWarning: The behavior of DataFrame concatenation with empty or all-NA entries is deprecated. In a future version, this will no longer exclude empty or all-NA columns when determining the result dtypes. To retain the old behavior, exclude the relevant entries before the concat operation.\n",
      "  gantt_data = pd.concat([gantt_data, res], ignore_index=True)\n"
     ]
    }
   ],
   "source": [
    "gantt_data = pd.DataFrame(columns=[\"userid\", \"start\", \"finish\", \"tot\", \"cons\"])\n",
    "for ID, days in user_activity.items():\n",
    "    res = gantt_data_org(ID, days.tolist())\n",
    "    gantt_data = pd.concat([gantt_data, res], ignore_index=True)"
   ]
  },
  {
   "cell_type": "code",
   "execution_count": 14,
   "id": "332d7911",
   "metadata": {},
   "outputs": [
    {
     "data": {
      "text/plain": [
       "tot\n",
       "0     10\n",
       "1      2\n",
       "2      2\n",
       "3      4\n",
       "4      1\n",
       "5      3\n",
       "6      2\n",
       "7      2\n",
       "8      1\n",
       "9      4\n",
       "10     1\n",
       "11     3\n",
       "12     1\n",
       "13     3\n",
       "14     4\n",
       "15     3\n",
       "17     2\n",
       "18     3\n",
       "19     2\n",
       "20     7\n",
       "22     1\n",
       "23     5\n",
       "24     1\n",
       "26     3\n",
       "27     1\n",
       "28     5\n",
       "29    13\n",
       "30    49\n",
       "31    34\n",
       "32    14\n",
       "33     5\n",
       "34     4\n",
       "35     5\n",
       "36     1\n",
       "Name: count, dtype: int64"
      ]
     },
     "execution_count": 14,
     "metadata": {},
     "output_type": "execute_result"
    }
   ],
   "source": [
    "gantt_data.tot.value_counts().sort_index()"
   ]
  },
  {
   "cell_type": "code",
   "execution_count": 15,
   "id": "c36d2195",
   "metadata": {},
   "outputs": [
    {
     "name": "stdout",
     "output_type": "stream",
     "text": [
      "Users with 14 days or less of recorded activity:\n",
      "\u001b[1m43\u001b[0m\n",
      "15 days or more of recorded activity: \n",
      "\u001b[1m158\u001b[0m\n",
      "\n",
      "Total: \n",
      "\u001b[1m201\u001b[0m\n"
     ]
    }
   ],
   "source": [
    "less_than_14 = sum(gantt_data.tot.value_counts().sort_index()[0:15])\n",
    "more_than_14 = sum(gantt_data.tot.value_counts().sort_index()[15:])\n",
    "total = less_than_14 + more_than_14\n",
    "print(f\"Users with 14 days or less of recorded activity:\\n{color.BOLD}{less_than_14}{color.END}\")\n",
    "print(f\"15 days or more of recorded activity: \\n{color.BOLD}{more_than_14}{color.END}\")\n",
    "print()\n",
    "print(f\"Total: \\n{color.BOLD}{total}{color.END}\")"
   ]
  },
  {
   "cell_type": "markdown",
   "id": "40572541",
   "metadata": {},
   "source": [
    "There are 43 users who are absolutely not eligible for my analysis and are considered dropped out because they didn't even register 15 days, but 135 users who did well. Now that the general distribution has been seen, I will apply the same filter (people who did 15 days and people who did 14 or less) but regarding the specific time period of 12th November to the 27th of the same month.\n",
    "\n",
    "As we can see in the figure below, most people dropped out around the 30th day or so because they complied with a continuation of the experiment, which was facultative for extending the data. Unfortunately, since in another dataset containing the time diary data, in the 12-27 period of November there is supposedly an answer at least every 30 minutes, and after there is an answer at least every 60 minutes (the notifications from the app recording the data were fired at different rates from one period to the other), making it less accurate."
   ]
  },
  {
   "cell_type": "code",
   "execution_count": 16,
   "id": "608a9b21",
   "metadata": {},
   "outputs": [
    {
     "name": "stderr",
     "output_type": "stream",
     "text": [
      "/home/fluve/anaconda3/lib/python3.11/site-packages/seaborn/_oldcore.py:1119: FutureWarning: use_inf_as_na option is deprecated and will be removed in a future version. Convert inf values to NaN before operating instead.\n",
      "  with pd.option_context('mode.use_inf_as_na', True):\n"
     ]
    },
    {
     "data": {
      "image/png": "[encoded data removed]",
      "text/plain": [
       "<Figure size 640x480 with 1 Axes>"
      ]
     },
     "metadata": {},
     "output_type": "display_data"
    }
   ],
   "source": [
    "g = gantt_data[gantt_data.cons==True]\n",
    "\n",
    "sns.histplot(data=g, x=g.tot, stat=\"percent\", color=\"#660033\")\n",
    "plt.suptitle(\"Each bar height represents the frequency of days for users from start until the end\", y=0.91, ha='center', fontsize=8)\n",
    "plt.title(\"Consecutive days for users before dropping out\", y=1.04,fontsize=18)\n",
    "plt.show()"
   ]
  },
  {
   "cell_type": "code",
   "execution_count": 17,
   "id": "6b396b56",
   "metadata": {},
   "outputs": [
    {
     "name": "stderr",
     "output_type": "stream",
     "text": [
      "100%|█████████████████████████████████████████| 201/201 [00:03<00:00, 55.96it/s]\n",
      "/tmp/ipykernel_29266/2556236612.py:16: FutureWarning: The behavior of DataFrame concatenation with empty or all-NA entries is deprecated. In a future version, this will no longer exclude empty or all-NA columns when determining the result dtypes. To retain the old behavior, exclude the relevant entries before the concat operation.\n",
      "  gantt_data = pd.concat([gantt_data, res], ignore_index=True)\n"
     ]
    },
    {
     "name": "stdout",
     "output_type": "stream",
     "text": [
      "N: 201\n",
      "New Filtering done!\n"
     ]
    },
    {
     "data": {
      "text/plain": [
       "tot\n",
       "0      11\n",
       "1       3\n",
       "2       4\n",
       "3       3\n",
       "4       3\n",
       "5       3\n",
       "7       3\n",
       "8       1\n",
       "9       2\n",
       "10      2\n",
       "11      2\n",
       "12      4\n",
       "13      9\n",
       "14      4\n",
       "15    147\n",
       "Name: count, dtype: int64"
      ]
     },
     "execution_count": 17,
     "metadata": {},
     "output_type": "execute_result"
    }
   ],
   "source": [
    "# Filtering for period of interest\n",
    "user_activity = dict()\n",
    "for ID in tqdm(IDs):\n",
    "    id_act = by_second[by_second.userid == ID]\n",
    "    id_act = id_act[id_act.day.dt.month == 11]\n",
    "    id_act = id_act[id_act.day.dt.day <= 27]\n",
    "    id_act = id_act[id_act.day.dt.day >= 12]\n",
    "    # adding to the dictionary\n",
    "    user_activity[f'{ID}'] = pd.Series(id_act.day.unique()).sort_values().reset_index()\n",
    "print(\"N:\",len(user_activity.keys()))\n",
    "print(\"New Filtering done!\")\n",
    "\n",
    "gantt_data = pd.DataFrame(columns=[\"userid\", \"start\", \"finish\", \"tot\", \"cons\"])\n",
    "for ID, days in user_activity.items():\n",
    "    res = gantt_data_org(ID, days[0].tolist())\n",
    "    gantt_data = pd.concat([gantt_data, res], ignore_index=True)\n",
    "gantt_data.tot.value_counts().sort_index()"
   ]
  },
  {
   "cell_type": "code",
   "execution_count": 27,
   "id": "fbec1739",
   "metadata": {},
   "outputs": [
    {
     "name": "stderr",
     "output_type": "stream",
     "text": [
      "/home/fluve/anaconda3/lib/python3.11/site-packages/seaborn/_oldcore.py:1119: FutureWarning: use_inf_as_na option is deprecated and will be removed in a future version. Convert inf values to NaN before operating instead.\n",
      "  with pd.option_context('mode.use_inf_as_na', True):\n",
      "/tmp/ipykernel_29266/3114761937.py:7: UserWarning: Tight layout not applied. The bottom and top margins cannot be made large enough to accommodate all axes decorations.\n",
      "  plt.tight_layout()\n"
     ]
    },
    {
     "data": {
      "image/png": "[encoded data removed]",
      "text/plain": [
       "<Figure size 100x100 with 25 Axes>"
      ]
     },
     "metadata": {},
     "output_type": "display_data"
    }
   ],
   "source": [
    "fig, axs = plt.subplots(5, 5, figsize = (1,1))\n",
    "g = gantt_data[gantt_data.cons==True]\n",
    "sns.histplot(data=g, x=g.tot, stat=\"percent\", color=\"#660033\", bins=15)\n",
    "\n",
    "plt.xticks(np.arange(16), list(range(0,16))) \n",
    "plt.suptitle(\"Each bar height represents the frequency of days for users from start until the end\", y=0.86, ha='center', fontsize=8)\n",
    "plt.title(\"Consecutive Days 15 day period version\", y=1.04,fontsize=18)\n",
    "plt.tight_layout()\n",
    "plt.savefig('before_dropout.png')\n",
    "plt.show()"
   ]
  },
  {
   "cell_type": "code",
   "execution_count": null,
   "id": "8e891272",
   "metadata": {},
   "outputs": [],
   "source": [
    "dropouts = gantt_data[gantt_data.tot <= 14].userid\n",
    "\n",
    "print(\"Expected drop in user id count: from\", gantt_data.shape[0], \"to\", gantt_data.shape[0] - len(dropouts))\n",
    "print(f'Rows of the whole dataset before selection: \\n{color.BOLD}{by_second.shape[0]:,}{color.END}', )\n",
    "df = by_second[~by_second['userid'].isin(dropouts.astype(int))]\n",
    "df = df[df.day.dt.month == 11]\n",
    "df = df[df.day.dt.day <= 28]\n",
    "df = df[df.day.dt.day >= 11]\n",
    "\n",
    "to_keep = df.userid.unique()\n",
    "print(f'Rows of the whole dataset after selection: \\n{color.BOLD}{df.shape[0]:,}{color.END}', )\n",
    "print(\"N° of users:\", len(df.userid.unique()))\n",
    "filename = 'Processed Data/by_second_15.csv'\n",
    "to_keep = df.userid.unique()"
   ]
  },
  {
   "cell_type": "code",
   "execution_count": null,
   "id": "12c9f701",
   "metadata": {},
   "outputs": [],
   "source": [
    "# Saving list of dropouts and the by_second 15 period dataframe\n",
    "df.to_csv(filename)\n",
    "dropouts.to_csv(\"Processed Data/userid_dropped.csv\")"
   ]
  },
  {
   "cell_type": "markdown",
   "id": "44066edd",
   "metadata": {},
   "source": [
    "# 15 day period - by minute version\n",
    "Now, denoting what time a row belongs to using human day measures requires a certain computational power, so the dataset will be reduced into minutes."
   ]
  },
  {
   "cell_type": "code",
   "execution_count": null,
   "id": "e4023eb7",
   "metadata": {},
   "outputs": [],
   "source": [
    "four_million = 4*10**6\n",
    "df_min = pd.DataFrame()"
   ]
  },
  {
   "cell_type": "code",
   "execution_count": null,
   "id": "05aca169",
   "metadata": {},
   "outputs": [],
   "source": [
    "filename = 'Processed Data/by_second_15.csv'\n",
    "for chunk in tqdm(pd.read_csv(filename, chunksize=four_million)): \n",
    "    \n",
    "    temp = chunk[['userid', 'timestamp', 'touches']].copy(deep=True)\n",
    "    temp['timestamp'] = pd.to_datetime(temp['timestamp'], yearfirst=True).copy(deep=True)\n",
    "    temp = temp.groupby(['userid', pd.Grouper(key='timestamp', freq='1Min')])['touches'].sum().reset_index().copy(deep=True)\n",
    "    df_min = pd.concat([df_min, temp], ignore_index=True) \n",
    "    \n",
    "print(\"Done!\")"
   ]
  },
  {
   "cell_type": "code",
   "execution_count": null,
   "id": "d64f343b",
   "metadata": {},
   "outputs": [],
   "source": [
    "df_min.to_csv('Processed Data/by_minute.csv')"
   ]
  },
  {
   "cell_type": "code",
   "execution_count": null,
   "id": "9316b817-8dac-441b-b0b5-24755b228876",
   "metadata": {},
   "outputs": [],
   "source": [
    "!pip install timedelta -q"
   ]
  },
  {
   "cell_type": "code",
   "execution_count": null,
   "id": "f9c197b1",
   "metadata": {},
   "outputs": [],
   "source": [
    "# run once more to avoid duplicates, see issue in file_reduction.ipynb\n",
    "import timedelta\n",
    "\n",
    "df_min = df_min.groupby(['userid', pd.Grouper(key='timestamp', freq='1Min')])['touches'].sum().reset_index().copy(deep=True)\n",
    "df_min['touches'] = df_min.touches.astype(int)\n",
    "print(f'Rows: {df_min.shape[0]:,}')  #should be '682,611'"
   ]
  },
  {
   "cell_type": "markdown",
   "id": "f0e925c8",
   "metadata": {},
   "source": [
    "# Side question:\n",
    "Humans generally stay awake 16 to 18 hours of their 24 hour day, so about 17/24 = 71% is spent awake. Out of these hours, which amount corresponds to the times the phone is checked?\n",
    "Each row corresponds to one minute for one user, so length of the data is \"N rows\""
   ]
  },
  {
   "cell_type": "code",
   "execution_count": null,
   "id": "ea6ef884",
   "metadata": {},
   "outputs": [],
   "source": [
    "time = timedelta.Timedelta(df_min.timestamp.max() - df_min.timestamp.min()).total\n",
    "n_users = len(df_min.userid.unique())\n",
    "print(f'{color.BOLD}formula used{color.END}: \\n(N rows) / (total possible minutes awake in the 15 day period)')\n",
    "print()\n",
    "print(f'{df_min.shape[0]:,} / ({time.minutes} x {17/24:.2f} x {n_users}) = {df_min.shape[0] / ((time.minutes)*n_users*(17/24)) * 100:.2f} %')\n",
    "print()\n",
    "print(f\"For all the time the average user is awake,{color.BOLD} the total amount of the minutes is one quarter checking the phone at least once{color.END}.\\nEach minute spent checking the phone has a{color.BOLD} median of {df_min.touches.median():.0f} touches. {color.END}\")"
   ]
  },
  {
   "cell_type": "code",
   "execution_count": null,
   "id": "ca849032",
   "metadata": {},
   "outputs": [],
   "source": [
    "#df_min = df_min.drop(columns=\"day\")\n",
    "days = dict()\n",
    "for i in range(10, 29):\n",
    "    days[i] = i-12 + 1   #days translates to month days to common count of days\n",
    "    \n",
    "def today_or_yesterday(t): \n",
    "    if t.hour < 5:\n",
    "        return days[t.day -1]\n",
    "    else:\n",
    "        return days[t.day]\n",
    "day = [[today_or_yesterday(timestamp) for timestamp in df_min['timestamp']]]\n",
    "df_min.insert(3, 'day', pd.Series(day[0]))"
   ]
  },
  {
   "cell_type": "code",
   "execution_count": null,
   "id": "1d641aab",
   "metadata": {},
   "outputs": [],
   "source": [
    "df_min[df_min.userid==1 &\n",
    "       ((df_min['timestamp'].dt.day == 12) & \n",
    "        (df_min['timestamp'].dt.hour >= 23) & (df_min['timestamp'].dt.minute >= 55)| \n",
    "        (df_min['timestamp'].dt.day == 13) & \n",
    "        (df_min['timestamp'].dt.hour <= 9) & (df_min['timestamp'].dt.minute <= 10)) \n",
    "      ].head(25).sort_values(by='timestamp')\n",
    "# Looking at the day indicator below, it stayed the same when needed and changed when needed."
   ]
  },
  {
   "cell_type": "code",
   "execution_count": null,
   "id": "831c0160",
   "metadata": {},
   "outputs": [],
   "source": [
    "'''\n",
    "plt.figure(figsize=(10, 6))\n",
    "g = sns.boxenplot(x='day', y='touches', data=df_min)\n",
    "plt.xlabel('Day')\n",
    "plt.ylabel('Touches')\n",
    "human_days = [' Wed', 'Thu', 'Fri','Sat', 'Sun', 'Mon', 'Tue',] * 2\n",
    "human_days.extend([' Wed', 'Thu', 'Fri', 'Sat', 'Sun'])\n",
    "g.set_xticklabels(human_days)\n",
    "plt.title('Touches Across Days')\n",
    "plt.show()\n",
    "'''"
   ]
  },
  {
   "cell_type": "code",
   "execution_count": null,
   "id": "944f2a10",
   "metadata": {},
   "outputs": [],
   "source": [
    "#Graph: I need to make code more readable.\n",
    "\n",
    "out = df_min[df_min.userid.isin([1])]\n",
    "min_range = pd.date_range(start=df_min.timestamp.min(), end=df_min.timestamp.max(), freq='T')\n",
    "complete_data = {'timestamp': min_range}\n",
    "complete_df = pd.DataFrame(complete_data)\n",
    "out = pd.merge(complete_df, pd.DataFrame(out), how='left', on='timestamp')\n",
    "out['touches'] = out['touches'].fillna(0).astype(int)\n"
   ]
  },
  {
   "cell_type": "code",
   "execution_count": null,
   "id": "42e42d6a",
   "metadata": {},
   "outputs": [],
   "source": [
    "out.timestamp.min()"
   ]
  },
  {
   "cell_type": "code",
   "execution_count": null,
   "id": "c5d958ec",
   "metadata": {},
   "outputs": [],
   "source": [
    "out.drop(columns=\"userid\", axis=0)"
   ]
  },
  {
   "cell_type": "code",
   "execution_count": null,
   "id": "8b3451bb",
   "metadata": {},
   "outputs": [],
   "source": [
    "out['time'] = df_min['timestamp'].dt.hour\n",
    "out = out.groupby(['time', 'day'])['touches'].median().unstack()"
   ]
  },
  {
   "cell_type": "code",
   "execution_count": null,
   "id": "1f4844af",
   "metadata": {},
   "outputs": [],
   "source": [
    "g = sns.heatmap(out, cmap=\"flare\")\n",
    "human_days = [' Wed', 'Thu', 'Fri','Sat', 'Sun', 'Mon', 'Tue',] * 2\n",
    "human_days.extend([' Wed', 'Thu', 'Fri'])\n",
    "g.set_xticklabels(human_days)\n",
    "plt.savefig('heatmap_of_use.png')\n",
    "plt.show()"
   ]
  },
  {
   "cell_type": "code",
   "execution_count": 28,
   "id": "63483970",
   "metadata": {},
   "outputs": [],
   "source": [
    "demographics = pd.read_stata(\"Raw Data/data4diarynew_ITA.dta\")\n",
    "time_diary = pd.read_stata(\"Raw Data/td_ita.dta\")\n",
    "to_keep = pd.read_csv(\"Processed Data/by_minute.csv\")"
   ]
  },
  {
   "cell_type": "markdown",
   "id": "c4566400",
   "metadata": {},
   "source": [
    "Unfortunately, I need to keep only the 147 users that I have sensor data on and for the days that I selected. Out of these, only 2 did not give their data on their social and psychological attributes, so in total there's 145 eligible users. "
   ]
  },
  {
   "cell_type": "code",
   "execution_count": 35,
   "id": "c3776fd5-de98-4bac-b42a-2bfbe5f352d4",
   "metadata": {},
   "outputs": [
    {
     "data": {
      "text/html": [
       "<div>\n",
       "<style scoped>\n",
       "    .dataframe tbody tr th:only-of-type {\n",
       "        vertical-align: middle;\n",
       "    }\n",
       "\n",
       "    .dataframe tbody tr th {\n",
       "        vertical-align: top;\n",
       "    }\n",
       "\n",
       "    .dataframe thead th {\n",
       "        text-align: right;\n",
       "    }\n",
       "</style>\n",
       "<table border=\"1\" class=\"dataframe\">\n",
       "  <thead>\n",
       "    <tr style=\"text-align: right;\">\n",
       "      <th></th>\n",
       "      <th>token</th>\n",
       "      <th>w1_idpilot</th>\n",
       "      <th>userid</th>\n",
       "      <th>pilot</th>\n",
       "      <th>w1_A01</th>\n",
       "      <th>nationality</th>\n",
       "      <th>department</th>\n",
       "      <th>Dep_UNITN</th>\n",
       "      <th>cohort</th>\n",
       "      <th>degree</th>\n",
       "      <th>...</th>\n",
       "      <th>Bodykines</th>\n",
       "      <th>Musical</th>\n",
       "      <th>Interpersonal</th>\n",
       "      <th>Intrapersonal</th>\n",
       "      <th>Environmental</th>\n",
       "      <th>Spiritual</th>\n",
       "      <th>w1_A03</th>\n",
       "      <th>w1_A04UNITN</th>\n",
       "      <th>w1_A09UNITN</th>\n",
       "      <th>w1_A10UNITN</th>\n",
       "    </tr>\n",
       "  </thead>\n",
       "  <tbody>\n",
       "  </tbody>\n",
       "</table>\n",
       "<p>0 rows × 67 columns</p>\n",
       "</div>"
      ],
      "text/plain": [
       "Empty DataFrame\n",
       "Columns: [token, w1_idpilot, userid, pilot, w1_A01, nationality, department, Dep_UNITN, cohort, degree, Extraversion, Agreeableness, Conscientiousness, Neuroticism, Openness, MExtraversion, MAgreeableness, MConscientiousness, MNeuroticism, MOpenness, Pconformity, Ptradition, Pbenov, Punivers, Pself, Pstim, Phedon, Pachieve, Ppower, Psecurity, Popen, Pselfenh, Pselftran, Pconserv, Mconformity, Mtradition, Mbenov, Munivers, Mself, Mstim, Mhedon, Machieve, Mpower, Msecurity, Mopen, Mselfenh, Mselftran, Mconserv, Pexcitements, Psuprapersonal, Pinteractive, Ppromotion, Pexistence, Pnormative, Linguistic, Logicmath, Spatial, Bodykines, Musical, Interpersonal, Intrapersonal, Environmental, Spiritual, w1_A03, w1_A04UNITN, w1_A09UNITN, w1_A10UNITN]\n",
       "Index: []\n",
       "\n",
       "[0 rows x 67 columns]"
      ]
     },
     "execution_count": 35,
     "metadata": {},
     "output_type": "execute_result"
    }
   ],
   "source": [
    "#I found out about this discrepancy in the descriptive analysis noteboook. \n",
    "# For proof, two users who are present in touch sensor data are 37 and 202.\n",
    "demographics[demographics.userid == 202]\n",
    "demographics[demographics.userid == 37]"
   ]
  },
  {
   "cell_type": "code",
   "execution_count": null,
   "id": "ab3fb98b",
   "metadata": {},
   "outputs": [],
   "source": [
    "#users\n",
    "df_td = time_diary[time_diary['id'].isin(to_keep.userid.astype(int))]\n",
    "demographics.userid = demographics.userid.astype(int)\n",
    "df_demographics = demographics[demographics['userid'].isin(df_td.id.unique())]"
   ]
  },
  {
   "cell_type": "code",
   "execution_count": null,
   "id": "b4ec27e8",
   "metadata": {},
   "outputs": [],
   "source": [
    "#time\n",
    "df_td = df_td[df_td.datein_answ.dt.month == 11]\n",
    "df_td = df_td[df_td.datein_answ.dt.day <= 28]\n",
    "df_td = df_td[df_td.datein_answ.dt.day >= 11]\n"
   ]
  },
  {
   "cell_type": "code",
   "execution_count": null,
   "id": "16e321d5",
   "metadata": {},
   "outputs": [],
   "source": [
    "df_td.datein_answ.max()"
   ]
  },
  {
   "cell_type": "code",
   "execution_count": null,
   "id": "d1ee3041",
   "metadata": {},
   "outputs": [],
   "source": [
    "df_demographics.to_csv('Processed Data/demographics_15.csv')\n",
    "df_td.to_csv('Processed Data/time_diary_15.csv')"
   ]
  },
  {
   "cell_type": "markdown",
   "id": "595da077",
   "metadata": {},
   "source": [
    "# Adding observations with 0 touches\n",
    "In order to visualize things more correctly, I need some structure in the data that also tells the machine that there were no touches in some of the minutes. "
   ]
  },
  {
   "cell_type": "code",
   "execution_count": null,
   "id": "6e055e9f",
   "metadata": {},
   "outputs": [],
   "source": [
    "translator = dict()\n",
    "for i in range(9, 29):\n",
    "    translator[i] = i-12 + 1   #translates from dates to chosen count of days\n",
    "\n",
    "def today_or_yesterday(t): \n",
    "    if t.hour < 5:\n",
    "        return translator[t.day - 1]\n",
    "    else:\n",
    "        return translator[t.day]"
   ]
  },
  {
   "cell_type": "code",
   "execution_count": null,
   "id": "65e4e858",
   "metadata": {},
   "outputs": [],
   "source": [
    "merged_df = 0\n",
    "data = df_min\n",
    "\n",
    "data['timestamp'] = pd.to_datetime(data['timestamp'])\n",
    "results = pd.DataFrame()\n",
    "for user in tqdm(data.userid.unique()):\n",
    "    subset = data[data.userid==user]\n",
    "    \n",
    "    min_range = pd.date_range(start=\"2020-11-10 00:00:00\", end=\"2020-11-28 23:59:59\", freq='T')\n",
    "    \n",
    "    complete_data = {'timestamp': min_range}\n",
    "    \n",
    "    complete_df = pd.DataFrame(complete_data)\n",
    "    \n",
    "    merged_df = pd.merge(complete_df, pd.DataFrame(subset), how='left', on='timestamp')\n",
    "\n",
    "    # Fill NaN values in 'touches' and 'userid' with 0\n",
    "    merged_df['touches'] = merged_df['touches'].fillna(0).astype(int)\n",
    "    \n",
    "    merged_df['userid'] = merged_df['userid'].fillna(0).astype(int)\n",
    "     \n",
    "    l_userid = [[user for userid in merged_df['userid']]]\n",
    "    merged_df['userid'] = l_userid[0]\n",
    "    \n",
    "    \n",
    "    results = pd.concat([results, merged_df,], ignore_index=True)\n",
    "\n",
    "# Print the result\n",
    "day = [[today_or_yesterday(timestamp) for timestamp in results['timestamp']]]\n",
    "results['day'] = pd.Series(day[0])\n",
    "results[(results.timestamp>=\"2020-11-12 23:50:00\") & (results.userid==2)].head(20).sort_values(by=\"timestamp\")"
   ]
  },
  {
   "cell_type": "code",
   "execution_count": null,
   "id": "3406ecdf",
   "metadata": {},
   "outputs": [],
   "source": [
    "print(f'Now: the rows are {results.shape[0]:,}. Before: {df_min.shape[0]:,}')\n",
    "print(f'The new dataset is almost {round(results.shape[0]/df_min.shape[0])} times bigger than the original.')"
   ]
  },
  {
   "cell_type": "code",
   "execution_count": null,
   "id": "c787b4ae",
   "metadata": {},
   "outputs": [],
   "source": [
    "results.to_csv('Processed Data/by_minute_15_with_empty_obs.csv')"
   ]
  },
  {
   "cell_type": "code",
   "execution_count": null,
   "id": "5964ab52-bf09-4f15-a98d-db9276464477",
   "metadata": {},
   "outputs": [],
   "source": []
  },
  {
   "cell_type": "code",
   "execution_count": null,
   "id": "5fd05d8f-4cfe-49e4-bdf4-beceb31702a4",
   "metadata": {},
   "outputs": [],
   "source": []
  },
  {
   "cell_type": "code",
   "execution_count": null,
   "id": "3099dd46-017b-424c-801b-27e814d325e1",
   "metadata": {},
   "outputs": [],
   "source": []
  },
  {
   "cell_type": "code",
   "execution_count": null,
   "id": "bb28c163-638c-4acb-ba96-511afa6b534b",
   "metadata": {},
   "outputs": [],
   "source": []
  }
 ],
 "metadata": {
  "kernelspec": {
   "display_name": "Python 3 (ipykernel)",
   "language": "python",
   "name": "python3"
  },
  "language_info": {
   "codemirror_mode": {
    "name": "ipython",
    "version": 3
   },
   "file_extension": ".py",
   "mimetype": "text/x-python",
   "name": "python",
   "nbconvert_exporter": "python",
   "pygments_lexer": "ipython3",
   "version": "3.11.5"
  }
 },
 "nbformat": 4,
 "nbformat_minor": 5
}
