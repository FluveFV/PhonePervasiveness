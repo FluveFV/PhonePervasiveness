{
 "cells": [
  {
   "cell_type": "markdown",
   "metadata": {},
   "source": [
    "# File reduction\n",
    "Since the original file is over 5 GB, pandas struggles to open it all at once on a typical laptop with 8 GB RAM. \n",
    "As a solution, this program cuts it into chunks, groups events by the second (we don't care about millisecond precision of the event) and saves a new file."
   ]
  },
  {
   "cell_type": "code",
   "execution_count": 3,
   "metadata": {
    "id": "HWIImv-32rlP",
    "tags": []
   },
   "outputs": [],
   "source": [
    "from scipy import stats\n",
    "from tqdm import tqdm\n",
    "import os\n",
    "import pandas as pd\n",
    "import numpy as np\n",
    "import matplotlib.pyplot as plt\n",
    "import seaborn as sns"
   ]
  },
  {
   "cell_type": "code",
   "execution_count": 4,
   "metadata": {},
   "outputs": [],
   "source": [
    "def decoupling_time(r):\n",
    "    '''\n",
    "    This will output in this format: 1970-08-22 19:25:00 \n",
    "    '''\n",
    "    s = str(r)\n",
    "    year, month, day, hour, minute, second = s[:4], s[4:6], s[6:8], s[8:10], s[10:12], s[12:14]\n",
    "    \n",
    "    return '-'.join([year, month, day]) + ' ' + ':'.join([hour, minute, second])\n",
    "#decoupling_time(20201117235750093)\n"
   ]
  },
  {
   "cell_type": "code",
   "execution_count": 5,
   "metadata": {
    "id": "-gBp1VMc1s7f",
    "scrolled": false
   },
   "outputs": [
    {
     "name": "stderr",
     "output_type": "stream",
     "text": [
      "0it [00:00, ?it/s]/tmp/ipykernel_131756/2225915510.py:12: UserWarning: Could not infer format, so each element will be parsed individually, falling back to `dateutil`. To ensure parsing is consistent and as-expected, please specify a format.\n",
      "  shortened_times = pd.to_datetime(chunk['timestamp'].apply(\n",
      "0it [00:08, ?it/s]\n"
     ]
    },
    {
     "ename": "DateParseError",
     "evalue": "Unknown datetime string format, unable to parse: 2020--1-1- 22: 0:0:, at position 0",
     "output_type": "error",
     "traceback": [
      "\u001b[0;31m---------------------------------------------------------------------------\u001b[0m",
      "\u001b[0;31mDateParseError\u001b[0m                            Traceback (most recent call last)",
      "Cell \u001b[0;32mIn[5], line 12\u001b[0m\n\u001b[1;32m      9\u001b[0m temp \u001b[38;5;241m=\u001b[39m chunk[[\u001b[38;5;124m'\u001b[39m\u001b[38;5;124muserid\u001b[39m\u001b[38;5;124m'\u001b[39m,\u001b[38;5;124m'\u001b[39m\u001b[38;5;124mday\u001b[39m\u001b[38;5;124m'\u001b[39m,]]\n\u001b[1;32m     11\u001b[0m \u001b[38;5;66;03m#turning now time from raw to machine readable ; #every minute has a specific count                                         \u001b[39;00m\n\u001b[0;32m---> 12\u001b[0m shortened_times \u001b[38;5;241m=\u001b[39m pd\u001b[38;5;241m.\u001b[39mto_datetime(chunk[\u001b[38;5;124m'\u001b[39m\u001b[38;5;124mtimestamp\u001b[39m\u001b[38;5;124m'\u001b[39m]\u001b[38;5;241m.\u001b[39mapply(\n\u001b[1;32m     13\u001b[0m     decoupling_time), yearfirst\u001b[38;5;241m=\u001b[39m\u001b[38;5;28;01mTrue\u001b[39;00m)\u001b[38;5;241m.\u001b[39mdt\u001b[38;5;241m.\u001b[39mfloor(\u001b[38;5;124m'\u001b[39m\u001b[38;5;124ms\u001b[39m\u001b[38;5;124m'\u001b[39m)\n\u001b[1;32m     14\u001b[0m temp\u001b[38;5;241m.\u001b[39minsert(\u001b[38;5;241m2\u001b[39m, \u001b[38;5;124m'\u001b[39m\u001b[38;5;124mtimestamp\u001b[39m\u001b[38;5;124m'\u001b[39m, shortened_times)\n\u001b[1;32m     15\u001b[0m \u001b[38;5;66;03m#attenzione: il conteggio potrebbe essere meglio rappresentato\u001b[39;00m\n\u001b[1;32m     16\u001b[0m \u001b[38;5;66;03m# da una misura di massimo un numero di tocchi al secondo, oltre \u001b[39;00m\n\u001b[1;32m     17\u001b[0m \u001b[38;5;66;03m#la quale si è outliers o c'è un errore nei dati; quando viene \u001b[39;00m\n\u001b[1;32m     18\u001b[0m \u001b[38;5;66;03m# portato al minuto, la somma può essere divisa per secondi (60)\u001b[39;00m\n\u001b[1;32m     19\u001b[0m \n\u001b[1;32m     20\u001b[0m \u001b[38;5;66;03m#grouping \u001b[39;00m\n",
      "File \u001b[0;32m~/anaconda3/lib/python3.11/site-packages/pandas/core/tools/datetimes.py:1046\u001b[0m, in \u001b[0;36mto_datetime\u001b[0;34m(arg, errors, dayfirst, yearfirst, utc, format, exact, unit, infer_datetime_format, origin, cache)\u001b[0m\n\u001b[1;32m   1044\u001b[0m             result \u001b[38;5;241m=\u001b[39m arg\u001b[38;5;241m.\u001b[39mtz_localize(\u001b[38;5;124m\"\u001b[39m\u001b[38;5;124mutc\u001b[39m\u001b[38;5;124m\"\u001b[39m)\n\u001b[1;32m   1045\u001b[0m \u001b[38;5;28;01melif\u001b[39;00m \u001b[38;5;28misinstance\u001b[39m(arg, ABCSeries):\n\u001b[0;32m-> 1046\u001b[0m     cache_array \u001b[38;5;241m=\u001b[39m _maybe_cache(arg, \u001b[38;5;28mformat\u001b[39m, cache, convert_listlike)\n\u001b[1;32m   1047\u001b[0m     \u001b[38;5;28;01mif\u001b[39;00m \u001b[38;5;129;01mnot\u001b[39;00m cache_array\u001b[38;5;241m.\u001b[39mempty:\n\u001b[1;32m   1048\u001b[0m         result \u001b[38;5;241m=\u001b[39m arg\u001b[38;5;241m.\u001b[39mmap(cache_array)\n",
      "File \u001b[0;32m~/anaconda3/lib/python3.11/site-packages/pandas/core/tools/datetimes.py:250\u001b[0m, in \u001b[0;36m_maybe_cache\u001b[0;34m(arg, format, cache, convert_listlike)\u001b[0m\n\u001b[1;32m    248\u001b[0m unique_dates \u001b[38;5;241m=\u001b[39m unique(arg)\n\u001b[1;32m    249\u001b[0m \u001b[38;5;28;01mif\u001b[39;00m \u001b[38;5;28mlen\u001b[39m(unique_dates) \u001b[38;5;241m<\u001b[39m \u001b[38;5;28mlen\u001b[39m(arg):\n\u001b[0;32m--> 250\u001b[0m     cache_dates \u001b[38;5;241m=\u001b[39m convert_listlike(unique_dates, \u001b[38;5;28mformat\u001b[39m)\n\u001b[1;32m    251\u001b[0m     \u001b[38;5;66;03m# GH#45319\u001b[39;00m\n\u001b[1;32m    252\u001b[0m     \u001b[38;5;28;01mtry\u001b[39;00m:\n",
      "File \u001b[0;32m~/anaconda3/lib/python3.11/site-packages/pandas/core/tools/datetimes.py:455\u001b[0m, in \u001b[0;36m_convert_listlike_datetimes\u001b[0;34m(arg, format, name, utc, unit, errors, dayfirst, yearfirst, exact)\u001b[0m\n\u001b[1;32m    452\u001b[0m \u001b[38;5;28;01mif\u001b[39;00m \u001b[38;5;28mformat\u001b[39m \u001b[38;5;129;01mis\u001b[39;00m \u001b[38;5;129;01mnot\u001b[39;00m \u001b[38;5;28;01mNone\u001b[39;00m \u001b[38;5;129;01mand\u001b[39;00m \u001b[38;5;28mformat\u001b[39m \u001b[38;5;241m!=\u001b[39m \u001b[38;5;124m\"\u001b[39m\u001b[38;5;124mmixed\u001b[39m\u001b[38;5;124m\"\u001b[39m:\n\u001b[1;32m    453\u001b[0m     \u001b[38;5;28;01mreturn\u001b[39;00m _array_strptime_with_fallback(arg, name, utc, \u001b[38;5;28mformat\u001b[39m, exact, errors)\n\u001b[0;32m--> 455\u001b[0m result, tz_parsed \u001b[38;5;241m=\u001b[39m objects_to_datetime64ns(\n\u001b[1;32m    456\u001b[0m     arg,\n\u001b[1;32m    457\u001b[0m     dayfirst\u001b[38;5;241m=\u001b[39mdayfirst,\n\u001b[1;32m    458\u001b[0m     yearfirst\u001b[38;5;241m=\u001b[39myearfirst,\n\u001b[1;32m    459\u001b[0m     utc\u001b[38;5;241m=\u001b[39mutc,\n\u001b[1;32m    460\u001b[0m     errors\u001b[38;5;241m=\u001b[39merrors,\n\u001b[1;32m    461\u001b[0m     allow_object\u001b[38;5;241m=\u001b[39m\u001b[38;5;28;01mTrue\u001b[39;00m,\n\u001b[1;32m    462\u001b[0m )\n\u001b[1;32m    464\u001b[0m \u001b[38;5;28;01mif\u001b[39;00m tz_parsed \u001b[38;5;129;01mis\u001b[39;00m \u001b[38;5;129;01mnot\u001b[39;00m \u001b[38;5;28;01mNone\u001b[39;00m:\n\u001b[1;32m    465\u001b[0m     \u001b[38;5;66;03m# We can take a shortcut since the datetime64 numpy array\u001b[39;00m\n\u001b[1;32m    466\u001b[0m     \u001b[38;5;66;03m# is in UTC\u001b[39;00m\n\u001b[1;32m    467\u001b[0m     dta \u001b[38;5;241m=\u001b[39m DatetimeArray(result, dtype\u001b[38;5;241m=\u001b[39mtz_to_dtype(tz_parsed))\n",
      "File \u001b[0;32m~/anaconda3/lib/python3.11/site-packages/pandas/core/arrays/datetimes.py:2177\u001b[0m, in \u001b[0;36mobjects_to_datetime64ns\u001b[0;34m(data, dayfirst, yearfirst, utc, errors, allow_object)\u001b[0m\n\u001b[1;32m   2174\u001b[0m \u001b[38;5;66;03m# if str-dtype, convert\u001b[39;00m\n\u001b[1;32m   2175\u001b[0m data \u001b[38;5;241m=\u001b[39m np\u001b[38;5;241m.\u001b[39marray(data, copy\u001b[38;5;241m=\u001b[39m\u001b[38;5;28;01mFalse\u001b[39;00m, dtype\u001b[38;5;241m=\u001b[39mnp\u001b[38;5;241m.\u001b[39mobject_)\n\u001b[0;32m-> 2177\u001b[0m result, tz_parsed \u001b[38;5;241m=\u001b[39m tslib\u001b[38;5;241m.\u001b[39marray_to_datetime(\n\u001b[1;32m   2178\u001b[0m     data,\n\u001b[1;32m   2179\u001b[0m     errors\u001b[38;5;241m=\u001b[39merrors,\n\u001b[1;32m   2180\u001b[0m     utc\u001b[38;5;241m=\u001b[39mutc,\n\u001b[1;32m   2181\u001b[0m     dayfirst\u001b[38;5;241m=\u001b[39mdayfirst,\n\u001b[1;32m   2182\u001b[0m     yearfirst\u001b[38;5;241m=\u001b[39myearfirst,\n\u001b[1;32m   2183\u001b[0m )\n\u001b[1;32m   2185\u001b[0m \u001b[38;5;28;01mif\u001b[39;00m tz_parsed \u001b[38;5;129;01mis\u001b[39;00m \u001b[38;5;129;01mnot\u001b[39;00m \u001b[38;5;28;01mNone\u001b[39;00m:\n\u001b[1;32m   2186\u001b[0m     \u001b[38;5;66;03m# We can take a shortcut since the datetime64 numpy array\u001b[39;00m\n\u001b[1;32m   2187\u001b[0m     \u001b[38;5;66;03m#  is in UTC\u001b[39;00m\n\u001b[1;32m   2188\u001b[0m     \u001b[38;5;66;03m# Return i8 values to denote unix timestamps\u001b[39;00m\n\u001b[1;32m   2189\u001b[0m     \u001b[38;5;28;01mreturn\u001b[39;00m result\u001b[38;5;241m.\u001b[39mview(\u001b[38;5;124m\"\u001b[39m\u001b[38;5;124mi8\u001b[39m\u001b[38;5;124m\"\u001b[39m), tz_parsed\n",
      "File \u001b[0;32m~/anaconda3/lib/python3.11/site-packages/pandas/_libs/tslib.pyx:402\u001b[0m, in \u001b[0;36mpandas._libs.tslib.array_to_datetime\u001b[0;34m()\u001b[0m\n",
      "File \u001b[0;32m~/anaconda3/lib/python3.11/site-packages/pandas/_libs/tslib.pyx:551\u001b[0m, in \u001b[0;36mpandas._libs.tslib.array_to_datetime\u001b[0;34m()\u001b[0m\n",
      "File \u001b[0;32m~/anaconda3/lib/python3.11/site-packages/pandas/_libs/tslib.pyx:516\u001b[0m, in \u001b[0;36mpandas._libs.tslib.array_to_datetime\u001b[0;34m()\u001b[0m\n",
      "File \u001b[0;32m~/anaconda3/lib/python3.11/site-packages/pandas/_libs/tslibs/conversion.pyx:557\u001b[0m, in \u001b[0;36mpandas._libs.tslibs.conversion.convert_str_to_tsobject\u001b[0;34m()\u001b[0m\n",
      "File \u001b[0;32m~/anaconda3/lib/python3.11/site-packages/pandas/_libs/tslibs/parsing.pyx:329\u001b[0m, in \u001b[0;36mpandas._libs.tslibs.parsing.parse_datetime_string\u001b[0;34m()\u001b[0m\n",
      "File \u001b[0;32m~/anaconda3/lib/python3.11/site-packages/pandas/_libs/tslibs/parsing.pyx:658\u001b[0m, in \u001b[0;36mpandas._libs.tslibs.parsing.dateutil_parse\u001b[0;34m()\u001b[0m\n",
      "\u001b[0;31mDateParseError\u001b[0m: Unknown datetime string format, unable to parse: 2020--1-1- 22: 0:0:, at position 0"
     ]
    }
   ],
   "source": [
    "filename = \"Raw Data/touchevent.csv\"\n",
    "final_data = pd.DataFrame()\n",
    "#different chunk sizes, one_hundred is for tests. \n",
    "five_million = 5*10**6\n",
    "three_million = 3*10**6\n",
    "one_hundred = 10**2\n",
    "c = 0\n",
    "for chunk in tqdm(pd.read_csv(filename, chunksize=three_million)): \n",
    "    #deep copy \n",
    "    temp = chunk[['userid','day']]\n",
    "    \n",
    "    #turning now time from raw to machine readable ; #every minute has a specific count                                         \n",
    "    shortened_times = pd.to_datetime(chunk['timestamp'].apply(\n",
    "        decoupling_time), yearfirst=True).dt.floor('s')\n",
    "    temp.insert(2, 'timestamp', shortened_times)\n",
    "    #attenzione: il conteggio potrebbe essere meglio rappresentato\n",
    "    # da una misura di massimo un numero di tocchi al secondo, oltre \n",
    "    #la quale si è outliers o c'è un errore nei dati; quando viene \n",
    "    # portato al minuto, la somma può essere divisa per secondi (60)\n",
    "    \n",
    "    #grouping \n",
    "    df_grouped = temp.groupby(['userid', 'day','timestamp' ]).size()                                         \n",
    "    df_grouped = df_grouped.reset_index(name='touches')\n",
    "    df_grouped.day = df_grouped.day.apply(lambda x: str(x)[:4]+'/'+str(x)[4:6]+'/'+str(x)[6:])\n",
    "    df_grouped.day = pd.to_datetime(df_grouped.day, yearfirst=True)\n",
    "    \n",
    "    # ONLY NOVEMBER \n",
    "    '''\n",
    "    df_grouped.day = df_grouped.day.apply(lambda x: True if str(x)[4:6] == \"11\" else False) #only november \n",
    "    df_grouped.rename(columns={\"day\": \"first_two_weeks\"}, inplace=True)\n",
    "    df_grouped = df_grouped[df_grouped.first_two_weeks]   #this does the selection\n",
    "    '''\n",
    "    #df_grouped = df_grouped.drop(['first_two_weeks'], axis='columns')\n",
    "    \n",
    "    #appending to a global df\n",
    "    final_data = pd.concat([final_data, df_grouped], ignore_index=True) \n",
    "    c += 1  #break during tests\n",
    "    if c == 100:\n",
    "        break\n",
    "print(f\"There were originally about {c*three_million:,} rows. Now there are exactly {final_data.shape[0]:,}\")\n",
    "print(\"File reduction is completed.\")\n",
    "final_data.to_csv('Processed Data/touch_sensor_unclean.csv')\n",
    "print('The file was saved onto the current directory.')"
   ]
  },
  {
   "cell_type": "code",
   "execution_count": 30,
   "metadata": {
    "collapsed": true
   },
   "outputs": [
    {
     "data": {
      "text/plain": [
       "[Text(0, 0, '10/11'),\n",
       " Text(1, 0, '11/11'),\n",
       " Text(2, 0, '12/11'),\n",
       " Text(3, 0, '13/11'),\n",
       " Text(4, 0, '14/11'),\n",
       " Text(5, 0, '15/11'),\n",
       " Text(6, 0, '16/11'),\n",
       " Text(7, 0, '17/11'),\n",
       " Text(8, 0, '18/11'),\n",
       " Text(9, 0, '19/11'),\n",
       " Text(10, 0, '20/11'),\n",
       " Text(11, 0, '21/11'),\n",
       " Text(12, 0, '22/11'),\n",
       " Text(13, 0, '23/11'),\n",
       " Text(14, 0, '24/11'),\n",
       " Text(15, 0, '25/11'),\n",
       " Text(16, 0, '26/11'),\n",
       " Text(17, 0, '27/11'),\n",
       " Text(18, 0, '28/11'),\n",
       " Text(19, 0, '29/11'),\n",
       " Text(20, 0, '30/11'),\n",
       " Text(21, 0, '01/12'),\n",
       " Text(22, 0, '02/12'),\n",
       " Text(23, 0, '03/12'),\n",
       " Text(24, 0, '04/12'),\n",
       " Text(25, 0, '05/12'),\n",
       " Text(26, 0, '06/12'),\n",
       " Text(27, 0, '07/12'),\n",
       " Text(28, 0, '08/12'),\n",
       " Text(29, 0, '09/12'),\n",
       " Text(30, 0, '10/12'),\n",
       " Text(31, 0, '11/12'),\n",
       " Text(32, 0, '12/12'),\n",
       " Text(33, 0, '13/12'),\n",
       " Text(34, 0, '14/12'),\n",
       " Text(35, 0, '15/12'),\n",
       " Text(36, 0, '16/12')]"
      ]
     },
     "execution_count": 30,
     "metadata": {},
     "output_type": "execute_result"
    },
    {
     "data": {
      "image/png": "[encoded data removed]",
      "text/plain": [
       "<Figure size 640x480 with 1 Axes>"
      ]
     },
     "metadata": {},
     "output_type": "display_data"
    }
   ],
   "source": [
    "# To run this, most of this cell has to be unblocked\n",
    "# and needs to be put hashtags all over the \"ONLY FIRST TWO WEEKS\" block in the previous for loop.\n",
    "\n",
    "\n",
    "days_in_total = final_data.day.value_counts().sort_index()\n",
    "raw_data_days_frequency.to_csv('Processed Data/total_days_and_frequency.csv')\n",
    "table=days_in_total\n",
    "#table = pd.read_csv(\"Processed Data/total_days_and_frequency.csv\").sort_index()\n",
    "g = sns.barplot(data=table, x=table['day'], y=table['count'], color='#977dc7')\n",
    "g.set_xticklabels(labels=table.day.apply(lambda x: str(x)[-2:] + '/' + str(x)[-5:-3]),rotation=90)\n",
    "# It seems like from 12th of November 'till 11th of December there was most activity. \n",
    "plt.show()"
   ]
  },
  {
   "cell_type": "markdown",
   "metadata": {},
   "source": [
    "# Making sure there are no mistakes.\n",
    "When grouping by second, because of the massive size of the original dataset, there can be mistakes when passing from one iteration to the other. For example, two observations with the same second but parsed in two different iterations may not be grouped in the same second. The fastest solution is to re-run the code on the parsed, processed new file as this time no _for_ loop is needed."
   ]
  },
  {
   "cell_type": "code",
   "execution_count": 5,
   "metadata": {},
   "outputs": [
    {
     "name": "stdout",
     "output_type": "stream",
     "text": [
      "CPU times: user 3 µs, sys: 1 µs, total: 4 µs\n",
      "Wall time: 7.63 µs\n"
     ]
    }
   ],
   "source": [
    "%time\n",
    "filename = 'Processed Data/touch_sensor_unclean.csv'\n",
    "temp = pd.read_csv(filename)"
   ]
  },
  {
   "cell_type": "code",
   "execution_count": 7,
   "metadata": {},
   "outputs": [
    {
     "name": "stdout",
     "output_type": "stream",
     "text": [
      "CPU times: user 6 µs, sys: 1 µs, total: 7 µs\n",
      "Wall time: 12.9 µs\n"
     ]
    }
   ],
   "source": [
    "%time\n",
    "shortened_times = pd.to_datetime(temp.timestamp, yearfirst=True).dt.floor('s')\n",
    "temp.timestamp = shortened_times\n",
    "df_grouped = temp.groupby(['userid', 'timestamp', 'day']).size()                                         \n",
    "df_grouped = df_grouped.reset_index(name='touches')"
   ]
  },
  {
   "cell_type": "code",
   "execution_count": 10,
   "metadata": {},
   "outputs": [
    {
     "data": {
      "text/plain": [
       "'19,859,138'"
      ]
     },
     "execution_count": 10,
     "metadata": {},
     "output_type": "execute_result"
    }
   ],
   "source": [
    "f\"{df_grouped.shape[0]:,}\"  #Should be 19,859,138"
   ]
  },
  {
   "cell_type": "code",
   "execution_count": 11,
   "metadata": {},
   "outputs": [],
   "source": [
    "df_grouped.to_csv(filename)"
   ]
  }
 ],
 "metadata": {
  "accelerator": "GPU",
  "colab": {
   "gpuType": "T4",
   "provenance": []
  },
  "kernelspec": {
   "display_name": "Python 3 (ipykernel)",
   "language": "python",
   "name": "python3"
  },
  "language_info": {
   "codemirror_mode": {
    "name": "ipython",
    "version": 3
   },
   "file_extension": ".py",
   "mimetype": "text/x-python",
   "name": "python",
   "nbconvert_exporter": "python",
   "pygments_lexer": "ipython3",
   "version": "3.11.5"
  }
 },
 "nbformat": 4,
 "nbformat_minor": 4
}
