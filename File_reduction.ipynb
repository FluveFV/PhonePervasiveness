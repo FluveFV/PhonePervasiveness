{
 "cells": [
  {
   "cell_type": "code",
   "execution_count": 65,
   "metadata": {
    "id": "HWIImv-32rlP",
    "tags": []
   },
   "outputs": [],
   "source": [
    "import os\n",
    "import pandas as pd\n",
    "import numpy as np\n",
    "from scipy import stats\n",
    "from tqdm import tqdm"
   ]
  },
  {
   "cell_type": "code",
   "execution_count": 2,
   "metadata": {
    "id": "36nPRnj60xdk"
   },
   "outputs": [],
   "source": [
    "filename = \"Raw Data/touchevent.csv\""
   ]
  },
  {
   "cell_type": "code",
   "execution_count": 3,
   "metadata": {},
   "outputs": [],
   "source": [
    "def decoupling_time(r):\n",
    "    '''\n",
    "    This will output in this format: 1970-08-22 19:25:00 \n",
    "    '''\n",
    "    s = str(r)\n",
    "    year, month, day, hour, minute, second = s[:4], s[4:6], s[6:8], s[8:10], s[10:12], s[12:14]\n",
    "    \n",
    "    return '-'.join([year, month, day]) + ' ' + ':'.join([hour, minute, second])\n",
    "#decoupling_time(20201117235750093)"
   ]
  },
  {
   "cell_type": "code",
   "execution_count": 13,
   "metadata": {
    "id": "-gBp1VMc1s7f",
    "scrolled": true
   },
   "outputs": [
    {
     "name": "stderr",
     "output_type": "stream",
     "text": [
      "12it [02:33, 12.76s/it]/tmp/ipykernel_12967/4030786520.py:11: UserWarning: Could not infer format, so each element will be parsed individually, falling back to `dateutil`. To ensure parsing is consistent and as-expected, please specify a format.\n",
      "  shortened_times = pd.to_datetime(chunk['timestamp'].apply(\n",
      "26it [05:28, 12.62s/it]\n"
     ]
    }
   ],
   "source": [
    "final_data = pd.DataFrame()\n",
    "\n",
    "row_count = 5000000\n",
    "c = 0\n",
    "for chunk in tqdm(pd.read_csv(filename, chunksize=row_count)): \n",
    "    #deep copy \n",
    "    temp = pd.DataFrame(columns=['experimentid', 'userid'])\n",
    "    temp = chunk[['experimentid', 'userid']]\n",
    "    \n",
    "    #turning now time from raw to machine readable ; #every minute has a specific count                                         \n",
    "    shortened_times = pd.to_datetime(chunk['timestamp'].apply(\n",
    "        decoupling_time), yearfirst=True).dt.floor('min')\n",
    "    temp.insert(2, 'timestamp', shortened_times)\n",
    "    #attenzione: il conteggio potrebbe essere meglio rappresentato\n",
    "    # da una misura di massimo un numero di tocchi al secondo, oltre \n",
    "    #la quale si è outliers o c'è un errore nei dati; quando viene \n",
    "    # portato al minuto, la somma può essere divisa per secondi (60)\n",
    "    \n",
    "    #grouping \n",
    "    df_grouped = temp.groupby(['userid', 'experimentid', 'timestamp']).size()                                         \n",
    "    df_grouped = df_grouped.reset_index(name='touches')\n",
    "    \n",
    "    #appending to a global df\n",
    "    final_data = pd.concat([final_data, df_grouped], ignore_index=True) \n",
    "    #c += 1  #safety loop before the kernel dies out\n",
    "    #if c == 100:\n",
    "    #    break"
   ]
  },
  {
   "cell_type": "code",
   "execution_count": 51,
   "metadata": {},
   "outputs": [
    {
     "data": {
      "text/plain": [
       "<Axes: ylabel='Frequency'>"
      ]
     },
     "execution_count": 51,
     "metadata": {},
     "output_type": "execute_result"
    },
    {
     "data": {
      "image/png": "[encoded data removed]",
      "text/plain": [
       "<Figure size 640x480 with 1 Axes>"
      ]
     },
     "metadata": {},
     "output_type": "display_data"
    }
   ],
   "source": [
    "final_data.touches.plot.hist(bins=200)  "
   ]
  },
  {
   "cell_type": "markdown",
   "metadata": {},
   "source": [
    "# Some methodological reflections. \n",
    "In order to get in one minute 7000 touches you need to tap the screen on average 117 times each second. Which is just impossible. Consider this: \n",
    "- the fastest finger tapping rate was set by Japanese musician Kaoru Watanabe in 2014. He achieved a rate of 13.36 taps per second = 801 per minute.\n",
    "- Prabhshish Singh (at 13) accurately typed letters from A to Z on a mobile phone in just 3 seconds and 44 milliseconds, as confirmed on August 29, 2022, making it about 7.5 touches each second, making it  453 per minute. \n",
    "\n",
    "I'd say not all users here must be world-record breakers, so for now at most 500 touches per minute is a roof that doesn't exclude gamers, but further inspection with statistics will be done."
   ]
  },
  {
   "cell_type": "code",
   "execution_count": 109,
   "metadata": {},
   "outputs": [
    {
     "name": "stdout",
     "output_type": "stream",
     "text": [
      "Outliers belong to: 115 out of 201 of the users\n",
      "Outliers are 21712 out of 1235560 . So: 1.76%\n"
     ]
    }
   ],
   "source": [
    "z = np.abs(stats.zscore(final_data['touches']))\n",
    "threshold = 3  #this is the typical chosen score for outliers\n",
    "outliers = final_data[z > threshold]\n",
    "#print(\"User IDs with outlier observations:\\n\", np.sort(outliers.userid.unique()))\n",
    "print(\"Outliers belong to:\",outliers.userid.unique().shape[0], \"out of\", final_data.userid.unique().shape[0], 'of the users')\n",
    "print(\"Outliers are\", outliers.shape[0], \"out of\", final_data.shape[0], \". So:\",  str(round(outliers.shape[0]/ final_data.shape[0]*100, 2))+'%')\n"
   ]
  },
  {
   "cell_type": "code",
   "execution_count": 61,
   "metadata": {},
   "outputs": [
    {
     "data": {
      "text/html": [
       "<div>\n",
       "<style scoped>\n",
       "    .dataframe tbody tr th:only-of-type {\n",
       "        vertical-align: middle;\n",
       "    }\n",
       "\n",
       "    .dataframe tbody tr th {\n",
       "        vertical-align: top;\n",
       "    }\n",
       "\n",
       "    .dataframe thead th {\n",
       "        text-align: right;\n",
       "    }\n",
       "</style>\n",
       "<table border=\"1\" class=\"dataframe\">\n",
       "  <thead>\n",
       "    <tr style=\"text-align: right;\">\n",
       "      <th></th>\n",
       "      <th>userid</th>\n",
       "      <th>experimentid</th>\n",
       "      <th>timestamp</th>\n",
       "      <th>touches</th>\n",
       "    </tr>\n",
       "  </thead>\n",
       "  <tbody>\n",
       "    <tr>\n",
       "      <th>0</th>\n",
       "      <td>1</td>\n",
       "      <td>wenetItaly</td>\n",
       "      <td>2020-11-22 00:00:00</td>\n",
       "      <td>12</td>\n",
       "    </tr>\n",
       "    <tr>\n",
       "      <th>1</th>\n",
       "      <td>1</td>\n",
       "      <td>wenetItaly</td>\n",
       "      <td>2020-11-22 00:01:00</td>\n",
       "      <td>12</td>\n",
       "    </tr>\n",
       "    <tr>\n",
       "      <th>2</th>\n",
       "      <td>1</td>\n",
       "      <td>wenetItaly</td>\n",
       "      <td>2020-11-22 00:02:00</td>\n",
       "      <td>20</td>\n",
       "    </tr>\n",
       "    <tr>\n",
       "      <th>3</th>\n",
       "      <td>1</td>\n",
       "      <td>wenetItaly</td>\n",
       "      <td>2020-11-22 00:03:00</td>\n",
       "      <td>28</td>\n",
       "    </tr>\n",
       "    <tr>\n",
       "      <th>4</th>\n",
       "      <td>1</td>\n",
       "      <td>wenetItaly</td>\n",
       "      <td>2020-11-22 00:04:00</td>\n",
       "      <td>17</td>\n",
       "    </tr>\n",
       "    <tr>\n",
       "      <th>...</th>\n",
       "      <td>...</td>\n",
       "      <td>...</td>\n",
       "      <td>...</td>\n",
       "      <td>...</td>\n",
       "    </tr>\n",
       "    <tr>\n",
       "      <th>1235555</th>\n",
       "      <td>260</td>\n",
       "      <td>wenetItaly</td>\n",
       "      <td>2020-12-06 20:58:00</td>\n",
       "      <td>29</td>\n",
       "    </tr>\n",
       "    <tr>\n",
       "      <th>1235556</th>\n",
       "      <td>260</td>\n",
       "      <td>wenetItaly</td>\n",
       "      <td>2020-12-06 21:38:00</td>\n",
       "      <td>83</td>\n",
       "    </tr>\n",
       "    <tr>\n",
       "      <th>1235557</th>\n",
       "      <td>260</td>\n",
       "      <td>wenetItaly</td>\n",
       "      <td>2020-12-06 21:39:00</td>\n",
       "      <td>67</td>\n",
       "    </tr>\n",
       "    <tr>\n",
       "      <th>1235558</th>\n",
       "      <td>260</td>\n",
       "      <td>wenetItaly</td>\n",
       "      <td>2020-12-06 21:40:00</td>\n",
       "      <td>120</td>\n",
       "    </tr>\n",
       "    <tr>\n",
       "      <th>1235559</th>\n",
       "      <td>260</td>\n",
       "      <td>wenetItaly</td>\n",
       "      <td>2020-12-06 21:52:00</td>\n",
       "      <td>65</td>\n",
       "    </tr>\n",
       "  </tbody>\n",
       "</table>\n",
       "<p>1235560 rows × 4 columns</p>\n",
       "</div>"
      ],
      "text/plain": [
       "         userid experimentid           timestamp  touches\n",
       "0             1   wenetItaly 2020-11-22 00:00:00       12\n",
       "1             1   wenetItaly 2020-11-22 00:01:00       12\n",
       "2             1   wenetItaly 2020-11-22 00:02:00       20\n",
       "3             1   wenetItaly 2020-11-22 00:03:00       28\n",
       "4             1   wenetItaly 2020-11-22 00:04:00       17\n",
       "...         ...          ...                 ...      ...\n",
       "1235555     260   wenetItaly 2020-12-06 20:58:00       29\n",
       "1235556     260   wenetItaly 2020-12-06 21:38:00       83\n",
       "1235557     260   wenetItaly 2020-12-06 21:39:00       67\n",
       "1235558     260   wenetItaly 2020-12-06 21:40:00      120\n",
       "1235559     260   wenetItaly 2020-12-06 21:52:00       65\n",
       "\n",
       "[1235560 rows x 4 columns]"
      ]
     },
     "execution_count": 61,
     "metadata": {},
     "output_type": "execute_result"
    }
   ],
   "source": [
    "final_data"
   ]
  }
 ],
 "metadata": {
  "accelerator": "GPU",
  "colab": {
   "gpuType": "T4",
   "provenance": []
  },
  "kernelspec": {
   "display_name": "Python 3 (ipykernel)",
   "language": "python",
   "name": "python3"
  },
  "language_info": {
   "codemirror_mode": {
    "name": "ipython",
    "version": 3
   },
   "file_extension": ".py",
   "mimetype": "text/x-python",
   "name": "python",
   "nbconvert_exporter": "python",
   "pygments_lexer": "ipython3",
   "version": "3.11.5"
  }
 },
 "nbformat": 4,
 "nbformat_minor": 4
}
