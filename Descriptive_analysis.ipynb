{
 "cells": [
  {
   "cell_type": "markdown",
   "id": "6d4f7458",
   "metadata": {},
   "source": [
    "## Descriptive Analyses: how are the users using their phone?"
   ]
  },
  {
   "cell_type": "code",
   "execution_count": 2,
   "id": "db632634",
   "metadata": {},
   "outputs": [],
   "source": [
    "import pandas as pd"
   ]
  },
  {
   "cell_type": "code",
   "execution_count": 3,
   "id": "51042660",
   "metadata": {},
   "outputs": [],
   "source": [
    "df = pd.read_csv('Processed Data/by_second_clean.csv')"
   ]
  },
  {
   "cell_type": "code",
   "execution_count": 1,
   "id": "c2c36a4a",
   "metadata": {},
   "outputs": [
    {
     "ename": "NameError",
     "evalue": "name 'final_data' is not defined",
     "output_type": "error",
     "traceback": [
      "\u001b[0;31m---------------------------------------------------------------------------\u001b[0m",
      "\u001b[0;31mNameError\u001b[0m                                 Traceback (most recent call last)",
      "Cell \u001b[0;32mIn[1], line 1\u001b[0m\n\u001b[0;32m----> 1\u001b[0m N \u001b[38;5;241m=\u001b[39m \u001b[38;5;28mlen\u001b[39m(final_data\u001b[38;5;241m.\u001b[39muserid\u001b[38;5;241m.\u001b[39munique())\n\u001b[1;32m      2\u001b[0m Xn \u001b[38;5;241m=\u001b[39m pd\u001b[38;5;241m.\u001b[39mread_csv(\u001b[38;5;124m'\u001b[39m\u001b[38;5;124mProcessed Data/by_second_clean.csv\u001b[39m\u001b[38;5;124m'\u001b[39m)\u001b[38;5;241m.\u001b[39mshape[\u001b[38;5;241m0\u001b[39m]\n\u001b[1;32m      3\u001b[0m XN \u001b[38;5;241m=\u001b[39m \u001b[38;5;241m60\u001b[39m\u001b[38;5;241m*\u001b[39m\u001b[38;5;241m24\u001b[39m\u001b[38;5;241m*\u001b[39m\u001b[38;5;241m14\u001b[39m\u001b[38;5;241m*\u001b[39mN\n",
      "\u001b[0;31mNameError\u001b[0m: name 'final_data' is not defined"
     ]
    }
   ],
   "source": [
    "N = len(df.userid.unique())\n",
    "Xn = df.shape[0]\n",
    "XN = 60*24*14*N\n",
    "S = 60*60*24*14\n",
    "X1n = before.shape[0]\n",
    "print(f'There are {N} students with at least one event registered.')\n",
    "print(f'In total, they have touched the screen at least once for {Xn:,} minutes.')\n",
    "print()\n",
    "print(f'By subtracting the amount of all the minutes they have (minutes x hours x days x users) and the amounts of \\\n",
    "    \\nminutes they have touched the phone at least once, we get:\\n({60} x {24} x {14} x {N:,}) - {Xn:,} =\\n = {XN:,} - {Xn:,} = \\\n",
    "    \\n = {XN-Xn:,}, \\nOr about: { round(((XN-Xn) / (XN))*100, 2)} % of the total minutes we all have.')\n",
    "print(f'The same process can be applied, with more computation, down to the second:\\\n",
    "there are {60}x{60}x{24}x{14} = {S:,} seconds in two weeks, and users have touched their screen for \\\n",
    "')"
   ]
  },
  {
   "cell_type": "code",
   "execution_count": 4,
   "id": "8b0692d2",
   "metadata": {},
   "outputs": [],
   "source": [
    "df = pd.read_csv(\"Processed Data/touch_sensor_Fluve2.csv\")"
   ]
  },
  {
   "cell_type": "code",
   "execution_count": 5,
   "id": "aab17ec3",
   "metadata": {},
   "outputs": [
    {
     "data": {
      "text/html": [
       "<div>\n",
       "<style scoped>\n",
       "    .dataframe tbody tr th:only-of-type {\n",
       "        vertical-align: middle;\n",
       "    }\n",
       "\n",
       "    .dataframe tbody tr th {\n",
       "        vertical-align: top;\n",
       "    }\n",
       "\n",
       "    .dataframe thead th {\n",
       "        text-align: right;\n",
       "    }\n",
       "</style>\n",
       "<table border=\"1\" class=\"dataframe\">\n",
       "  <thead>\n",
       "    <tr style=\"text-align: right;\">\n",
       "      <th></th>\n",
       "      <th>userid</th>\n",
       "      <th>experimentid</th>\n",
       "      <th>timestamp</th>\n",
       "      <th>touches</th>\n",
       "    </tr>\n",
       "  </thead>\n",
       "  <tbody>\n",
       "    <tr>\n",
       "      <th>0</th>\n",
       "      <td>1</td>\n",
       "      <td>wenetItaly</td>\n",
       "      <td>2020-11-12 11:17:00</td>\n",
       "      <td>1</td>\n",
       "    </tr>\n",
       "    <tr>\n",
       "      <th>1</th>\n",
       "      <td>1</td>\n",
       "      <td>wenetItaly</td>\n",
       "      <td>2020-11-12 11:18:00</td>\n",
       "      <td>1</td>\n",
       "    </tr>\n",
       "    <tr>\n",
       "      <th>2</th>\n",
       "      <td>1</td>\n",
       "      <td>wenetItaly</td>\n",
       "      <td>2020-11-12 11:21:00</td>\n",
       "      <td>1</td>\n",
       "    </tr>\n",
       "    <tr>\n",
       "      <th>3</th>\n",
       "      <td>1</td>\n",
       "      <td>wenetItaly</td>\n",
       "      <td>2020-11-12 11:22:00</td>\n",
       "      <td>1</td>\n",
       "    </tr>\n",
       "    <tr>\n",
       "      <th>4</th>\n",
       "      <td>1</td>\n",
       "      <td>wenetItaly</td>\n",
       "      <td>2020-11-12 11:23:00</td>\n",
       "      <td>1</td>\n",
       "    </tr>\n",
       "    <tr>\n",
       "      <th>...</th>\n",
       "      <td>...</td>\n",
       "      <td>...</td>\n",
       "      <td>...</td>\n",
       "      <td>...</td>\n",
       "    </tr>\n",
       "    <tr>\n",
       "      <th>1235531</th>\n",
       "      <td>265</td>\n",
       "      <td>wenetItaly</td>\n",
       "      <td>2020-11-25 17:50:00</td>\n",
       "      <td>1</td>\n",
       "    </tr>\n",
       "    <tr>\n",
       "      <th>1235532</th>\n",
       "      <td>265</td>\n",
       "      <td>wenetItaly</td>\n",
       "      <td>2020-11-25 17:52:00</td>\n",
       "      <td>1</td>\n",
       "    </tr>\n",
       "    <tr>\n",
       "      <th>1235533</th>\n",
       "      <td>265</td>\n",
       "      <td>wenetItaly</td>\n",
       "      <td>2020-11-25 18:00:00</td>\n",
       "      <td>1</td>\n",
       "    </tr>\n",
       "    <tr>\n",
       "      <th>1235534</th>\n",
       "      <td>265</td>\n",
       "      <td>wenetItaly</td>\n",
       "      <td>2020-11-25 18:01:00</td>\n",
       "      <td>1</td>\n",
       "    </tr>\n",
       "    <tr>\n",
       "      <th>1235535</th>\n",
       "      <td>265</td>\n",
       "      <td>wenetItaly</td>\n",
       "      <td>2020-11-25 18:02:00</td>\n",
       "      <td>1</td>\n",
       "    </tr>\n",
       "  </tbody>\n",
       "</table>\n",
       "<p>1235536 rows × 4 columns</p>\n",
       "</div>"
      ],
      "text/plain": [
       "         userid experimentid            timestamp  touches\n",
       "0             1   wenetItaly  2020-11-12 11:17:00        1\n",
       "1             1   wenetItaly  2020-11-12 11:18:00        1\n",
       "2             1   wenetItaly  2020-11-12 11:21:00        1\n",
       "3             1   wenetItaly  2020-11-12 11:22:00        1\n",
       "4             1   wenetItaly  2020-11-12 11:23:00        1\n",
       "...         ...          ...                  ...      ...\n",
       "1235531     265   wenetItaly  2020-11-25 17:50:00        1\n",
       "1235532     265   wenetItaly  2020-11-25 17:52:00        1\n",
       "1235533     265   wenetItaly  2020-11-25 18:00:00        1\n",
       "1235534     265   wenetItaly  2020-11-25 18:01:00        1\n",
       "1235535     265   wenetItaly  2020-11-25 18:02:00        1\n",
       "\n",
       "[1235536 rows x 4 columns]"
      ]
     },
     "execution_count": 5,
     "metadata": {},
     "output_type": "execute_result"
    }
   ],
   "source": [
    "df"
   ]
  },
  {
   "cell_type": "code",
   "execution_count": null,
   "id": "58b2bfa8",
   "metadata": {},
   "outputs": [],
   "source": []
  },
  {
   "cell_type": "code",
   "execution_count": null,
   "id": "fadf3826",
   "metadata": {},
   "outputs": [],
   "source": []
  },
  {
   "cell_type": "code",
   "execution_count": null,
   "id": "e94fb1dc",
   "metadata": {},
   "outputs": [],
   "source": []
  },
  {
   "cell_type": "code",
   "execution_count": null,
   "id": "6a047525",
   "metadata": {},
   "outputs": [],
   "source": []
  },
  {
   "cell_type": "code",
   "execution_count": null,
   "id": "83e9239e",
   "metadata": {},
   "outputs": [],
   "source": []
  }
 ],
 "metadata": {
  "kernelspec": {
   "display_name": "Python 3 (ipykernel)",
   "language": "python",
   "name": "python3"
  },
  "language_info": {
   "codemirror_mode": {
    "name": "ipython",
    "version": 3
   },
   "file_extension": ".py",
   "mimetype": "text/x-python",
   "name": "python",
   "nbconvert_exporter": "python",
   "pygments_lexer": "ipython3",
   "version": "3.11.5"
  }
 },
 "nbformat": 4,
 "nbformat_minor": 5
}
